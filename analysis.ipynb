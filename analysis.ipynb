{
 "cells": [
  {
   "cell_type": "code",
   "execution_count": null,
   "metadata": {},
   "outputs": [],
   "source": [
    "# pip install torch torchvision\n",
    "# pip install transformers"
   ]
  },
  {
   "cell_type": "code",
   "execution_count": 80,
   "metadata": {},
   "outputs": [],
   "source": [
    "import pandas as pd\n",
    "import numpy as np\n",
    "import urllib.parse\n",
    "from collections import Counter\n",
    "import matplotlib.pyplot as plt"
   ]
  },
  {
   "cell_type": "markdown",
   "metadata": {},
   "source": [
    "# 1 investigate dropped paths"
   ]
  },
  {
   "cell_type": "code",
   "execution_count": 8,
   "metadata": {},
   "outputs": [
    {
     "name": "stdout",
     "output_type": "stream",
     "text": [
      "completed paths: 51318\n",
      "abandoned due to restart: 15552\n",
      "abandoned due to timeout: 9323\n"
     ]
    }
   ],
   "source": [
    "#1 investigate dropped paths\n",
    "\n",
    "paths_finished = pd.read_csv('wikispeedia_paths-and-graph\\paths_finished.tsv', sep='\\t', skiprows = 16, header = None, names = ['hashedIpAddress', 'timestamp', 'durationInSec', 'path', 'rating'])\n",
    "paths_unfinished = pd.read_csv('wikispeedia_paths-and-graph\\paths_unfinished.tsv', sep='\\t', skiprows=17, header = None, names = ['hashedIpAddress', 'timestamp', 'durationInSec', 'path', 'target', 'type'])\n",
    "\n",
    "print('completed paths: ' + str(len(paths_finished)))\n",
    "print('abandoned due to restart: ' + str(len(paths_unfinished[paths_unfinished['type'] == 'restart'])))\n",
    "print('abandoned due to timeout: ' + str(len(paths_unfinished[paths_unfinished['type'] == 'timeout'])))"
   ]
  },
  {
   "cell_type": "code",
   "execution_count": 3,
   "metadata": {},
   "outputs": [
    {
     "data": {
      "text/plain": [
       "0.20411323874896645"
      ]
     },
     "execution_count": 3,
     "metadata": {},
     "output_type": "execute_result"
    }
   ],
   "source": [
    "(15552) / (15552 + 9323 + 51318)"
   ]
  },
  {
   "cell_type": "code",
   "execution_count": 4,
   "metadata": {},
   "outputs": [
    {
     "data": {
      "text/html": [
       "<div>\n",
       "<style scoped>\n",
       "    .dataframe tbody tr th:only-of-type {\n",
       "        vertical-align: middle;\n",
       "    }\n",
       "\n",
       "    .dataframe tbody tr th {\n",
       "        vertical-align: top;\n",
       "    }\n",
       "\n",
       "    .dataframe thead th {\n",
       "        text-align: right;\n",
       "    }\n",
       "</style>\n",
       "<table border=\"1\" class=\"dataframe\">\n",
       "  <thead>\n",
       "    <tr style=\"text-align: right;\">\n",
       "      <th></th>\n",
       "      <th>hashedIpAddress</th>\n",
       "      <th>timestamp</th>\n",
       "      <th>durationInSec</th>\n",
       "      <th>path</th>\n",
       "      <th>target</th>\n",
       "      <th>type</th>\n",
       "    </tr>\n",
       "  </thead>\n",
       "  <tbody>\n",
       "    <tr>\n",
       "      <th>0</th>\n",
       "      <td>2426091a53125110</td>\n",
       "      <td>1297054935</td>\n",
       "      <td>1804</td>\n",
       "      <td>Obi-Wan_Kenobi</td>\n",
       "      <td>Microsoft</td>\n",
       "      <td>timeout</td>\n",
       "    </tr>\n",
       "    <tr>\n",
       "      <th>1</th>\n",
       "      <td>26141fd878806294</td>\n",
       "      <td>1297055651</td>\n",
       "      <td>1805</td>\n",
       "      <td>Julius_Caesar</td>\n",
       "      <td>Caracas</td>\n",
       "      <td>timeout</td>\n",
       "    </tr>\n",
       "    <tr>\n",
       "      <th>2</th>\n",
       "      <td>2b015fb8181c48f2</td>\n",
       "      <td>1297090819</td>\n",
       "      <td>1818</td>\n",
       "      <td>Malawi;Democracy;Alexander_the_Great</td>\n",
       "      <td>First_Crusade</td>\n",
       "      <td>timeout</td>\n",
       "    </tr>\n",
       "    <tr>\n",
       "      <th>3</th>\n",
       "      <td>53a53bc244e08a6a</td>\n",
       "      <td>1297094761</td>\n",
       "      <td>49</td>\n",
       "      <td>Paraguay</td>\n",
       "      <td>Mount_St._Helens</td>\n",
       "      <td>restart</td>\n",
       "    </tr>\n",
       "    <tr>\n",
       "      <th>4</th>\n",
       "      <td>53a53bc244e08a6a</td>\n",
       "      <td>1297099105</td>\n",
       "      <td>1808</td>\n",
       "      <td>Paraguay;Bolivia</td>\n",
       "      <td>Mount_St._Helens</td>\n",
       "      <td>timeout</td>\n",
       "    </tr>\n",
       "    <tr>\n",
       "      <th>...</th>\n",
       "      <td>...</td>\n",
       "      <td>...</td>\n",
       "      <td>...</td>\n",
       "      <td>...</td>\n",
       "      <td>...</td>\n",
       "      <td>...</td>\n",
       "    </tr>\n",
       "    <tr>\n",
       "      <th>24870</th>\n",
       "      <td>109ed71f571d86e9</td>\n",
       "      <td>1389787605</td>\n",
       "      <td>180</td>\n",
       "      <td>Franz_Kafka;Tuberculosis;World_Health_Organiza...</td>\n",
       "      <td>Cholera</td>\n",
       "      <td>restart</td>\n",
       "    </tr>\n",
       "    <tr>\n",
       "      <th>24871</th>\n",
       "      <td>232f992e57d43e8d</td>\n",
       "      <td>1389787697</td>\n",
       "      <td>6</td>\n",
       "      <td>Modern_history</td>\n",
       "      <td>Hollandic</td>\n",
       "      <td>restart</td>\n",
       "    </tr>\n",
       "    <tr>\n",
       "      <th>24872</th>\n",
       "      <td>2e09a7224600a7cd</td>\n",
       "      <td>1389798400</td>\n",
       "      <td>1900</td>\n",
       "      <td>Computer_programming;Linguistics;Culture;Popul...</td>\n",
       "      <td>The_Beatles</td>\n",
       "      <td>timeout</td>\n",
       "    </tr>\n",
       "    <tr>\n",
       "      <th>24873</th>\n",
       "      <td>60af9e2138051b96</td>\n",
       "      <td>1389799481</td>\n",
       "      <td>1903</td>\n",
       "      <td>Jamaica;United_Kingdom;World_War_II;Battle_of_...</td>\n",
       "      <td>Alan_Turing</td>\n",
       "      <td>timeout</td>\n",
       "    </tr>\n",
       "    <tr>\n",
       "      <th>24874</th>\n",
       "      <td>1cf0cbb3281049ab</td>\n",
       "      <td>1389822841</td>\n",
       "      <td>352</td>\n",
       "      <td>Mark_Antony;Rome;Tennis;Hawk-Eye;Computer</td>\n",
       "      <td>Feather</td>\n",
       "      <td>restart</td>\n",
       "    </tr>\n",
       "  </tbody>\n",
       "</table>\n",
       "<p>24875 rows × 6 columns</p>\n",
       "</div>"
      ],
      "text/plain": [
       "        hashedIpAddress   timestamp  durationInSec  \\\n",
       "0      2426091a53125110  1297054935           1804   \n",
       "1      26141fd878806294  1297055651           1805   \n",
       "2      2b015fb8181c48f2  1297090819           1818   \n",
       "3      53a53bc244e08a6a  1297094761             49   \n",
       "4      53a53bc244e08a6a  1297099105           1808   \n",
       "...                 ...         ...            ...   \n",
       "24870  109ed71f571d86e9  1389787605            180   \n",
       "24871  232f992e57d43e8d  1389787697              6   \n",
       "24872  2e09a7224600a7cd  1389798400           1900   \n",
       "24873  60af9e2138051b96  1389799481           1903   \n",
       "24874  1cf0cbb3281049ab  1389822841            352   \n",
       "\n",
       "                                                    path            target  \\\n",
       "0                                         Obi-Wan_Kenobi         Microsoft   \n",
       "1                                          Julius_Caesar           Caracas   \n",
       "2                   Malawi;Democracy;Alexander_the_Great     First_Crusade   \n",
       "3                                               Paraguay  Mount_St._Helens   \n",
       "4                                       Paraguay;Bolivia  Mount_St._Helens   \n",
       "...                                                  ...               ...   \n",
       "24870  Franz_Kafka;Tuberculosis;World_Health_Organiza...           Cholera   \n",
       "24871                                     Modern_history         Hollandic   \n",
       "24872  Computer_programming;Linguistics;Culture;Popul...       The_Beatles   \n",
       "24873  Jamaica;United_Kingdom;World_War_II;Battle_of_...       Alan_Turing   \n",
       "24874          Mark_Antony;Rome;Tennis;Hawk-Eye;Computer           Feather   \n",
       "\n",
       "          type  \n",
       "0      timeout  \n",
       "1      timeout  \n",
       "2      timeout  \n",
       "3      restart  \n",
       "4      timeout  \n",
       "...        ...  \n",
       "24870  restart  \n",
       "24871  restart  \n",
       "24872  timeout  \n",
       "24873  timeout  \n",
       "24874  restart  \n",
       "\n",
       "[24875 rows x 6 columns]"
      ]
     },
     "execution_count": 4,
     "metadata": {},
     "output_type": "execute_result"
    }
   ],
   "source": [
    "paths_unfinished"
   ]
  },
  {
   "cell_type": "code",
   "execution_count": 5,
   "metadata": {},
   "outputs": [
    {
     "data": {
      "text/plain": [
       "0d57c8c57d75e2f5    4865\n",
       "473d6ac602c2b198     545\n",
       "7d5624e35c9523ef     292\n",
       "5bb5836b425e6bfe     243\n",
       "6b039e9953cf075e     231\n",
       "                    ... \n",
       "32a15a982d3fb004      31\n",
       "7adef3fc2f414c08      31\n",
       "16f3ba97499b2308      31\n",
       "25abf3566714fd52      31\n",
       "3cc73ae144f4f570      30\n",
       "Name: hashedIpAddress, Length: 100, dtype: int64"
      ]
     },
     "execution_count": 5,
     "metadata": {},
     "output_type": "execute_result"
    }
   ],
   "source": [
    "paths_finished['hashedIpAddress'].value_counts().head(100)"
   ]
  },
  {
   "cell_type": "markdown",
   "metadata": {},
   "source": [
    "# 2. link"
   ]
  },
  {
   "cell_type": "code",
   "execution_count": 37,
   "metadata": {},
   "outputs": [],
   "source": [
    "from urllib.parse import unquote\n",
    "link = pd.read_csv('wikispeedia_paths-and-graph\\links.tsv', sep='\\t', skiprows=12, header = None, names = ['linkSource','linkTarget'])\n",
    "#Article names are URL-encoded,so it needs to be decoded\n",
    "link[['linkSource', 'linkTarget']] = link[['linkSource', 'linkTarget']].applymap(unquote)"
   ]
  },
  {
   "cell_type": "code",
   "execution_count": 12,
   "metadata": {},
   "outputs": [
    {
     "data": {
      "text/html": [
       "<div>\n",
       "<style scoped>\n",
       "    .dataframe tbody tr th:only-of-type {\n",
       "        vertical-align: middle;\n",
       "    }\n",
       "\n",
       "    .dataframe tbody tr th {\n",
       "        vertical-align: top;\n",
       "    }\n",
       "\n",
       "    .dataframe thead th {\n",
       "        text-align: right;\n",
       "    }\n",
       "</style>\n",
       "<table border=\"1\" class=\"dataframe\">\n",
       "  <thead>\n",
       "    <tr style=\"text-align: right;\">\n",
       "      <th></th>\n",
       "      <th>linkSource</th>\n",
       "      <th>linkTarget</th>\n",
       "    </tr>\n",
       "  </thead>\n",
       "  <tbody>\n",
       "    <tr>\n",
       "      <th>0</th>\n",
       "      <td>Áedán_mac_Gabráin</td>\n",
       "      <td>Bede</td>\n",
       "    </tr>\n",
       "    <tr>\n",
       "      <th>1</th>\n",
       "      <td>Áedán_mac_Gabráin</td>\n",
       "      <td>Columba</td>\n",
       "    </tr>\n",
       "    <tr>\n",
       "      <th>2</th>\n",
       "      <td>Áedán_mac_Gabráin</td>\n",
       "      <td>Dál_Riata</td>\n",
       "    </tr>\n",
       "    <tr>\n",
       "      <th>3</th>\n",
       "      <td>Áedán_mac_Gabráin</td>\n",
       "      <td>Great_Britain</td>\n",
       "    </tr>\n",
       "    <tr>\n",
       "      <th>4</th>\n",
       "      <td>Áedán_mac_Gabráin</td>\n",
       "      <td>Ireland</td>\n",
       "    </tr>\n",
       "    <tr>\n",
       "      <th>...</th>\n",
       "      <td>...</td>\n",
       "      <td>...</td>\n",
       "    </tr>\n",
       "    <tr>\n",
       "      <th>119877</th>\n",
       "      <td>Zulu</td>\n",
       "      <td>South_Africa</td>\n",
       "    </tr>\n",
       "    <tr>\n",
       "      <th>119878</th>\n",
       "      <td>Zulu</td>\n",
       "      <td>Swaziland</td>\n",
       "    </tr>\n",
       "    <tr>\n",
       "      <th>119879</th>\n",
       "      <td>Zulu</td>\n",
       "      <td>United_Kingdom</td>\n",
       "    </tr>\n",
       "    <tr>\n",
       "      <th>119880</th>\n",
       "      <td>Zulu</td>\n",
       "      <td>Zambia</td>\n",
       "    </tr>\n",
       "    <tr>\n",
       "      <th>119881</th>\n",
       "      <td>Zulu</td>\n",
       "      <td>Zimbabwe</td>\n",
       "    </tr>\n",
       "  </tbody>\n",
       "</table>\n",
       "<p>119882 rows × 2 columns</p>\n",
       "</div>"
      ],
      "text/plain": [
       "               linkSource      linkTarget\n",
       "0       Áedán_mac_Gabráin            Bede\n",
       "1       Áedán_mac_Gabráin         Columba\n",
       "2       Áedán_mac_Gabráin       Dál_Riata\n",
       "3       Áedán_mac_Gabráin   Great_Britain\n",
       "4       Áedán_mac_Gabráin         Ireland\n",
       "...                   ...             ...\n",
       "119877               Zulu    South_Africa\n",
       "119878               Zulu       Swaziland\n",
       "119879               Zulu  United_Kingdom\n",
       "119880               Zulu          Zambia\n",
       "119881               Zulu        Zimbabwe\n",
       "\n",
       "[119882 rows x 2 columns]"
      ]
     },
     "execution_count": 12,
     "metadata": {},
     "output_type": "execute_result"
    }
   ],
   "source": [
    "link"
   ]
  },
  {
   "cell_type": "code",
   "execution_count": 13,
   "metadata": {},
   "outputs": [
    {
     "name": "stdout",
     "output_type": "stream",
     "text": [
      "linkSource    0\n",
      "linkTarget    0\n",
      "dtype: int64\n"
     ]
    }
   ],
   "source": [
    "#No missing values\n",
    "missing_values = link.isnull().sum()\n",
    "print(missing_values)"
   ]
  },
  {
   "cell_type": "markdown",
   "metadata": {},
   "source": [
    "Counting the most frequent articles"
   ]
  },
  {
   "cell_type": "code",
   "execution_count": 17,
   "metadata": {},
   "outputs": [
    {
     "data": {
      "text/plain": [
       "United_States                     294\n",
       "Driving_on_the_left_or_right      255\n",
       "List_of_countries                 244\n",
       "List_of_circulating_currencies    236\n",
       "List_of_sovereign_states          216\n",
       "                                 ... \n",
       "Lighting_designer                   1\n",
       "Soil_structure                      1\n",
       "Pro_Milone                          1\n",
       "Soil_profile                        1\n",
       "Human_dignity                       1\n",
       "Name: linkSource, Length: 4587, dtype: int64"
      ]
     },
     "execution_count": 17,
     "metadata": {},
     "output_type": "execute_result"
    }
   ],
   "source": [
    "source_frequency = link['linkSource'].value_counts()\n",
    "source_frequency"
   ]
  },
  {
   "cell_type": "code",
   "execution_count": 16,
   "metadata": {},
   "outputs": [
    {
     "data": {
      "text/plain": [
       "United_States                  1551\n",
       "United_Kingdom                  972\n",
       "France                          959\n",
       "Europe                          933\n",
       "England                         751\n",
       "                               ... \n",
       "History_of_Greenland              1\n",
       "History_of_Arizona                1\n",
       "History_of_Alaska                 1\n",
       "Ateneo_de_Manila_University       1\n",
       "Plains_Zebra                      1\n",
       "Name: linkTarget, Length: 4135, dtype: int64"
      ]
     },
     "execution_count": 16,
     "metadata": {},
     "output_type": "execute_result"
    }
   ],
   "source": [
    "target_frequency = link['linkTarget'].value_counts()\n",
    "target_frequency"
   ]
  },
  {
   "cell_type": "code",
   "execution_count": 20,
   "metadata": {},
   "outputs": [
    {
     "data": {
      "text/html": [
       "<div>\n",
       "<style scoped>\n",
       "    .dataframe tbody tr th:only-of-type {\n",
       "        vertical-align: middle;\n",
       "    }\n",
       "\n",
       "    .dataframe tbody tr th {\n",
       "        vertical-align: top;\n",
       "    }\n",
       "\n",
       "    .dataframe thead th {\n",
       "        text-align: right;\n",
       "    }\n",
       "</style>\n",
       "<table border=\"1\" class=\"dataframe\">\n",
       "  <thead>\n",
       "    <tr style=\"text-align: right;\">\n",
       "      <th></th>\n",
       "      <th>source_count</th>\n",
       "      <th>target_count</th>\n",
       "      <th>total_count</th>\n",
       "    </tr>\n",
       "  </thead>\n",
       "  <tbody>\n",
       "    <tr>\n",
       "      <th>United_States</th>\n",
       "      <td>294.0</td>\n",
       "      <td>1551.0</td>\n",
       "      <td>1845.0</td>\n",
       "    </tr>\n",
       "    <tr>\n",
       "      <th>Driving_on_the_left_or_right</th>\n",
       "      <td>255.0</td>\n",
       "      <td>0.0</td>\n",
       "      <td>255.0</td>\n",
       "    </tr>\n",
       "    <tr>\n",
       "      <th>List_of_countries</th>\n",
       "      <td>244.0</td>\n",
       "      <td>63.0</td>\n",
       "      <td>307.0</td>\n",
       "    </tr>\n",
       "    <tr>\n",
       "      <th>List_of_circulating_currencies</th>\n",
       "      <td>236.0</td>\n",
       "      <td>8.0</td>\n",
       "      <td>244.0</td>\n",
       "    </tr>\n",
       "    <tr>\n",
       "      <th>List_of_sovereign_states</th>\n",
       "      <td>216.0</td>\n",
       "      <td>43.0</td>\n",
       "      <td>259.0</td>\n",
       "    </tr>\n",
       "    <tr>\n",
       "      <th>...</th>\n",
       "      <td>...</td>\n",
       "      <td>...</td>\n",
       "      <td>...</td>\n",
       "    </tr>\n",
       "    <tr>\n",
       "      <th>Osteomalacia</th>\n",
       "      <td>0.0</td>\n",
       "      <td>3.0</td>\n",
       "      <td>3.0</td>\n",
       "    </tr>\n",
       "    <tr>\n",
       "      <th>Directdebit</th>\n",
       "      <td>0.0</td>\n",
       "      <td>2.0</td>\n",
       "      <td>2.0</td>\n",
       "    </tr>\n",
       "    <tr>\n",
       "      <th>Duchenne_muscular_dystrophy</th>\n",
       "      <td>0.0</td>\n",
       "      <td>1.0</td>\n",
       "      <td>1.0</td>\n",
       "    </tr>\n",
       "    <tr>\n",
       "      <th>Klinefelter's_syndrome</th>\n",
       "      <td>0.0</td>\n",
       "      <td>1.0</td>\n",
       "      <td>1.0</td>\n",
       "    </tr>\n",
       "    <tr>\n",
       "      <th>Local_community</th>\n",
       "      <td>0.0</td>\n",
       "      <td>1.0</td>\n",
       "      <td>1.0</td>\n",
       "    </tr>\n",
       "  </tbody>\n",
       "</table>\n",
       "<p>4592 rows × 3 columns</p>\n",
       "</div>"
      ],
      "text/plain": [
       "                                source_count  target_count  total_count\n",
       "United_States                          294.0        1551.0       1845.0\n",
       "Driving_on_the_left_or_right           255.0           0.0        255.0\n",
       "List_of_countries                      244.0          63.0        307.0\n",
       "List_of_circulating_currencies         236.0           8.0        244.0\n",
       "List_of_sovereign_states               216.0          43.0        259.0\n",
       "...                                      ...           ...          ...\n",
       "Osteomalacia                             0.0           3.0          3.0\n",
       "Directdebit                              0.0           2.0          2.0\n",
       "Duchenne_muscular_dystrophy              0.0           1.0          1.0\n",
       "Klinefelter's_syndrome                   0.0           1.0          1.0\n",
       "Local_community                          0.0           1.0          1.0\n",
       "\n",
       "[4592 rows x 3 columns]"
      ]
     },
     "execution_count": 20,
     "metadata": {},
     "output_type": "execute_result"
    }
   ],
   "source": [
    "hot_articles = pd.concat([source_frequency, target_frequency], axis=1, sort=False)\n",
    "hot_articles.columns = ['source_count', 'target_count']\n",
    "hot_articles = hot_articles.fillna(0) \n",
    "hot_articles['total_count'] = hot_articles['source_count'] + hot_articles['target_count']\n",
    "hot_articles.to_csv('hot_articles.csv', header=True)\n",
    "hot_articles"
   ]
  },
  {
   "cell_type": "code",
   "execution_count": 26,
   "metadata": {},
   "outputs": [
    {
     "data": {
      "image/png": "[encoded data removed]",
      "text/plain": [
       "<Figure size 800x600 with 1 Axes>"
      ]
     },
     "metadata": {},
     "output_type": "display_data"
    }
   ],
   "source": [
    "top_articles = hot_articles.sort_values(by='total_count', ascending=False).head(20)\n",
    "\n",
    "plt.figure(figsize=(8, 6))\n",
    "top_articles['total_count'].plot(kind='bar')\n",
    "plt.title('Top 20 Articles by Total Reference Frequency')\n",
    "plt.xlabel('Articles')\n",
    "plt.ylabel('Total Frequency of References')\n",
    "plt.xticks(rotation=90) \n",
    "plt.show()"
   ]
  },
  {
   "cell_type": "markdown",
   "metadata": {},
   "source": [
    "# 3.Categories"
   ]
  },
  {
   "cell_type": "code",
   "execution_count": 30,
   "metadata": {},
   "outputs": [
    {
     "data": {
      "text/html": [
       "<div>\n",
       "<style scoped>\n",
       "    .dataframe tbody tr th:only-of-type {\n",
       "        vertical-align: middle;\n",
       "    }\n",
       "\n",
       "    .dataframe tbody tr th {\n",
       "        vertical-align: top;\n",
       "    }\n",
       "\n",
       "    .dataframe thead th {\n",
       "        text-align: right;\n",
       "    }\n",
       "</style>\n",
       "<table border=\"1\" class=\"dataframe\">\n",
       "  <thead>\n",
       "    <tr style=\"text-align: right;\">\n",
       "      <th></th>\n",
       "      <th>article</th>\n",
       "      <th>category</th>\n",
       "    </tr>\n",
       "  </thead>\n",
       "  <tbody>\n",
       "    <tr>\n",
       "      <th>0</th>\n",
       "      <td>Áedán_mac_Gabráin</td>\n",
       "      <td>subject.History.British_History.British_Histor...</td>\n",
       "    </tr>\n",
       "    <tr>\n",
       "      <th>1</th>\n",
       "      <td>Áedán_mac_Gabráin</td>\n",
       "      <td>subject.People.Historical_figures</td>\n",
       "    </tr>\n",
       "    <tr>\n",
       "      <th>2</th>\n",
       "      <td>Åland</td>\n",
       "      <td>subject.Countries</td>\n",
       "    </tr>\n",
       "    <tr>\n",
       "      <th>3</th>\n",
       "      <td>Åland</td>\n",
       "      <td>subject.Geography.European_Geography.European_...</td>\n",
       "    </tr>\n",
       "    <tr>\n",
       "      <th>4</th>\n",
       "      <td>Édouard_Manet</td>\n",
       "      <td>subject.People.Artists</td>\n",
       "    </tr>\n",
       "    <tr>\n",
       "      <th>...</th>\n",
       "      <td>...</td>\n",
       "      <td>...</td>\n",
       "    </tr>\n",
       "    <tr>\n",
       "      <th>5199</th>\n",
       "      <td>Zirconium</td>\n",
       "      <td>subject.Science.Chemistry.Chemical_elements</td>\n",
       "    </tr>\n",
       "    <tr>\n",
       "      <th>5200</th>\n",
       "      <td>Zoroaster</td>\n",
       "      <td>subject.People.Religious_figures_and_leaders</td>\n",
       "    </tr>\n",
       "    <tr>\n",
       "      <th>5201</th>\n",
       "      <td>Zuid-Gelders</td>\n",
       "      <td>subject.Geography.European_Geography</td>\n",
       "    </tr>\n",
       "    <tr>\n",
       "      <th>5202</th>\n",
       "      <td>Zuid-Gelders</td>\n",
       "      <td>subject.Language_and_literature.Languages</td>\n",
       "    </tr>\n",
       "    <tr>\n",
       "      <th>5203</th>\n",
       "      <td>Zulu</td>\n",
       "      <td>subject.Geography.African_Geography</td>\n",
       "    </tr>\n",
       "  </tbody>\n",
       "</table>\n",
       "<p>5204 rows × 2 columns</p>\n",
       "</div>"
      ],
      "text/plain": [
       "                article                                           category\n",
       "0     Áedán_mac_Gabráin  subject.History.British_History.British_Histor...\n",
       "1     Áedán_mac_Gabráin                  subject.People.Historical_figures\n",
       "2                 Åland                                  subject.Countries\n",
       "3                 Åland  subject.Geography.European_Geography.European_...\n",
       "4         Édouard_Manet                             subject.People.Artists\n",
       "...                 ...                                                ...\n",
       "5199          Zirconium        subject.Science.Chemistry.Chemical_elements\n",
       "5200          Zoroaster       subject.People.Religious_figures_and_leaders\n",
       "5201       Zuid-Gelders               subject.Geography.European_Geography\n",
       "5202       Zuid-Gelders          subject.Language_and_literature.Languages\n",
       "5203               Zulu                subject.Geography.African_Geography\n",
       "\n",
       "[5204 rows x 2 columns]"
      ]
     },
     "execution_count": 30,
     "metadata": {},
     "output_type": "execute_result"
    }
   ],
   "source": [
    "categories = pd.read_csv('wikispeedia_paths-and-graph\\categories.tsv', sep='\\t', skiprows=13, header = None, names = ['article','category'])\n",
    "categories[['article', 'category']] = categories[['article', 'category']].applymap(unquote)\n",
    "categories"
   ]
  },
  {
   "cell_type": "code",
   "execution_count": 34,
   "metadata": {},
   "outputs": [
    {
     "data": {
      "image/png": "[encoded data removed]",
      "text/plain": [
       "<Figure size 600x400 with 1 Axes>"
      ]
     },
     "metadata": {},
     "output_type": "display_data"
    }
   ],
   "source": [
    "category_counts = categories['category'].value_counts()\n",
    "top_categories = category_counts.head(20)\n",
    "\n",
    "plt.figure(figsize=(6, 4))\n",
    "top_categories.plot(kind='bar')\n",
    "plt.title('Top 20 Most Frequent Categories')\n",
    "plt.xlabel('Category')\n",
    "plt.ylabel('Number of Articles')\n",
    "plt.xticks(rotation=90)  \n",
    "plt.show()"
   ]
  },
  {
   "cell_type": "code",
   "execution_count": 36,
   "metadata": {},
   "outputs": [
    {
     "data": {
      "image/png": "[encoded data removed]",
      "text/plain": [
       "<Figure size 600x400 with 1 Axes>"
      ]
     },
     "metadata": {},
     "output_type": "display_data"
    }
   ],
   "source": [
    "# Split each category string, skip the first part (\"subject\"), and take the second part as the main category.\n",
    "categories['main_category'] = categories['category'].apply(lambda x: x.split('.')[1] if len(x.split('.')) > 1 else x)\n",
    "\n",
    "# Calculate the number of articles for each main category.\n",
    "main_category_counts = categories['main_category'].value_counts()\n",
    "\n",
    "top_main_categories = main_category_counts.head(20)\n",
    "\n",
    "plt.figure(figsize=(6, 4))\n",
    "top_main_categories.plot(kind='bar')\n",
    "plt.title('Top 20 Most Frequent Main Categories')\n",
    "plt.xlabel('Main Category')\n",
    "plt.ylabel('Number of Articles')\n",
    "plt.xticks(rotation=90)  \n",
    "plt.show()"
   ]
  },
  {
   "cell_type": "markdown",
   "metadata": {},
   "source": [
    "# 4. Path Finished"
   ]
  },
  {
   "cell_type": "code",
   "execution_count": 76,
   "metadata": {},
   "outputs": [],
   "source": [
    "DATA_FOLDER = 'wikispeedia_datasets/wikispeedia_paths-and-graph/'"
   ]
  },
  {
   "cell_type": "code",
   "execution_count": 77,
   "metadata": {},
   "outputs": [],
   "source": [
    "paths_finished = pd.read_csv(DATA_FOLDER + 'paths_finished.tsv', sep='\\t', skiprows = 16, header = None, names = ['hashedIpAddress', 'timestamp', 'durationInSec', 'path', 'rating'])"
   ]
  },
  {
   "cell_type": "code",
   "execution_count": 78,
   "metadata": {},
   "outputs": [
    {
     "data": {
      "text/html": [
       "<div>\n",
       "<style scoped>\n",
       "    .dataframe tbody tr th:only-of-type {\n",
       "        vertical-align: middle;\n",
       "    }\n",
       "\n",
       "    .dataframe tbody tr th {\n",
       "        vertical-align: top;\n",
       "    }\n",
       "\n",
       "    .dataframe thead th {\n",
       "        text-align: right;\n",
       "    }\n",
       "</style>\n",
       "<table border=\"1\" class=\"dataframe\">\n",
       "  <thead>\n",
       "    <tr style=\"text-align: right;\">\n",
       "      <th></th>\n",
       "      <th>hashedIpAddress</th>\n",
       "      <th>timestamp</th>\n",
       "      <th>durationInSec</th>\n",
       "      <th>path</th>\n",
       "      <th>rating</th>\n",
       "    </tr>\n",
       "  </thead>\n",
       "  <tbody>\n",
       "    <tr>\n",
       "      <th>0</th>\n",
       "      <td>6a3701d319fc3754</td>\n",
       "      <td>1297740409</td>\n",
       "      <td>166</td>\n",
       "      <td>14th_century;15th_century;16th_century;Pacific...</td>\n",
       "      <td>NaN</td>\n",
       "    </tr>\n",
       "    <tr>\n",
       "      <th>1</th>\n",
       "      <td>3824310e536af032</td>\n",
       "      <td>1344753412</td>\n",
       "      <td>88</td>\n",
       "      <td>14th_century;Europe;Africa;Atlantic_slave_trad...</td>\n",
       "      <td>3.0</td>\n",
       "    </tr>\n",
       "    <tr>\n",
       "      <th>2</th>\n",
       "      <td>415612e93584d30e</td>\n",
       "      <td>1349298640</td>\n",
       "      <td>138</td>\n",
       "      <td>14th_century;Niger;Nigeria;British_Empire;Slav...</td>\n",
       "      <td>NaN</td>\n",
       "    </tr>\n",
       "    <tr>\n",
       "      <th>3</th>\n",
       "      <td>64dd5cd342e3780c</td>\n",
       "      <td>1265613925</td>\n",
       "      <td>37</td>\n",
       "      <td>14th_century;Renaissance;Ancient_Greece;Greece</td>\n",
       "      <td>NaN</td>\n",
       "    </tr>\n",
       "    <tr>\n",
       "      <th>4</th>\n",
       "      <td>015245d773376aab</td>\n",
       "      <td>1366730828</td>\n",
       "      <td>175</td>\n",
       "      <td>14th_century;Italy;Roman_Catholic_Church;HIV;R...</td>\n",
       "      <td>3.0</td>\n",
       "    </tr>\n",
       "    <tr>\n",
       "      <th>...</th>\n",
       "      <td>...</td>\n",
       "      <td>...</td>\n",
       "      <td>...</td>\n",
       "      <td>...</td>\n",
       "      <td>...</td>\n",
       "    </tr>\n",
       "    <tr>\n",
       "      <th>51313</th>\n",
       "      <td>15a13a1d66ef5456</td>\n",
       "      <td>1349231015</td>\n",
       "      <td>66</td>\n",
       "      <td>Yagan;Ancient_Egypt;Civilization</td>\n",
       "      <td>NaN</td>\n",
       "    </tr>\n",
       "    <tr>\n",
       "      <th>51314</th>\n",
       "      <td>2ef7ac844cefda58</td>\n",
       "      <td>1300254138</td>\n",
       "      <td>165</td>\n",
       "      <td>Yagan;Folklore;Brothers_Grimm;&lt;;19th_century;C...</td>\n",
       "      <td>3.0</td>\n",
       "    </tr>\n",
       "    <tr>\n",
       "      <th>51315</th>\n",
       "      <td>12863abb7887f890</td>\n",
       "      <td>1385095372</td>\n",
       "      <td>228</td>\n",
       "      <td>Yagan;Australia;England;France;United_States;T...</td>\n",
       "      <td>NaN</td>\n",
       "    </tr>\n",
       "    <tr>\n",
       "      <th>51316</th>\n",
       "      <td>19f8284371753362</td>\n",
       "      <td>1298792567</td>\n",
       "      <td>56</td>\n",
       "      <td>Yarralumla%2C_Australian_Capital_Territory;Aus...</td>\n",
       "      <td>1.0</td>\n",
       "    </tr>\n",
       "    <tr>\n",
       "      <th>51317</th>\n",
       "      <td>24b84602179de377</td>\n",
       "      <td>1318122701</td>\n",
       "      <td>30</td>\n",
       "      <td>Ziad_Jarrah;Germany;Jew</td>\n",
       "      <td>NaN</td>\n",
       "    </tr>\n",
       "  </tbody>\n",
       "</table>\n",
       "<p>51318 rows × 5 columns</p>\n",
       "</div>"
      ],
      "text/plain": [
       "        hashedIpAddress   timestamp  durationInSec  \\\n",
       "0      6a3701d319fc3754  1297740409            166   \n",
       "1      3824310e536af032  1344753412             88   \n",
       "2      415612e93584d30e  1349298640            138   \n",
       "3      64dd5cd342e3780c  1265613925             37   \n",
       "4      015245d773376aab  1366730828            175   \n",
       "...                 ...         ...            ...   \n",
       "51313  15a13a1d66ef5456  1349231015             66   \n",
       "51314  2ef7ac844cefda58  1300254138            165   \n",
       "51315  12863abb7887f890  1385095372            228   \n",
       "51316  19f8284371753362  1298792567             56   \n",
       "51317  24b84602179de377  1318122701             30   \n",
       "\n",
       "                                                    path  rating  \n",
       "0      14th_century;15th_century;16th_century;Pacific...     NaN  \n",
       "1      14th_century;Europe;Africa;Atlantic_slave_trad...     3.0  \n",
       "2      14th_century;Niger;Nigeria;British_Empire;Slav...     NaN  \n",
       "3         14th_century;Renaissance;Ancient_Greece;Greece     NaN  \n",
       "4      14th_century;Italy;Roman_Catholic_Church;HIV;R...     3.0  \n",
       "...                                                  ...     ...  \n",
       "51313                   Yagan;Ancient_Egypt;Civilization     NaN  \n",
       "51314  Yagan;Folklore;Brothers_Grimm;<;19th_century;C...     3.0  \n",
       "51315  Yagan;Australia;England;France;United_States;T...     NaN  \n",
       "51316  Yarralumla%2C_Australian_Capital_Territory;Aus...     1.0  \n",
       "51317                            Ziad_Jarrah;Germany;Jew     NaN  \n",
       "\n",
       "[51318 rows x 5 columns]"
      ]
     },
     "execution_count": 78,
     "metadata": {},
     "output_type": "execute_result"
    }
   ],
   "source": [
    "paths_finished"
   ]
  },
  {
   "cell_type": "code",
   "execution_count": 79,
   "metadata": {},
   "outputs": [],
   "source": [
    "split_data = paths_finished['path'].str.split(';')"
   ]
  },
  {
   "cell_type": "code",
   "execution_count": 17,
   "metadata": {},
   "outputs": [
    {
     "data": {
      "text/plain": [
       "0        [14th_century, 15th_century, 16th_century, Pac...\n",
       "1        [14th_century, Europe, Africa, Atlantic_slave_...\n",
       "2        [14th_century, Niger, Nigeria, British_Empire,...\n",
       "3        [14th_century, Renaissance, Ancient_Greece, Gr...\n",
       "4        [14th_century, Italy, Roman_Catholic_Church, H...\n",
       "                               ...                        \n",
       "51313                 [Yagan, Ancient_Egypt, Civilization]\n",
       "51314    [Yagan, Folklore, Brothers_Grimm, <, 19th_cent...\n",
       "51315    [Yagan, Australia, England, France, United_Sta...\n",
       "51316    [Yarralumla%2C_Australian_Capital_Territory, A...\n",
       "51317                          [Ziad_Jarrah, Germany, Jew]\n",
       "Name: path, Length: 51318, dtype: object"
      ]
     },
     "execution_count": 17,
     "metadata": {},
     "output_type": "execute_result"
    }
   ],
   "source": [
    "split_data"
   ]
  },
  {
   "cell_type": "code",
   "execution_count": 105,
   "metadata": {},
   "outputs": [],
   "source": [
    "def decode_list(url_encoded_list):\n",
    "    \"\"\"Decodes url_encoded path.\"\"\"\n",
    "    return [urllib.parse.unquote(element).replace(',', '') for element in url_encoded_list]"
   ]
  },
  {
   "cell_type": "code",
   "execution_count": 111,
   "metadata": {},
   "outputs": [],
   "source": [
    "split_data = split_data.apply(decode_list)"
   ]
  },
  {
   "cell_type": "code",
   "execution_count": 112,
   "metadata": {},
   "outputs": [],
   "source": [
    "paths_finished['source'] = split_data.apply(lambda x: x[0])\n",
    "paths_finished['target'] = split_data.apply(lambda x: x[-1])"
   ]
  },
  {
   "cell_type": "code",
   "execution_count": 113,
   "metadata": {},
   "outputs": [],
   "source": [
    "paths_finished['middle'] = split_data.apply(lambda x: x[1:-1])"
   ]
  },
  {
   "cell_type": "code",
   "execution_count": 114,
   "metadata": {},
   "outputs": [],
   "source": [
    "flattened_middle = [item for sublist in paths_finished['middle'] for item in sublist]"
   ]
  },
  {
   "cell_type": "code",
   "execution_count": 115,
   "metadata": {},
   "outputs": [
    {
     "data": {
      "text/plain": [
       "244153"
      ]
     },
     "execution_count": 115,
     "metadata": {},
     "output_type": "execute_result"
    }
   ],
   "source": [
    "len(flattened_middle)"
   ]
  },
  {
   "cell_type": "code",
   "execution_count": 116,
   "metadata": {},
   "outputs": [
    {
     "data": {
      "text/plain": [
       "[('<', 20561),\n",
       " ('United_States', 8824),\n",
       " ('Europe', 4319),\n",
       " ('United_Kingdom', 3860),\n",
       " ('Earth', 3153),\n",
       " ('England', 3123),\n",
       " ('Africa', 2693),\n",
       " ('World_War_II', 2225),\n",
       " ('North_America', 1804),\n",
       " ('Germany', 1676),\n",
       " ('Animal', 1659),\n",
       " ('Mammal', 1584),\n",
       " ('Human', 1580),\n",
       " ('France', 1573),\n",
       " ('Science', 1438),\n",
       " ('English_language', 1359),\n",
       " ('Periodic_table', 1351),\n",
       " ('Computer', 1325),\n",
       " ('Atlantic_Ocean', 1281),\n",
       " ('India', 1188),\n",
       " ('Agriculture', 1147),\n",
       " ('Asia', 1135),\n",
       " ('Plant', 1134),\n",
       " ('United_Nations', 1035),\n",
       " ('Christianity', 1004),\n",
       " ('Japan', 978),\n",
       " ('Internet', 950),\n",
       " ('Australia', 935),\n",
       " ('China', 933),\n",
       " ('Russia', 919)]"
      ]
     },
     "execution_count": 116,
     "metadata": {},
     "output_type": "execute_result"
    }
   ],
   "source": [
    "# most common articles in the middle (excluding source and target)\n",
    "Counter(flattened_middle).most_common(30)"
   ]
  },
  {
   "cell_type": "code",
   "execution_count": 22,
   "metadata": {},
   "outputs": [
    {
     "data": {
      "text/plain": [
       "Brain       1092\n",
       "Asteroid    1059\n",
       "Theatre      931\n",
       "Pyramid      674\n",
       "Batman       602\n",
       "Bird         275\n",
       "Cat          226\n",
       "Dog          175\n",
       "Jesus        145\n",
       "Beer         135\n",
       "Name: source, dtype: int64"
      ]
     },
     "execution_count": 22,
     "metadata": {},
     "output_type": "execute_result"
    }
   ],
   "source": [
    "# most popular source\n",
    "paths_finished['source'].value_counts().head(10)"
   ]
  },
  {
   "cell_type": "code",
   "execution_count": 23,
   "metadata": {},
   "outputs": [
    {
     "data": {
      "text/plain": [
       "Telephone            1134\n",
       "Viking               1071\n",
       "Zebra                 955\n",
       "Bean                  673\n",
       "Adolf_Hitler          603\n",
       "Sun                   218\n",
       "God                   200\n",
       "Jesus                 197\n",
       "Wood                  185\n",
       "Great_white_shark     184\n",
       "Name: target, dtype: int64"
      ]
     },
     "execution_count": 23,
     "metadata": {},
     "output_type": "execute_result"
    }
   ],
   "source": [
    "# most popular target\n",
    "paths_finished['target'].value_counts().head(10)"
   ]
  },
  {
   "cell_type": "code",
   "execution_count": 32,
   "metadata": {},
   "outputs": [],
   "source": [
    "paths_finished['source_target'] = paths_finished['source'] + '_' + paths_finished['target']"
   ]
  },
  {
   "cell_type": "code",
   "execution_count": 35,
   "metadata": {},
   "outputs": [
    {
     "data": {
      "text/plain": [
       "Asteroid_Viking           1043\n",
       "Brain_Telephone           1040\n",
       "Theatre_Zebra              905\n",
       "Pyramid_Bean               642\n",
       "Batman_Wood                148\n",
       "Bird_Great_white_shark     138\n",
       "Batman_The_Holocaust       119\n",
       "Bird_Adolf_Hitler          107\n",
       "Beer_Sun                    99\n",
       "Batman_Banana               69\n",
       "Name: source_target, dtype: int64"
      ]
     },
     "execution_count": 35,
     "metadata": {},
     "output_type": "execute_result"
    }
   ],
   "source": [
    "# most popular source-target combination\n",
    "paths_finished['source_target'].value_counts().head(10)"
   ]
  },
  {
   "cell_type": "code",
   "execution_count": 117,
   "metadata": {},
   "outputs": [],
   "source": [
    "paths_finished['path_steps'] = split_data.apply(lambda x: len(x) - 1)"
   ]
  },
  {
   "cell_type": "code",
   "execution_count": 118,
   "metadata": {},
   "outputs": [
    {
     "data": {
      "text/html": [
       "<div>\n",
       "<style scoped>\n",
       "    .dataframe tbody tr th:only-of-type {\n",
       "        vertical-align: middle;\n",
       "    }\n",
       "\n",
       "    .dataframe tbody tr th {\n",
       "        vertical-align: top;\n",
       "    }\n",
       "\n",
       "    .dataframe thead th {\n",
       "        text-align: right;\n",
       "    }\n",
       "</style>\n",
       "<table border=\"1\" class=\"dataframe\">\n",
       "  <thead>\n",
       "    <tr style=\"text-align: right;\">\n",
       "      <th></th>\n",
       "      <th>hashedIpAddress</th>\n",
       "      <th>timestamp</th>\n",
       "      <th>durationInSec</th>\n",
       "      <th>path</th>\n",
       "      <th>rating</th>\n",
       "      <th>source</th>\n",
       "      <th>target</th>\n",
       "      <th>middle</th>\n",
       "      <th>path_steps</th>\n",
       "    </tr>\n",
       "  </thead>\n",
       "  <tbody>\n",
       "    <tr>\n",
       "      <th>0</th>\n",
       "      <td>6a3701d319fc3754</td>\n",
       "      <td>1297740409</td>\n",
       "      <td>166</td>\n",
       "      <td>14th_century;15th_century;16th_century;Pacific...</td>\n",
       "      <td>NaN</td>\n",
       "      <td>14th_century</td>\n",
       "      <td>African_slave_trade</td>\n",
       "      <td>[15th_century, 16th_century, Pacific_Ocean, At...</td>\n",
       "      <td>8</td>\n",
       "    </tr>\n",
       "    <tr>\n",
       "      <th>1</th>\n",
       "      <td>3824310e536af032</td>\n",
       "      <td>1344753412</td>\n",
       "      <td>88</td>\n",
       "      <td>14th_century;Europe;Africa;Atlantic_slave_trad...</td>\n",
       "      <td>3.0</td>\n",
       "      <td>14th_century</td>\n",
       "      <td>African_slave_trade</td>\n",
       "      <td>[Europe, Africa, Atlantic_slave_trade]</td>\n",
       "      <td>4</td>\n",
       "    </tr>\n",
       "    <tr>\n",
       "      <th>2</th>\n",
       "      <td>415612e93584d30e</td>\n",
       "      <td>1349298640</td>\n",
       "      <td>138</td>\n",
       "      <td>14th_century;Niger;Nigeria;British_Empire;Slav...</td>\n",
       "      <td>NaN</td>\n",
       "      <td>14th_century</td>\n",
       "      <td>African_slave_trade</td>\n",
       "      <td>[Niger, Nigeria, British_Empire, Slavery, Afri...</td>\n",
       "      <td>7</td>\n",
       "    </tr>\n",
       "    <tr>\n",
       "      <th>3</th>\n",
       "      <td>64dd5cd342e3780c</td>\n",
       "      <td>1265613925</td>\n",
       "      <td>37</td>\n",
       "      <td>14th_century;Renaissance;Ancient_Greece;Greece</td>\n",
       "      <td>NaN</td>\n",
       "      <td>14th_century</td>\n",
       "      <td>Greece</td>\n",
       "      <td>[Renaissance, Ancient_Greece]</td>\n",
       "      <td>3</td>\n",
       "    </tr>\n",
       "    <tr>\n",
       "      <th>4</th>\n",
       "      <td>015245d773376aab</td>\n",
       "      <td>1366730828</td>\n",
       "      <td>175</td>\n",
       "      <td>14th_century;Italy;Roman_Catholic_Church;HIV;R...</td>\n",
       "      <td>3.0</td>\n",
       "      <td>14th_century</td>\n",
       "      <td>John_F._Kennedy</td>\n",
       "      <td>[Italy, Roman_Catholic_Church, HIV, Ronald_Rea...</td>\n",
       "      <td>6</td>\n",
       "    </tr>\n",
       "    <tr>\n",
       "      <th>...</th>\n",
       "      <td>...</td>\n",
       "      <td>...</td>\n",
       "      <td>...</td>\n",
       "      <td>...</td>\n",
       "      <td>...</td>\n",
       "      <td>...</td>\n",
       "      <td>...</td>\n",
       "      <td>...</td>\n",
       "      <td>...</td>\n",
       "    </tr>\n",
       "    <tr>\n",
       "      <th>51313</th>\n",
       "      <td>15a13a1d66ef5456</td>\n",
       "      <td>1349231015</td>\n",
       "      <td>66</td>\n",
       "      <td>Yagan;Ancient_Egypt;Civilization</td>\n",
       "      <td>NaN</td>\n",
       "      <td>Yagan</td>\n",
       "      <td>Civilization</td>\n",
       "      <td>[Ancient_Egypt]</td>\n",
       "      <td>2</td>\n",
       "    </tr>\n",
       "    <tr>\n",
       "      <th>51314</th>\n",
       "      <td>2ef7ac844cefda58</td>\n",
       "      <td>1300254138</td>\n",
       "      <td>165</td>\n",
       "      <td>Yagan;Folklore;Brothers_Grimm;&lt;;19th_century;C...</td>\n",
       "      <td>3.0</td>\n",
       "      <td>Yagan</td>\n",
       "      <td>Fiction</td>\n",
       "      <td>[Folklore, Brothers_Grimm, &lt;, 19th_century, Ch...</td>\n",
       "      <td>8</td>\n",
       "    </tr>\n",
       "    <tr>\n",
       "      <th>51315</th>\n",
       "      <td>12863abb7887f890</td>\n",
       "      <td>1385095372</td>\n",
       "      <td>228</td>\n",
       "      <td>Yagan;Australia;England;France;United_States;T...</td>\n",
       "      <td>NaN</td>\n",
       "      <td>Yagan</td>\n",
       "      <td>U.S._Open_(tennis)</td>\n",
       "      <td>[Australia, England, France, United_States, Te...</td>\n",
       "      <td>6</td>\n",
       "    </tr>\n",
       "    <tr>\n",
       "      <th>51316</th>\n",
       "      <td>19f8284371753362</td>\n",
       "      <td>1298792567</td>\n",
       "      <td>56</td>\n",
       "      <td>Yarralumla%2C_Australian_Capital_Territory;Aus...</td>\n",
       "      <td>1.0</td>\n",
       "      <td>Yarralumla_Australian_Capital_Territory</td>\n",
       "      <td>Abraham_Lincoln</td>\n",
       "      <td>[Australia, United_States]</td>\n",
       "      <td>3</td>\n",
       "    </tr>\n",
       "    <tr>\n",
       "      <th>51317</th>\n",
       "      <td>24b84602179de377</td>\n",
       "      <td>1318122701</td>\n",
       "      <td>30</td>\n",
       "      <td>Ziad_Jarrah;Germany;Jew</td>\n",
       "      <td>NaN</td>\n",
       "      <td>Ziad_Jarrah</td>\n",
       "      <td>Jew</td>\n",
       "      <td>[Germany]</td>\n",
       "      <td>2</td>\n",
       "    </tr>\n",
       "  </tbody>\n",
       "</table>\n",
       "<p>51318 rows × 9 columns</p>\n",
       "</div>"
      ],
      "text/plain": [
       "        hashedIpAddress   timestamp  durationInSec  \\\n",
       "0      6a3701d319fc3754  1297740409            166   \n",
       "1      3824310e536af032  1344753412             88   \n",
       "2      415612e93584d30e  1349298640            138   \n",
       "3      64dd5cd342e3780c  1265613925             37   \n",
       "4      015245d773376aab  1366730828            175   \n",
       "...                 ...         ...            ...   \n",
       "51313  15a13a1d66ef5456  1349231015             66   \n",
       "51314  2ef7ac844cefda58  1300254138            165   \n",
       "51315  12863abb7887f890  1385095372            228   \n",
       "51316  19f8284371753362  1298792567             56   \n",
       "51317  24b84602179de377  1318122701             30   \n",
       "\n",
       "                                                    path  rating  \\\n",
       "0      14th_century;15th_century;16th_century;Pacific...     NaN   \n",
       "1      14th_century;Europe;Africa;Atlantic_slave_trad...     3.0   \n",
       "2      14th_century;Niger;Nigeria;British_Empire;Slav...     NaN   \n",
       "3         14th_century;Renaissance;Ancient_Greece;Greece     NaN   \n",
       "4      14th_century;Italy;Roman_Catholic_Church;HIV;R...     3.0   \n",
       "...                                                  ...     ...   \n",
       "51313                   Yagan;Ancient_Egypt;Civilization     NaN   \n",
       "51314  Yagan;Folklore;Brothers_Grimm;<;19th_century;C...     3.0   \n",
       "51315  Yagan;Australia;England;France;United_States;T...     NaN   \n",
       "51316  Yarralumla%2C_Australian_Capital_Territory;Aus...     1.0   \n",
       "51317                            Ziad_Jarrah;Germany;Jew     NaN   \n",
       "\n",
       "                                        source               target  \\\n",
       "0                                 14th_century  African_slave_trade   \n",
       "1                                 14th_century  African_slave_trade   \n",
       "2                                 14th_century  African_slave_trade   \n",
       "3                                 14th_century               Greece   \n",
       "4                                 14th_century      John_F._Kennedy   \n",
       "...                                        ...                  ...   \n",
       "51313                                    Yagan         Civilization   \n",
       "51314                                    Yagan              Fiction   \n",
       "51315                                    Yagan   U.S._Open_(tennis)   \n",
       "51316  Yarralumla_Australian_Capital_Territory      Abraham_Lincoln   \n",
       "51317                              Ziad_Jarrah                  Jew   \n",
       "\n",
       "                                                  middle  path_steps  \n",
       "0      [15th_century, 16th_century, Pacific_Ocean, At...           8  \n",
       "1                 [Europe, Africa, Atlantic_slave_trade]           4  \n",
       "2      [Niger, Nigeria, British_Empire, Slavery, Afri...           7  \n",
       "3                          [Renaissance, Ancient_Greece]           3  \n",
       "4      [Italy, Roman_Catholic_Church, HIV, Ronald_Rea...           6  \n",
       "...                                                  ...         ...  \n",
       "51313                                    [Ancient_Egypt]           2  \n",
       "51314  [Folklore, Brothers_Grimm, <, 19th_century, Ch...           8  \n",
       "51315  [Australia, England, France, United_States, Te...           6  \n",
       "51316                         [Australia, United_States]           3  \n",
       "51317                                          [Germany]           2  \n",
       "\n",
       "[51318 rows x 9 columns]"
      ]
     },
     "execution_count": 118,
     "metadata": {},
     "output_type": "execute_result"
    }
   ],
   "source": [
    "paths_finished"
   ]
  },
  {
   "cell_type": "code",
   "execution_count": 119,
   "metadata": {},
   "outputs": [
    {
     "data": {
      "text/html": [
       "<div>\n",
       "<style scoped>\n",
       "    .dataframe tbody tr th:only-of-type {\n",
       "        vertical-align: middle;\n",
       "    }\n",
       "\n",
       "    .dataframe tbody tr th {\n",
       "        vertical-align: top;\n",
       "    }\n",
       "\n",
       "    .dataframe thead th {\n",
       "        text-align: right;\n",
       "    }\n",
       "</style>\n",
       "<table border=\"1\" class=\"dataframe\">\n",
       "  <thead>\n",
       "    <tr style=\"text-align: right;\">\n",
       "      <th></th>\n",
       "      <th>hashedIpAddress</th>\n",
       "      <th>timestamp</th>\n",
       "      <th>durationInSec</th>\n",
       "      <th>path</th>\n",
       "      <th>rating</th>\n",
       "      <th>source</th>\n",
       "      <th>target</th>\n",
       "      <th>middle</th>\n",
       "      <th>path_steps</th>\n",
       "    </tr>\n",
       "  </thead>\n",
       "  <tbody>\n",
       "    <tr>\n",
       "      <th>8046</th>\n",
       "      <td>7f6da01d55086766</td>\n",
       "      <td>1248928447</td>\n",
       "      <td>2205</td>\n",
       "      <td>United_States;Washington%2C_D.C.;Government;Co...</td>\n",
       "      <td>5.0</td>\n",
       "      <td>United_States</td>\n",
       "      <td>English_language</td>\n",
       "      <td>[Washington_D.C., Government, Corporation, Emp...</td>\n",
       "      <td>434</td>\n",
       "    </tr>\n",
       "    <tr>\n",
       "      <th>19961</th>\n",
       "      <td>4f1b9ce764349901</td>\n",
       "      <td>1236685130</td>\n",
       "      <td>2292</td>\n",
       "      <td>Napoleon_I_of_France;United_Kingdom;Great_Brit...</td>\n",
       "      <td>NaN</td>\n",
       "      <td>Napoleon_I_of_France</td>\n",
       "      <td>Recycling</td>\n",
       "      <td>[United_Kingdom, Great_Britain, England, Indus...</td>\n",
       "      <td>118</td>\n",
       "    </tr>\n",
       "    <tr>\n",
       "      <th>6945</th>\n",
       "      <td>4e97d9af4476607f</td>\n",
       "      <td>1248925083</td>\n",
       "      <td>1141</td>\n",
       "      <td>Police_state;Police;United_States;Washington%2...</td>\n",
       "      <td>5.0</td>\n",
       "      <td>Police_state</td>\n",
       "      <td>African_slave_trade</td>\n",
       "      <td>[Police, United_States, Washington_D.C., &lt;, Wa...</td>\n",
       "      <td>103</td>\n",
       "    </tr>\n",
       "    <tr>\n",
       "      <th>27136</th>\n",
       "      <td>0d57c8c57d75e2f5</td>\n",
       "      <td>1290096241</td>\n",
       "      <td>1852</td>\n",
       "      <td>Lake_Toba;Netherlands;Europe;Earth;United_Stat...</td>\n",
       "      <td>5.0</td>\n",
       "      <td>Lake_Toba</td>\n",
       "      <td>Looney_Tunes</td>\n",
       "      <td>[Netherlands, Europe, Earth, United_States, Fl...</td>\n",
       "      <td>98</td>\n",
       "    </tr>\n",
       "    <tr>\n",
       "      <th>22845</th>\n",
       "      <td>0b983de502e0ee53</td>\n",
       "      <td>1315954360</td>\n",
       "      <td>1272</td>\n",
       "      <td>Britney_Spears;Las_Vegas%2C_Nevada;&lt;;Las_Vegas...</td>\n",
       "      <td>5.0</td>\n",
       "      <td>Britney_Spears</td>\n",
       "      <td>Extraterrestrial_life</td>\n",
       "      <td>[Las_Vegas_Nevada, &lt;, Las_Vegas_Nevada, &lt;, Int...</td>\n",
       "      <td>95</td>\n",
       "    </tr>\n",
       "    <tr>\n",
       "      <th>...</th>\n",
       "      <td>...</td>\n",
       "      <td>...</td>\n",
       "      <td>...</td>\n",
       "      <td>...</td>\n",
       "      <td>...</td>\n",
       "      <td>...</td>\n",
       "      <td>...</td>\n",
       "      <td>...</td>\n",
       "      <td>...</td>\n",
       "    </tr>\n",
       "    <tr>\n",
       "      <th>23347</th>\n",
       "      <td>321e4b101c5b58ff</td>\n",
       "      <td>1225726660</td>\n",
       "      <td>0</td>\n",
       "      <td>Apple</td>\n",
       "      <td>NaN</td>\n",
       "      <td>Apple</td>\n",
       "      <td>Apple</td>\n",
       "      <td>[]</td>\n",
       "      <td>0</td>\n",
       "    </tr>\n",
       "    <tr>\n",
       "      <th>50466</th>\n",
       "      <td>43f864c75b2571b5</td>\n",
       "      <td>1350587414</td>\n",
       "      <td>0</td>\n",
       "      <td>William_and_Mary</td>\n",
       "      <td>NaN</td>\n",
       "      <td>William_and_Mary</td>\n",
       "      <td>William_and_Mary</td>\n",
       "      <td>[]</td>\n",
       "      <td>0</td>\n",
       "    </tr>\n",
       "    <tr>\n",
       "      <th>33832</th>\n",
       "      <td>43f864c75b2571b5</td>\n",
       "      <td>1350587367</td>\n",
       "      <td>0</td>\n",
       "      <td>Abel_Tasman</td>\n",
       "      <td>NaN</td>\n",
       "      <td>Abel_Tasman</td>\n",
       "      <td>Abel_Tasman</td>\n",
       "      <td>[]</td>\n",
       "      <td>0</td>\n",
       "    </tr>\n",
       "    <tr>\n",
       "      <th>9872</th>\n",
       "      <td>43f864c75b2571b5</td>\n",
       "      <td>1350587395</td>\n",
       "      <td>0</td>\n",
       "      <td>Coal</td>\n",
       "      <td>NaN</td>\n",
       "      <td>Coal</td>\n",
       "      <td>Coal</td>\n",
       "      <td>[]</td>\n",
       "      <td>0</td>\n",
       "    </tr>\n",
       "    <tr>\n",
       "      <th>30761</th>\n",
       "      <td>43f864c75b2571b5</td>\n",
       "      <td>1350587420</td>\n",
       "      <td>0</td>\n",
       "      <td>Royal_Navy</td>\n",
       "      <td>NaN</td>\n",
       "      <td>Royal_Navy</td>\n",
       "      <td>Royal_Navy</td>\n",
       "      <td>[]</td>\n",
       "      <td>0</td>\n",
       "    </tr>\n",
       "  </tbody>\n",
       "</table>\n",
       "<p>51318 rows × 9 columns</p>\n",
       "</div>"
      ],
      "text/plain": [
       "        hashedIpAddress   timestamp  durationInSec  \\\n",
       "8046   7f6da01d55086766  1248928447           2205   \n",
       "19961  4f1b9ce764349901  1236685130           2292   \n",
       "6945   4e97d9af4476607f  1248925083           1141   \n",
       "27136  0d57c8c57d75e2f5  1290096241           1852   \n",
       "22845  0b983de502e0ee53  1315954360           1272   \n",
       "...                 ...         ...            ...   \n",
       "23347  321e4b101c5b58ff  1225726660              0   \n",
       "50466  43f864c75b2571b5  1350587414              0   \n",
       "33832  43f864c75b2571b5  1350587367              0   \n",
       "9872   43f864c75b2571b5  1350587395              0   \n",
       "30761  43f864c75b2571b5  1350587420              0   \n",
       "\n",
       "                                                    path  rating  \\\n",
       "8046   United_States;Washington%2C_D.C.;Government;Co...     5.0   \n",
       "19961  Napoleon_I_of_France;United_Kingdom;Great_Brit...     NaN   \n",
       "6945   Police_state;Police;United_States;Washington%2...     5.0   \n",
       "27136  Lake_Toba;Netherlands;Europe;Earth;United_Stat...     5.0   \n",
       "22845  Britney_Spears;Las_Vegas%2C_Nevada;<;Las_Vegas...     5.0   \n",
       "...                                                  ...     ...   \n",
       "23347                                              Apple     NaN   \n",
       "50466                                   William_and_Mary     NaN   \n",
       "33832                                        Abel_Tasman     NaN   \n",
       "9872                                                Coal     NaN   \n",
       "30761                                         Royal_Navy     NaN   \n",
       "\n",
       "                     source                 target  \\\n",
       "8046          United_States       English_language   \n",
       "19961  Napoleon_I_of_France              Recycling   \n",
       "6945           Police_state    African_slave_trade   \n",
       "27136             Lake_Toba           Looney_Tunes   \n",
       "22845        Britney_Spears  Extraterrestrial_life   \n",
       "...                     ...                    ...   \n",
       "23347                 Apple                  Apple   \n",
       "50466      William_and_Mary       William_and_Mary   \n",
       "33832           Abel_Tasman            Abel_Tasman   \n",
       "9872                   Coal                   Coal   \n",
       "30761            Royal_Navy             Royal_Navy   \n",
       "\n",
       "                                                  middle  path_steps  \n",
       "8046   [Washington_D.C., Government, Corporation, Emp...         434  \n",
       "19961  [United_Kingdom, Great_Britain, England, Indus...         118  \n",
       "6945   [Police, United_States, Washington_D.C., <, Wa...         103  \n",
       "27136  [Netherlands, Europe, Earth, United_States, Fl...          98  \n",
       "22845  [Las_Vegas_Nevada, <, Las_Vegas_Nevada, <, Int...          95  \n",
       "...                                                  ...         ...  \n",
       "23347                                                 []           0  \n",
       "50466                                                 []           0  \n",
       "33832                                                 []           0  \n",
       "9872                                                  []           0  \n",
       "30761                                                 []           0  \n",
       "\n",
       "[51318 rows x 9 columns]"
      ]
     },
     "execution_count": 119,
     "metadata": {},
     "output_type": "execute_result"
    }
   ],
   "source": [
    "paths_finished.sort_values(by='path_steps', ascending=False)"
   ]
  },
  {
   "cell_type": "code",
   "execution_count": 121,
   "metadata": {},
   "outputs": [
    {
     "data": {
      "text/plain": [
       "array([  8,   4,   7,   3,   6,   5,  12,   9,  15,  14,  13,  26,  16,\n",
       "        21,   2,  10,  17,  18,  20,  11,   1,  23,  19,  34,  29,  65,\n",
       "        35,  64,  33,  25,  40,  22,  30,  70,  28,  85,  31,  52,  27,\n",
       "        24,  37,  48,  39,  45,   0,  71, 103,  41,  49,  32,  51,  57,\n",
       "        53, 434,  61,  36,  69,  62,  47,  84,  46,  38,  56,  76,  50,\n",
       "        44,  54,  55,  42, 118,  95,  43,  59,  98,  66,  79,  86,  60,\n",
       "        68])"
      ]
     },
     "execution_count": 121,
     "metadata": {},
     "output_type": "execute_result"
    }
   ],
   "source": [
    "paths_finished.path_steps.unique()"
   ]
  },
  {
   "cell_type": "markdown",
   "metadata": {},
   "source": [
    "# 5. Unfinished Paths"
   ]
  },
  {
   "cell_type": "code",
   "execution_count": 44,
   "metadata": {},
   "outputs": [],
   "source": [
    "paths_unfinished = pd.read_csv('wikispeedia_datasets/wikispeedia_paths-and-graph/paths_unfinished.tsv', sep='\\t', skiprows = 17, header = None, names = ['hashedIpAddress', 'timestamp', 'durationInSec', 'path', 'target', 'type'])"
   ]
  },
  {
   "cell_type": "code",
   "execution_count": 43,
   "metadata": {},
   "outputs": [
    {
     "data": {
      "text/html": [
       "<div>\n",
       "<style scoped>\n",
       "    .dataframe tbody tr th:only-of-type {\n",
       "        vertical-align: middle;\n",
       "    }\n",
       "\n",
       "    .dataframe tbody tr th {\n",
       "        vertical-align: top;\n",
       "    }\n",
       "\n",
       "    .dataframe thead th {\n",
       "        text-align: right;\n",
       "    }\n",
       "</style>\n",
       "<table border=\"1\" class=\"dataframe\">\n",
       "  <thead>\n",
       "    <tr style=\"text-align: right;\">\n",
       "      <th></th>\n",
       "      <th>hashedIpAddress</th>\n",
       "      <th>timestamp</th>\n",
       "      <th>durationInSec</th>\n",
       "      <th>path</th>\n",
       "      <th>target</th>\n",
       "      <th>type</th>\n",
       "    </tr>\n",
       "  </thead>\n",
       "  <tbody>\n",
       "    <tr>\n",
       "      <th>0</th>\n",
       "      <td>2426091a53125110</td>\n",
       "      <td>1297054935</td>\n",
       "      <td>1804</td>\n",
       "      <td>Obi-Wan_Kenobi</td>\n",
       "      <td>Microsoft</td>\n",
       "      <td>timeout</td>\n",
       "    </tr>\n",
       "    <tr>\n",
       "      <th>1</th>\n",
       "      <td>26141fd878806294</td>\n",
       "      <td>1297055651</td>\n",
       "      <td>1805</td>\n",
       "      <td>Julius_Caesar</td>\n",
       "      <td>Caracas</td>\n",
       "      <td>timeout</td>\n",
       "    </tr>\n",
       "    <tr>\n",
       "      <th>2</th>\n",
       "      <td>2b015fb8181c48f2</td>\n",
       "      <td>1297090819</td>\n",
       "      <td>1818</td>\n",
       "      <td>Malawi;Democracy;Alexander_the_Great</td>\n",
       "      <td>First_Crusade</td>\n",
       "      <td>timeout</td>\n",
       "    </tr>\n",
       "    <tr>\n",
       "      <th>3</th>\n",
       "      <td>53a53bc244e08a6a</td>\n",
       "      <td>1297094761</td>\n",
       "      <td>49</td>\n",
       "      <td>Paraguay</td>\n",
       "      <td>Mount_St._Helens</td>\n",
       "      <td>restart</td>\n",
       "    </tr>\n",
       "    <tr>\n",
       "      <th>4</th>\n",
       "      <td>53a53bc244e08a6a</td>\n",
       "      <td>1297099105</td>\n",
       "      <td>1808</td>\n",
       "      <td>Paraguay;Bolivia</td>\n",
       "      <td>Mount_St._Helens</td>\n",
       "      <td>timeout</td>\n",
       "    </tr>\n",
       "    <tr>\n",
       "      <th>...</th>\n",
       "      <td>...</td>\n",
       "      <td>...</td>\n",
       "      <td>...</td>\n",
       "      <td>...</td>\n",
       "      <td>...</td>\n",
       "      <td>...</td>\n",
       "    </tr>\n",
       "    <tr>\n",
       "      <th>24870</th>\n",
       "      <td>109ed71f571d86e9</td>\n",
       "      <td>1389787605</td>\n",
       "      <td>180</td>\n",
       "      <td>Franz_Kafka;Tuberculosis;World_Health_Organiza...</td>\n",
       "      <td>Cholera</td>\n",
       "      <td>restart</td>\n",
       "    </tr>\n",
       "    <tr>\n",
       "      <th>24871</th>\n",
       "      <td>232f992e57d43e8d</td>\n",
       "      <td>1389787697</td>\n",
       "      <td>6</td>\n",
       "      <td>Modern_history</td>\n",
       "      <td>Hollandic</td>\n",
       "      <td>restart</td>\n",
       "    </tr>\n",
       "    <tr>\n",
       "      <th>24872</th>\n",
       "      <td>2e09a7224600a7cd</td>\n",
       "      <td>1389798400</td>\n",
       "      <td>1900</td>\n",
       "      <td>Computer_programming;Linguistics;Culture;Popul...</td>\n",
       "      <td>The_Beatles</td>\n",
       "      <td>timeout</td>\n",
       "    </tr>\n",
       "    <tr>\n",
       "      <th>24873</th>\n",
       "      <td>60af9e2138051b96</td>\n",
       "      <td>1389799481</td>\n",
       "      <td>1903</td>\n",
       "      <td>Jamaica;United_Kingdom;World_War_II;Battle_of_...</td>\n",
       "      <td>Alan_Turing</td>\n",
       "      <td>timeout</td>\n",
       "    </tr>\n",
       "    <tr>\n",
       "      <th>24874</th>\n",
       "      <td>1cf0cbb3281049ab</td>\n",
       "      <td>1389822841</td>\n",
       "      <td>352</td>\n",
       "      <td>Mark_Antony;Rome;Tennis;Hawk-Eye;Computer</td>\n",
       "      <td>Feather</td>\n",
       "      <td>restart</td>\n",
       "    </tr>\n",
       "  </tbody>\n",
       "</table>\n",
       "<p>24875 rows × 6 columns</p>\n",
       "</div>"
      ],
      "text/plain": [
       "        hashedIpAddress   timestamp  durationInSec  \\\n",
       "0      2426091a53125110  1297054935           1804   \n",
       "1      26141fd878806294  1297055651           1805   \n",
       "2      2b015fb8181c48f2  1297090819           1818   \n",
       "3      53a53bc244e08a6a  1297094761             49   \n",
       "4      53a53bc244e08a6a  1297099105           1808   \n",
       "...                 ...         ...            ...   \n",
       "24870  109ed71f571d86e9  1389787605            180   \n",
       "24871  232f992e57d43e8d  1389787697              6   \n",
       "24872  2e09a7224600a7cd  1389798400           1900   \n",
       "24873  60af9e2138051b96  1389799481           1903   \n",
       "24874  1cf0cbb3281049ab  1389822841            352   \n",
       "\n",
       "                                                    path            target  \\\n",
       "0                                         Obi-Wan_Kenobi         Microsoft   \n",
       "1                                          Julius_Caesar           Caracas   \n",
       "2                   Malawi;Democracy;Alexander_the_Great     First_Crusade   \n",
       "3                                               Paraguay  Mount_St._Helens   \n",
       "4                                       Paraguay;Bolivia  Mount_St._Helens   \n",
       "...                                                  ...               ...   \n",
       "24870  Franz_Kafka;Tuberculosis;World_Health_Organiza...           Cholera   \n",
       "24871                                     Modern_history         Hollandic   \n",
       "24872  Computer_programming;Linguistics;Culture;Popul...       The_Beatles   \n",
       "24873  Jamaica;United_Kingdom;World_War_II;Battle_of_...       Alan_Turing   \n",
       "24874          Mark_Antony;Rome;Tennis;Hawk-Eye;Computer           Feather   \n",
       "\n",
       "          type  \n",
       "0      timeout  \n",
       "1      timeout  \n",
       "2      timeout  \n",
       "3      restart  \n",
       "4      timeout  \n",
       "...        ...  \n",
       "24870  restart  \n",
       "24871  restart  \n",
       "24872  timeout  \n",
       "24873  timeout  \n",
       "24874  restart  \n",
       "\n",
       "[24875 rows x 6 columns]"
      ]
     },
     "execution_count": 43,
     "metadata": {},
     "output_type": "execute_result"
    }
   ],
   "source": [
    "paths_unfinished"
   ]
  },
  {
   "cell_type": "code",
   "execution_count": 45,
   "metadata": {},
   "outputs": [],
   "source": [
    "split_data_2 = paths_unfinished['path'].str.split(';')"
   ]
  },
  {
   "cell_type": "code",
   "execution_count": 47,
   "metadata": {},
   "outputs": [],
   "source": [
    "paths_unfinished['source'] = split_data_2.apply(lambda x: x[0])"
   ]
  },
  {
   "cell_type": "code",
   "execution_count": 49,
   "metadata": {},
   "outputs": [
    {
     "data": {
      "text/plain": [
       "Brain       1021\n",
       "Pyramid      953\n",
       "Theatre      892\n",
       "Asteroid     745\n",
       "Batman       345\n",
       "Cat          143\n",
       "Dog          105\n",
       "Computer      94\n",
       "Bird          71\n",
       "Beer          62\n",
       "Name: source, dtype: int64"
      ]
     },
     "execution_count": 49,
     "metadata": {},
     "output_type": "execute_result"
    }
   ],
   "source": [
    "paths_unfinished.source.value_counts().head(10)"
   ]
  },
  {
   "cell_type": "code",
   "execution_count": 50,
   "metadata": {},
   "outputs": [
    {
     "data": {
      "text/plain": [
       "Telephone                 1060\n",
       "Bean                       950\n",
       "Zebra                      893\n",
       "Viking                     734\n",
       "Tiger_Woods                218\n",
       "Nurse_sharks               124\n",
       "Three_Laws_of_Robotics     102\n",
       "Economy_of_India            94\n",
       "Adolf_Hitler                94\n",
       "Wood                        93\n",
       "Name: target, dtype: int64"
      ]
     },
     "execution_count": 50,
     "metadata": {},
     "output_type": "execute_result"
    }
   ],
   "source": [
    "paths_unfinished.target.value_counts().head(10)"
   ]
  },
  {
   "cell_type": "code",
   "execution_count": 51,
   "metadata": {},
   "outputs": [],
   "source": [
    "paths_unfinished['source_target'] = paths_unfinished['source'] + '_' + paths_unfinished['target']"
   ]
  },
  {
   "cell_type": "code",
   "execution_count": 53,
   "metadata": {},
   "outputs": [
    {
     "data": {
      "text/plain": [
       "Brain_Telephone    1004\n",
       "Pyramid_Bean        944\n",
       "Theatre_Zebra       872\n",
       "Asteroid_Viking     727\n",
       "Batman_Wood          75\n",
       "Batman_Banana        56\n",
       "Cat_Computer         43\n",
       "Aircraft_Google      43\n",
       "Beer_Sun             43\n",
       "Cat_Microsoft        42\n",
       "Name: source_target, dtype: int64"
      ]
     },
     "execution_count": 53,
     "metadata": {},
     "output_type": "execute_result"
    }
   ],
   "source": [
    "paths_unfinished.source_target.value_counts().head(10)"
   ]
  },
  {
   "cell_type": "code",
   "execution_count": 54,
   "metadata": {},
   "outputs": [
    {
     "data": {
      "text/plain": [
       "Asteroid_Viking           1043\n",
       "Brain_Telephone           1040\n",
       "Theatre_Zebra              905\n",
       "Pyramid_Bean               642\n",
       "Batman_Wood                148\n",
       "Bird_Great_white_shark     138\n",
       "Batman_The_Holocaust       119\n",
       "Bird_Adolf_Hitler          107\n",
       "Beer_Sun                    99\n",
       "Batman_Banana               69\n",
       "Name: source_target, dtype: int64"
      ]
     },
     "execution_count": 54,
     "metadata": {},
     "output_type": "execute_result"
    }
   ],
   "source": [
    "paths_finished['source_target'].value_counts().head(10)"
   ]
  },
  {
   "cell_type": "markdown",
   "metadata": {},
   "source": [
    "--------------------------------------------------------------"
   ]
  },
  {
   "cell_type": "markdown",
   "metadata": {},
   "source": [
    "# Wikispeedia Page-Pair Selection"
   ]
  },
  {
   "cell_type": "code",
   "execution_count": null,
   "metadata": {},
   "outputs": [],
   "source": [
    "# isolate the most frequently played page pairs\n",
    "# select a subset that represent a good distribution\n",
    "## by this i mean we should ensure variety in categories, variety in how similar origin and goal are, variety in whether games were completed or not completed, etc\n",
    "\n",
    "# proposed df:\n",
    "\n",
    "# | pair | % games completed | avg length of game | sd of length of game | category | ... |"
   ]
  },
  {
   "cell_type": "markdown",
   "metadata": {},
   "source": [
    "# LLM and Prompt Selection"
   ]
  },
  {
   "cell_type": "code",
   "execution_count": null,
   "metadata": {},
   "outputs": [],
   "source": [
    "# show results for different LLMs\n",
    "# show results for different prompts\n",
    "# explain selection of LLM and prompt"
   ]
  },
  {
   "cell_type": "markdown",
   "metadata": {},
   "source": [
    "# Methods"
   ]
  },
  {
   "cell_type": "markdown",
   "metadata": {},
   "source": [
    "We use this section to demonstrate some of the analysis we will perform once we have LLM-derived Wikispeedia data. \n",
    "\n",
    "Human-derived Wikispeedia data is used as a 'stand-in' for LLM-derived data where necessary. "
   ]
  },
  {
   "cell_type": "code",
   "execution_count": 171,
   "metadata": {},
   "outputs": [],
   "source": [
    "import numpy as np\n",
    "import pandas as pd\n",
    "import matplotlib.pyplot as plt\n",
    "\n",
    "llm_wikispeedia_pairs = pd.read_csv('dependencies/llm_wikispeedia_pairs.csv')\n",
    "paths_finished = pd.read_csv('dependencies/wikispeedia_paths-and-graph/paths_finished.tsv', sep='\\t', skiprows = 16, header = None, names = ['hashedIpAddress', 'timestamp', 'durationInSec', 'path', 'rating'])\n",
    "paths_unfinished = pd.read_csv('dependencies/wikispeedia_paths-and-graph/paths_unfinished.tsv', sep='\\t', skiprows=17, header = None, names = ['hashedIpAddress', 'timestamp', 'durationInSec', 'path', 'target', 'type'])\n",
    "pfin_etc = pd.concat([paths_finished['path'].str.split(\";\").apply(lambda path: path[0]), paths_finished['path'].str.split(\";\").apply(lambda path: path[-1]), paths_finished['path'].str.split(\";\").apply(lambda path: len(path)), paths_finished['path'].str.split(\";\").apply(lambda path: path)], axis=1)\n",
    "pfin_etc.columns = ['origin', 'goal', 'path_l', 'path']\n",
    "most_popular = pfin_etc.groupby(by=['origin', 'goal']).agg('count').rename(columns={\"path_l\": \"total_pair_rounds\"}).sort_values(by='total_pair_rounds', ascending=False).reset_index()[0:10][['origin', 'goal', 'total_pair_rounds']]\n",
    "most_popular.to_csv('dependencies/top10pairs.csv')"
   ]
  },
  {
   "cell_type": "markdown",
   "metadata": {},
   "source": [
    "### Are LLM paths sensical to humans?"
   ]
  },
  {
   "cell_type": "code",
   "execution_count": 5,
   "metadata": {},
   "outputs": [],
   "source": [
    "# pull in BART encodings\n",
    "# encode concepts in LLM paths\n",
    "# across all LLM games of length N, find the embedding distance to goal and embedding distances to next page at each round\n",
    "# plot these curves\n",
    "# calculate proportion that strictly decrease throughout game\n",
    "# supplement with Word2Vec embeddings, TF-IDF Wikipage embeddings"
   ]
  },
  {
   "cell_type": "code",
   "execution_count": 9,
   "metadata": {},
   "outputs": [],
   "source": [
    "# BART"
   ]
  },
  {
   "cell_type": "code",
   "execution_count": null,
   "metadata": {},
   "outputs": [],
   "source": [
    "from transformers import BartTokenizer, BartModel\n",
    "from scipy.spatial.distance import cosine\n",
    "import torch\n",
    "\n",
    "# Load pre-trained model and tokenizer\n",
    "model = 'facebook/bart-large'\n",
    "tokenizer = BartTokenizer.from_pretrained(model)\n",
    "bartm = BartModel.from_pretrained(model)\n",
    "\n",
    "# List of words to embed\n",
    "word_list = ['apple', 'orange', 'banana', 'grape', 'pineapple']\n",
    "\n",
    "# Encode words and retrieve embeddings\n",
    "word_embeddings = {}\n",
    "for word in word_list:\n",
    "    input_ids = tokenizer.encode(word, return_tensors='pt')\n",
    "    with torch.no_grad():\n",
    "        output = model(input_ids=input_ids)\n",
    "    last_hidden_states = output.last_hidden_state.squeeze().mean(dim=0).numpy()\n",
    "    word_embeddings[word] = last_hidden_states\n",
    "\n",
    "# Calculate distances between embeddings\n",
    "distance = cosine(word_embeddings[word1], word_embeddings[word2])\n"
   ]
  },
  {
   "cell_type": "code",
   "execution_count": null,
   "metadata": {},
   "outputs": [],
   "source": [
    "# TF-IDF vectorizer"
   ]
  },
  {
   "cell_type": "code",
   "execution_count": null,
   "metadata": {},
   "outputs": [],
   "source": [
    "from sklearn.feature_extraction.text import TfidfVectorizer\n",
    "\n",
    "# Sample corpus (replace this with your text data)\n",
    "corpus = [\n",
    "    \"This is the first document.\",\n",
    "    \"This document is the second document.\",\n",
    "    \"And this is the third one.\",\n",
    "    \"Is this the first document?\",\n",
    "]\n",
    "\n",
    "# Initialize the TF-IDF vectorizer\n",
    "vectorizer = TfidfVectorizer()\n",
    "\n",
    "# Fit and transform the corpus to TF-IDF vectors\n",
    "tfidf_matrix = vectorizer.fit_transform(corpus)\n",
    "\n",
    "# Get the feature names (words) in the corpus\n",
    "feature_names = vectorizer.get_feature_names_out()\n",
    "\n",
    "# Print the TF-IDF matrix and feature names\n",
    "print(\"TF-IDF Matrix:\")\n",
    "print(tfidf_matrix.toarray())\n",
    "print(\"\\nFeature Names:\")\n",
    "print(feature_names)\n"
   ]
  },
  {
   "cell_type": "markdown",
   "metadata": {},
   "source": [
    "### Are LLM paths faster or slower than humans'?"
   ]
  },
  {
   "cell_type": "code",
   "execution_count": null,
   "metadata": {},
   "outputs": [],
   "source": [
    "# across all LLM games of pair origin-goal, find the avg rounds needed to complete game\n",
    "# do the same for human games of pair origin-goal\n",
    "# match origin-goal pairs across LLM and humans\n",
    "# perform a t-test on the difference in match averages "
   ]
  },
  {
   "cell_type": "code",
   "execution_count": 173,
   "metadata": {},
   "outputs": [
    {
     "data": {
      "image/png": "[encoded data removed]",
      "text/plain": [
       "<Figure size 640x480 with 1 Axes>"
      ]
     },
     "metadata": {},
     "output_type": "display_data"
    }
   ],
   "source": [
    "# distribution of game lengths for a couple popular origin-goal pairs\n",
    "lengths = pd.merge(most_popular, pfin_etc, how='left', on=['origin', 'goal'])\n",
    "lengths = lengths.groupby(['origin', 'goal', 'path_l']).agg('count') / lengths.groupby(['origin', 'goal']).agg('count')\n",
    "lengths = lengths['total_pair_rounds'].reset_index().query(\"(origin == 'Asteroid' and goal == 'Viking') or (origin == 'Theatre' and goal == 'Zebra')\")\n",
    "lengths['cum_completed'] = lengths.groupby(['origin', 'goal'])['total_pair_rounds'].agg('cumsum')\n",
    "lengths = lengths.query('path_l <= 15')\n",
    "\n",
    "# graph\n",
    "groups = lengths.groupby(['origin', 'goal'])\n",
    "fig, ax = plt.subplots()\n",
    "for name, group in groups:\n",
    "    ax.plot(group['path_l'], group['cum_completed'], marker='o', label=(name[0] + \" -> \" + name[1]))\n",
    "\n",
    "ax.set_xlabel('Game Length')\n",
    "ax.set_ylabel('')\n",
    "ax.set_title('Share of Games Completed by Length')\n",
    "#ax.set_yscale('log')\n",
    "ax.set_yticks([.25, .5, .75, 1])\n",
    "ax.set_yticklabels(['25%', '50%', '75%', '100%'])\n",
    "ax.legend()\n",
    "plt.show()"
   ]
  },
  {
   "cell_type": "markdown",
   "metadata": {},
   "source": [
    "Though the graph above displays cumulative completions rates by game length for two *human*-derived page pairs, once we have LLM-derived data, we can match page pairs between our LLM and humans to observe differences in game length distributions - both at the pair level and in the aggregate."
   ]
  },
  {
   "cell_type": "markdown",
   "metadata": {},
   "source": [
    "### Do LLMs employ the same 'zoom-out' to hub, 'zoom-in' to spoke strategy as humans?"
   ]
  },
  {
   "cell_type": "code",
   "execution_count": null,
   "metadata": {},
   "outputs": [],
   "source": [
    "# across all LLM games of length N, calculate average degree (length of prompt list) at each round\n",
    "# fit curve to quadratic model, perform goodness of fit tests\n",
    "# stronger version: test for equality of curves between humans and LLM for the same page pair"
   ]
  },
  {
   "cell_type": "code",
   "execution_count": 228,
   "metadata": {},
   "outputs": [],
   "source": [
    "import urllib.parse\n",
    "import statsmodels.api as sm\n",
    "\n",
    "links = {}\n",
    "df = pd.read_csv('dependencies/wikispeedia_paths-and-graph/links.tsv', sep='\\t', skiprows=12, header=None)\n",
    "for index, row in df.iterrows(): \n",
    "    start_page = urllib.parse.unquote(row[0])\n",
    "    link_page = urllib.parse.unquote(row[1])\n",
    "    if start_page in links:\n",
    "        links[start_page].append(link_page)\n",
    "    else:\n",
    "        links[start_page] = [link_page]\n",
    "def get_links_from_wikipedia_page(page_title):\n",
    "    return links.get(page_title, [])\n",
    "\n",
    "paths = pd.merge(most_popular, pfin_etc, how='left', on=['origin', 'goal'])\n",
    "paths['degree_path'] = paths['path'].apply(lambda path: [len(get_links_from_wikipedia_page(page)) for page in path])"
   ]
  },
  {
   "cell_type": "code",
   "execution_count": 239,
   "metadata": {},
   "outputs": [
    {
     "data": {
      "image/png": "[encoded data removed]",
      "text/plain": [
       "<Figure size 640x480 with 1 Axes>"
      ]
     },
     "metadata": {},
     "output_type": "display_data"
    }
   ],
   "source": [
    "mea_at_stage = {}\n",
    "moe_at_stage = {}\n",
    "game_length = 5\n",
    "for i, row in paths.iterrows():\n",
    "    if len(row['degree_path']) == game_length:\n",
    "        for j in range(len(row['degree_path'])):\n",
    "            if j not in mea_at_stage.keys():\n",
    "                mea_at_stage[j] = []\n",
    "            mea_at_stage[j].append(row['degree_path'][j])\n",
    "for key in mea_at_stage.keys():\n",
    "    moe_at_stage[key] = 1.96 * (np.std(mea_at_stage[key], ddof=1) / np.sqrt(len(mea_at_stage[key])))\n",
    "    mea_at_stage[key] = (np.mean(mea_at_stage[key]))\n",
    "    \n",
    "mea_at_stage\n",
    "\n",
    "mean_list = list(mea_at_stage.values())\n",
    "mofe_list = list(moe_at_stage.values())\n",
    "\n",
    "plt.errorbar(range(len(mean_list)), mean_list, yerr=mofe_list, fmt='-o', capsize=5)\n",
    "plt.xlabel('Time')\n",
    "plt.ylabel('Mean')\n",
    "plt.title('Average Degree Over Time - 5 Round Games')\n",
    "plt.grid(True)\n",
    "plt.show()"
   ]
  },
  {
   "cell_type": "markdown",
   "metadata": {},
   "source": [
    "The graph above displays average page degree at each stage of 5-round games. Though it is currently for *human*-derived page pairs, once we have LLM-derived data, we can calculate the same averages for such data, and use the function below to check if the resultant curve is strictly concave - which corresponds to a 'zoom-out', 'zoom-in' strategy."
   ]
  },
  {
   "cell_type": "code",
   "execution_count": 240,
   "metadata": {},
   "outputs": [
    {
     "data": {
      "text/plain": [
       "False"
      ]
     },
     "execution_count": 240,
     "metadata": {},
     "output_type": "execute_result"
    }
   ],
   "source": [
    "def test_if_concave(means, stages):\n",
    "    slopes = [(means[i + 1] - means[i]) / (stages[i + 1] - stages[i]) for i in range(len(stages) - 1)]\n",
    "    is_concave = all(slopes[i + 1] < slopes[i] for i in range(len(slopes) - 1))\n",
    "    return is_concave\n",
    "\n",
    "test_if_concave(mean_list, range(len(mean_list)))"
   ]
  },
  {
   "cell_type": "markdown",
   "metadata": {},
   "source": [
    "### Does LLM 'backtrack' behavior differ from humans?"
   ]
  },
  {
   "cell_type": "code",
   "execution_count": 187,
   "metadata": {},
   "outputs": [
    {
     "data": {
      "text/plain": [
       "[19, 58, 60, 22, 23, 23, 43, 62]"
      ]
     },
     "execution_count": 187,
     "metadata": {},
     "output_type": "execute_result"
    }
   ],
   "source": [
    "# If LLM cycles, remove intermediary pages and treat cycle as a 'backtrack'\n",
    "# tbd\n",
    "paths['degree_path'][0]"
   ]
  },
  {
   "cell_type": "code",
   "execution_count": null,
   "metadata": {},
   "outputs": [],
   "source": []
  }
 ],
 "metadata": {
  "kernelspec": {
   "display_name": "Python 3 (ipykernel)",
   "language": "python",
   "name": "python3"
  },
  "language_info": {
   "codemirror_mode": {
    "name": "ipython",
    "version": 3
   },
   "file_extension": ".py",
   "mimetype": "text/x-python",
   "name": "python",
   "nbconvert_exporter": "python",
   "pygments_lexer": "ipython3",
   "version": "3.9.18"
  }
 },
 "nbformat": 4,
 "nbformat_minor": 4
}
