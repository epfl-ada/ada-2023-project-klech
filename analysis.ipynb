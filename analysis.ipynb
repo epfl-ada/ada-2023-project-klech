{
 "cells": [
  {
   "cell_type": "markdown",
   "metadata": {},
   "source": [
    "--------------------------------------------------------------"
   ]
  },
  {
   "cell_type": "markdown",
   "metadata": {},
   "source": [
    "<h1 style=\"text-align: center;\">Man vs LLMs: A comparison of Human and LLM Wikispeedia Strategy</h1>\n",
    "\n",
    "<h3 style=\"text-align: center;\">Klech</h3>\n",
    "\n",
    "<img src=\"./dependencies/HUMANvsAI.webp\"  style=\"width:20%; display: block; margin: 0 auto;\">\n",
    "\n",
    "\n",
    "**Snippet of Abstract:** Can an LLM emulate through behavior the same thinking underpinning human semantic maps? To answer this question, we will enlist ChatGPT as a participant in Wikispeedia and evaluate its performance across a subset of popular but meaningfully diverse origin-goal page pairs previously played by humans."
   ]
  },
  {
   "cell_type": "markdown",
   "metadata": {},
   "source": [
    "--------------------------------------------------------------"
   ]
  },
  {
   "cell_type": "markdown",
   "metadata": {},
   "source": [
    "We have chosen to manually prompt ChatGPT online to develop our LLM Wikispeedia game paths. We therefore use this workbook to walk through our decisions regarding which origin-goal Wikipedia page pairs (henceforth 'game pairs') to have ChatGPT 'play', which prompt to use to make ChatGPT play Wikispeedia, and the shape our intended analysis will take once data becomes available. "
   ]
  },
  {
   "cell_type": "markdown",
   "metadata": {},
   "source": [
    "#### Table of Contents:\n",
    "\n",
    "0. [Quick Setup](#quick-setup)\n",
    "1. [Wikispeedia Page-Pair Selection](#pair-selection)\n",
    "2. [LLM and Prompt Selection](#llm-prompts)\n",
    "3. [Methods](#methods)\n"
   ]
  },
  {
   "cell_type": "markdown",
   "metadata": {},
   "source": [
    "## 0. Quick Setup <a class=\"anchor\" id=\"quick-setup\"></a>\n",
    "\n",
    "Since the code deals with a share of LLMs from Hugging Face, we recommend running the code on Google Colab if you don't have a GPU on your local machine.\n",
    "\n",
    "Note that in sections [0.1 Install and import the necessary Python libraries](#0.1-Install-and-import-the-necessary-Python-libraries) and [0.2 Access the data](#0.2.-Access-the-data) you will have to run different code based on whether you are running the tutorial on Colab or on Jupyter Notebook. An `if statement` will take care of this. You only need to select `'colab'` or `'jupyter_notebook'` for the `platform` variable below."
   ]
  },
  {
   "cell_type": "code",
   "execution_count": 1,
   "metadata": {},
   "outputs": [],
   "source": [
    "platform = 'jupyter_notebook' #@param ['colab', 'jupyter_notebook'] {allow-input: true}"
   ]
  },
  {
   "cell_type": "markdown",
   "metadata": {},
   "source": [
    "### 0.1 Install and import the necessary Python libraries"
   ]
  },
  {
   "cell_type": "code",
   "execution_count": 2,
   "metadata": {},
   "outputs": [
    {
     "name": "stdout",
     "output_type": "stream",
     "text": [
      "Processing /Users/ernestobocini/Desktop/ADA/ada-2023-project-klech\n",
      "  Preparing metadata (setup.py) ... \u001b[?25ldone\n",
      "\u001b[?25hBuilding wheels for collected packages: ada-2023-project-klech\n",
      "  Building wheel for ada-2023-project-klech (setup.py) ... \u001b[?25ldone\n",
      "\u001b[?25h  Created wheel for ada-2023-project-klech: filename=ada_2023_project_klech-1.0.0-py3-none-any.whl size=4557 sha256=9b23e9ed88f2f7678c96e0b050252c4ccd81d33b60111d58e07a641451c8721f\n",
      "  Stored in directory: /Users/ernestobocini/Library/Caches/pip/wheels/62/cc/c2/e5d22c62c32d720f4a4d81c3d590ffe3a2667bb49073375a99\n",
      "Successfully built ada-2023-project-klech\n",
      "Installing collected packages: ada-2023-project-klech\n",
      "  Attempting uninstall: ada-2023-project-klech\n",
      "    Found existing installation: ada-2023-project-klech 1.0.0\n",
      "    Uninstalling ada-2023-project-klech-1.0.0:\n",
      "      Successfully uninstalled ada-2023-project-klech-1.0.0\n",
      "Successfully installed ada-2023-project-klech-1.0.0\n"
     ]
    }
   ],
   "source": [
    "# install libraries\n",
    "if platform == 'colab':\n",
    "    !pip install transformers accelerate einops\n",
    "\n",
    "else:\n",
    "    !pip install . # this will install all the requirements specified in the setup.py file. Note that: you might want to crate a new venv before running this command."
   ]
  },
  {
   "cell_type": "code",
   "execution_count": 3,
   "metadata": {},
   "outputs": [
    {
     "name": "stderr",
     "output_type": "stream",
     "text": [
      "/Users/ernestobocini/miniconda3/envs/ada/lib/python3.9/site-packages/tqdm/auto.py:21: TqdmWarning: IProgress not found. Please update jupyter and ipywidgets. See https://ipywidgets.readthedocs.io/en/stable/user_install.html\n",
      "  from .autonotebook import tqdm as notebook_tqdm\n"
     ]
    }
   ],
   "source": [
    "# import libraries\n",
    "import numpy as np\n",
    "import pandas as pd\n",
    "import seaborn as sns\n",
    "import matplotlib.pyplot as plt\n",
    "from matplotlib.lines import Line2D\n",
    "import urllib.parse\n",
    "from urllib.parse import unquote\n",
    "from collections import Counter\n",
    "import statsmodels.api as sm\n",
    "from sklearn.feature_extraction.text import TfidfVectorizer\n",
    "from transformers import BartTokenizer, BartModel, pipeline \n",
    "from scipy.spatial.distance import cosine\n",
    "import torch"
   ]
  },
  {
   "cell_type": "markdown",
   "metadata": {},
   "source": [
    "### 0.2 Access the data"
   ]
  },
  {
   "cell_type": "code",
   "execution_count": 4,
   "metadata": {},
   "outputs": [],
   "source": [
    "# \\TODO: add a link to download the data from a drive folder with authorization \n",
    "if platform == 'colab':\n",
    "    from google.colab import drive\n",
    "    drive.mount('/content/drive/', force_remount=True)\n",
    "    data_dir = '/content/drive/MyDrive/wikispeedia_data/wikispeedia_paths-and-graph/' #@param {type:\"string\"}\n",
    "else: \n",
    "    data_dir = './dependencies/wikispeedia_paths-and-graph/'"
   ]
  },
  {
   "cell_type": "markdown",
   "metadata": {},
   "source": [
    "## 1. Wikispeedia Page-Pair Selection <a class=\"anchor\" id=\"pair-selection\"></a>"
   ]
  },
  {
   "cell_type": "markdown",
   "metadata": {},
   "source": [
    "### 1.1: Game Pairs (paths_finished.tsv and paths_unfinished.tsv)"
   ]
  },
  {
   "cell_type": "markdown",
   "metadata": {},
   "source": [
    "We cannot simulate every Wikispeedia game. We therefore focus on more popular game pairs.\n",
    "\n",
    "First, we load in our data and compute its scale."
   ]
  },
  {
   "cell_type": "code",
   "execution_count": 5,
   "metadata": {},
   "outputs": [
    {
     "name": "stdout",
     "output_type": "stream",
     "text": [
      "There are 51318 finished games and 24875 unfinished games, amounting to 76193 game attempts total.\n",
      "0.00% of unfinished paths are missing data on the game goal.\n",
      "\n"
     ]
    }
   ],
   "source": [
    "# decode url text inside page names\n",
    "def decode_list(url_encoded_list):\n",
    "    \"\"\"Decodes url_encoded path.\"\"\"\n",
    "    return [urllib.parse.unquote(element).replace(',', '') for element in url_encoded_list]\n",
    "\n",
    "# pull in finished games and prepare for append\n",
    "paths_finished = pd.read_csv(data_dir+'paths_finished.tsv', sep='\\t', skiprows = 16, header = None, names = ['hashedIpAddress', 'timestamp', 'durationInSec', 'path', 'rating'])\n",
    "paths_finished['path_decoded'] = paths_finished['path'].str.split(';').apply(decode_list)\n",
    "paths_finished['origin'] = paths_finished['path_decoded'].str[0]\n",
    "paths_finished['goal'] = paths_finished['path_decoded'].str[-1]\n",
    "paths_finished['finished'] = 1\n",
    "\n",
    "# pull in unfinished games and prepare for append\n",
    "paths_unfinished = pd.read_csv(data_dir+'paths_unfinished.tsv', sep='\\t', skiprows=17, header = None, names = ['hashedIpAddress', 'timestamp', 'durationInSec', 'path', 'target', 'type'])\n",
    "paths_unfinished['path_decoded'] = paths_unfinished['path'].str.split(';').apply(decode_list)\n",
    "paths_unfinished['origin'] = paths_unfinished['path_decoded'].str[0]\n",
    "paths_unfinished = paths_unfinished.rename(columns={'target': 'goal'})\n",
    "paths_unfinished['finished'] = 0\n",
    "\n",
    "# append\n",
    "all_paths = pd.concat([paths_finished, paths_unfinished])\n",
    "all_paths['game_pair'] = all_paths['origin'] + \"->\" + all_paths['goal']\n",
    "print(\"There are \" + str(len(paths_finished)) + \" finished games and \" + str(len(paths_unfinished)) + \" unfinished games, amounting to \" + str(len(all_paths)) + \" game attempts total.\")\n",
    "print(\"{:.2f}%\".format(all_paths[all_paths['finished'] == 0]['goal'].isnull().sum()) + \" of unfinished paths are missing data on the game goal.\\n\")\n",
    "game_pair_counts = all_paths['game_pair'].value_counts().reset_index()\n",
    "game_pair_counts = game_pair_counts.rename(columns={'count': 'human_attempts'})"
   ]
  },
  {
   "cell_type": "markdown",
   "metadata": {},
   "source": [
    "There are plenty of game pairs to choose from across 76,000 game attempts. However, not all pairs would be equally useful for this project. Take a look at the CCDF of game pair popularity (according to sum of completed and uncompleted human attempts) below."
   ]
  },
  {
   "cell_type": "code",
   "execution_count": 6,
   "metadata": {},
   "outputs": [
    {
     "data": {
      "image/png": "[encoded data removed]",
      "text/plain": [
       "<Figure size 1000x600 with 1 Axes>"
      ]
     },
     "metadata": {},
     "output_type": "display_data"
    }
   ],
   "source": [
    "# CCDF of game attempts\n",
    "y = np.linspace(0, 1, len(game_pair_counts['human_attempts'].sort_values()))\n",
    "ccdf = 1 - y\n",
    "plt.figure(figsize=(10,6))\n",
    "plt.plot(game_pair_counts['human_attempts'].sort_values(), ccdf, color='red')\n",
    "plt.xlabel('# Attempts')\n",
    "plt.ylabel('CCDF')\n",
    "plt.title('CCDF of Game Pair Attempts')\n",
    "plt.xscale('log')\n",
    "plt.show()"
   ]
  },
  {
   "cell_type": "markdown",
   "metadata": {},
   "source": [
    "A stunning majority of pairs have been attempted less than 10 times. Clearly, when selecting 10 pairs for our LLM to play, it would not do to choose a random subset, as we need to choose pairs with multiple human attempts in order to make meaningful comparisons to LLM attempts. \n",
    "\n",
    "Let us sample a selection of pairs with at least 25 game attempts:"
   ]
  },
  {
   "cell_type": "code",
   "execution_count": 7,
   "metadata": {},
   "outputs": [
    {
     "data": {
      "text/html": [
       "<div>\n",
       "<style scoped>\n",
       "    .dataframe tbody tr th:only-of-type {\n",
       "        vertical-align: middle;\n",
       "    }\n",
       "\n",
       "    .dataframe tbody tr th {\n",
       "        vertical-align: top;\n",
       "    }\n",
       "\n",
       "    .dataframe thead th {\n",
       "        text-align: right;\n",
       "    }\n",
       "</style>\n",
       "<table border=\"1\" class=\"dataframe\">\n",
       "  <thead>\n",
       "    <tr style=\"text-align: right;\">\n",
       "      <th></th>\n",
       "      <th>game_pair</th>\n",
       "      <th>human_attempts</th>\n",
       "    </tr>\n",
       "  </thead>\n",
       "  <tbody>\n",
       "    <tr>\n",
       "      <th>3</th>\n",
       "      <td>Pyramid-&gt;Bean</td>\n",
       "      <td>1586</td>\n",
       "    </tr>\n",
       "    <tr>\n",
       "      <th>4</th>\n",
       "      <td>Batman-&gt;Wood</td>\n",
       "      <td>223</td>\n",
       "    </tr>\n",
       "    <tr>\n",
       "      <th>22</th>\n",
       "      <td>Flower-&gt;Adolf_Hitler</td>\n",
       "      <td>55</td>\n",
       "    </tr>\n",
       "    <tr>\n",
       "      <th>32</th>\n",
       "      <td>China-&gt;Moon</td>\n",
       "      <td>36</td>\n",
       "    </tr>\n",
       "    <tr>\n",
       "      <th>52</th>\n",
       "      <td>Bird_migration-&gt;Hubble_Space_Telescope</td>\n",
       "      <td>25</td>\n",
       "    </tr>\n",
       "    <tr>\n",
       "      <th>5</th>\n",
       "      <td>Bird-&gt;Great_white_shark</td>\n",
       "      <td>168</td>\n",
       "    </tr>\n",
       "    <tr>\n",
       "      <th>15</th>\n",
       "      <td>Computer-&gt;Fruit</td>\n",
       "      <td>65</td>\n",
       "    </tr>\n",
       "    <tr>\n",
       "      <th>6</th>\n",
       "      <td>Batman-&gt;The_Holocaust</td>\n",
       "      <td>149</td>\n",
       "    </tr>\n",
       "    <tr>\n",
       "      <th>28</th>\n",
       "      <td>Archbishop_of_Canterbury-&gt;Vietnam</td>\n",
       "      <td>42</td>\n",
       "    </tr>\n",
       "    <tr>\n",
       "      <th>38</th>\n",
       "      <td>Manchester-&gt;Water</td>\n",
       "      <td>33</td>\n",
       "    </tr>\n",
       "  </tbody>\n",
       "</table>\n",
       "</div>"
      ],
      "text/plain": [
       "                                 game_pair  human_attempts\n",
       "3                            Pyramid->Bean            1586\n",
       "4                             Batman->Wood             223\n",
       "22                    Flower->Adolf_Hitler              55\n",
       "32                             China->Moon              36\n",
       "52  Bird_migration->Hubble_Space_Telescope              25\n",
       "5                  Bird->Great_white_shark             168\n",
       "15                         Computer->Fruit              65\n",
       "6                    Batman->The_Holocaust             149\n",
       "28       Archbishop_of_Canterbury->Vietnam              42\n",
       "38                       Manchester->Water              33"
      ]
     },
     "metadata": {},
     "output_type": "display_data"
    },
    {
     "name": "stdout",
     "output_type": "stream",
     "text": [
      "10 of the 54 games with 25 or more attempts include 'Batman'.\n"
     ]
    }
   ],
   "source": [
    "game_pair_cands = game_pair_counts.query('human_attempts >= 25')\n",
    "display(game_pair_cands.sample(n=10, random_state=55))\n",
    "print(str(len(game_pair_cands[game_pair_cands['game_pair'].str.contains('Batman')])) + \" of the \" + str(len(game_pair_cands)) + \" games with 25 or more attempts include 'Batman'.\")"
   ]
  },
  {
   "cell_type": "markdown",
   "metadata": {},
   "source": [
    "We can readily see several concepts appearing in multiple games - another issue with random sampling if our goal is to expose the LLM to conceptual variety. We will retain the set of game pairs with more than 25 attempts as our candidate pool but turn now to a means of enforcing conceptual variety."
   ]
  },
  {
   "cell_type": "markdown",
   "metadata": {},
   "source": [
    "### 1.2: Category (categories.tsv)"
   ]
  },
  {
   "cell_type": "markdown",
   "metadata": {},
   "source": [
    "The category data maps Wikipedia pages to conceptual groupings. To ensure the LLM is exposed to a variety of semantic concepts, we can not only ensure no one page appears more than once in our subset of game pairs, but we can also ensure no one category appears more than 1-2 times in our selected subset of game pairs.\n",
    "\n",
    "Below, we display the distribution of categories across all Wikipedia pages in the global Wikispeedia dataset (blue) and across those Wikipedia pages appearing inside those game pairs attempted 25 or more times (orange). "
   ]
  },
  {
   "cell_type": "code",
   "execution_count": 8,
   "metadata": {},
   "outputs": [
    {
     "name": "stderr",
     "output_type": "stream",
     "text": [
      "/var/folders/qx/mbfp35d17jz5g1qfw4xsv3yc0000gn/T/ipykernel_83410/1763846202.py:8: SettingWithCopyWarning: \n",
      "A value is trying to be set on a copy of a slice from a DataFrame.\n",
      "Try using .loc[row_indexer,col_indexer] = value instead\n",
      "\n",
      "See the caveats in the documentation: https://pandas.pydata.org/pandas-docs/stable/user_guide/indexing.html#returning-a-view-versus-a-copy\n",
      "  game_pair_cands.loc[:, 'origin'] = game_pair_cands['game_pair'].str.split(\"->\").str[0]\n",
      "/var/folders/qx/mbfp35d17jz5g1qfw4xsv3yc0000gn/T/ipykernel_83410/1763846202.py:9: SettingWithCopyWarning: \n",
      "A value is trying to be set on a copy of a slice from a DataFrame.\n",
      "Try using .loc[row_indexer,col_indexer] = value instead\n",
      "\n",
      "See the caveats in the documentation: https://pandas.pydata.org/pandas-docs/stable/user_guide/indexing.html#returning-a-view-versus-a-copy\n",
      "  game_pair_cands.loc[:, 'goal'] = game_pair_cands['game_pair'].str.split(\"->\").str[-1]\n"
     ]
    },
    {
     "data": {
      "image/png": "[encoded data removed]",
      "text/plain": [
       "<Figure size 600x400 with 1 Axes>"
      ]
     },
     "metadata": {},
     "output_type": "display_data"
    }
   ],
   "source": [
    "# Pull in categories for all pages appearing inside game pairs\n",
    "categories_all = pd.read_csv(data_dir+'categories.tsv', sep='\\t', skiprows=13, header = None, names = ['article','category'])\n",
    "categories_all[['article', 'category']] = categories_all[['article', 'category']].apply(lambda x: x.map(unquote))\n",
    "categories_all['main_category'] = categories_all['category'].apply(lambda x: x.split('.')[1] if len(x.split('.')) > 1 else x)\n",
    "top_categories_all = categories_all['main_category'].value_counts().head(15)\n",
    "\n",
    "# Isolate categories for those pages appearing inside pairs with at least 20 game attempts\n",
    "game_pair_cands.loc[:, 'origin'] = game_pair_cands['game_pair'].str.split(\"->\").str[0]\n",
    "game_pair_cands.loc[:, 'goal'] = game_pair_cands['game_pair'].str.split(\"->\").str[-1]\n",
    "categories_cands = pd.DataFrame({'article': list(set(pd.concat([game_pair_cands['origin'], game_pair_cands['goal']])))}).merge(right=categories_all, how='left')\n",
    "top_categories_cands = categories_cands['main_category'].value_counts().head(15)\n",
    "\n",
    "# display global and subset distribution\n",
    "percentages_all = (top_categories_all / top_categories_all.sum())\n",
    "percentages_cands = (top_categories_cands / top_categories_cands.sum())\n",
    "plt.figure(figsize=(6, 4))\n",
    "ax = percentages_all.plot(kind='bar', color='blue', position=0, width=0.4)\n",
    "percentages_cands.plot(kind='bar', color='orange', position=1, width=0.4, ax=ax)\n",
    "\n",
    "plt.title('Distribution of Page Categories (Top 15 Categories only)')\n",
    "plt.xlabel('Main Category')\n",
    "plt.ylabel('Percentage')\n",
    "plt.xticks(rotation=90)\n",
    "plt.legend(['All Pages', 'Pages in Game Pairs with 25+ Attempts'])\n",
    "\n",
    "ax.yaxis.set_major_formatter('{:.0%}'.format)\n",
    "\n",
    "plt.show()"
   ]
  },
  {
   "cell_type": "markdown",
   "metadata": {},
   "source": [
    "The distribution of categories for our candidate set is, as with the global set of pages, skewed. However, there still exists enough representation to ensure diversity of category (and therefore concepts pursued by the LLM) among game pairs. \n",
    "\n",
    "We attach category information **for goals** to our candidate set and proceed to inspect other variables relevant to our analysis. Candidate game pairs with a goal with more than one primary category are removed to ensure maximum separability of targeted concepts."
   ]
  },
  {
   "cell_type": "code",
   "execution_count": 9,
   "metadata": {},
   "outputs": [
    {
     "data": {
      "text/html": [
       "<div>\n",
       "<style scoped>\n",
       "    .dataframe tbody tr th:only-of-type {\n",
       "        vertical-align: middle;\n",
       "    }\n",
       "\n",
       "    .dataframe tbody tr th {\n",
       "        vertical-align: top;\n",
       "    }\n",
       "\n",
       "    .dataframe thead th {\n",
       "        text-align: right;\n",
       "    }\n",
       "</style>\n",
       "<table border=\"1\" class=\"dataframe\">\n",
       "  <thead>\n",
       "    <tr style=\"text-align: right;\">\n",
       "      <th></th>\n",
       "      <th>game_pair</th>\n",
       "      <th>human_attempts</th>\n",
       "      <th>origin</th>\n",
       "      <th>goal</th>\n",
       "      <th>goal_category</th>\n",
       "    </tr>\n",
       "  </thead>\n",
       "  <tbody>\n",
       "    <tr>\n",
       "      <th>0</th>\n",
       "      <td>Brain-&gt;Telephone</td>\n",
       "      <td>2044</td>\n",
       "      <td>Brain</td>\n",
       "      <td>Telephone</td>\n",
       "      <td>Design_and_Technology</td>\n",
       "    </tr>\n",
       "    <tr>\n",
       "      <th>1</th>\n",
       "      <td>Dog-&gt;Telephone</td>\n",
       "      <td>89</td>\n",
       "      <td>Dog</td>\n",
       "      <td>Telephone</td>\n",
       "      <td>Design_and_Technology</td>\n",
       "    </tr>\n",
       "    <tr>\n",
       "      <th>2</th>\n",
       "      <td>Jew-&gt;Telephone</td>\n",
       "      <td>30</td>\n",
       "      <td>Jew</td>\n",
       "      <td>Telephone</td>\n",
       "      <td>Design_and_Technology</td>\n",
       "    </tr>\n",
       "    <tr>\n",
       "      <th>3</th>\n",
       "      <td>Theatre-&gt;Zebra</td>\n",
       "      <td>1777</td>\n",
       "      <td>Theatre</td>\n",
       "      <td>Zebra</td>\n",
       "      <td>Science</td>\n",
       "    </tr>\n",
       "    <tr>\n",
       "      <th>4</th>\n",
       "      <td>Bird-&gt;Great_white_shark</td>\n",
       "      <td>168</td>\n",
       "      <td>Bird</td>\n",
       "      <td>Great_white_shark</td>\n",
       "      <td>Science</td>\n",
       "    </tr>\n",
       "  </tbody>\n",
       "</table>\n",
       "</div>"
      ],
      "text/plain": [
       "                 game_pair  human_attempts   origin               goal  \\\n",
       "0         Brain->Telephone            2044    Brain          Telephone   \n",
       "1           Dog->Telephone              89      Dog          Telephone   \n",
       "2           Jew->Telephone              30      Jew          Telephone   \n",
       "3           Theatre->Zebra            1777  Theatre              Zebra   \n",
       "4  Bird->Great_white_shark             168     Bird  Great_white_shark   \n",
       "\n",
       "           goal_category  \n",
       "0  Design_and_Technology  \n",
       "1  Design_and_Technology  \n",
       "2  Design_and_Technology  \n",
       "3                Science  \n",
       "4                Science  "
      ]
     },
     "metadata": {},
     "output_type": "display_data"
    },
    {
     "name": "stdout",
     "output_type": "stream",
     "text": [
      "13 candidate game pairs dropped. 41 remain.\n"
     ]
    }
   ],
   "source": [
    "game_pair_cands_cats = game_pair_cands.merge(right = categories_cands, left_on='goal', right_on='article')[['game_pair', 'human_attempts', 'origin', 'goal', 'main_category']].copy()\n",
    "game_pair_cands_cats = game_pair_cands_cats[~game_pair_cands_cats['game_pair'].duplicated(keep=False)].reset_index(drop=True).copy()\n",
    "game_pair_cands_cats = game_pair_cands_cats.rename(columns={'main_category':'goal_category'})\n",
    "display(game_pair_cands_cats.head())\n",
    "print(str(len(game_pair_cands) - len(game_pair_cands_cats)) + \" candidate game pairs dropped. \" + str(len(game_pair_cands_cats)) + \" remain.\")"
   ]
  },
  {
   "cell_type": "markdown",
   "metadata": {},
   "source": [
    "### 1.3: Average rounds-to-completion, maximum degree along game path, % of attempts containing a backtrack (paths_finished.tsv, paths_unfinished.tsv, links.tsv)"
   ]
  },
  {
   "cell_type": "markdown",
   "metadata": {},
   "source": [
    "Given the nature of our intended analysis (see Methods section below), it would be helpful to select game pairs for which there is variation in difficulty, connectedness of hubs employed by humans, and propensity of humans to reverse previous decisions. These can be targeted with statistics compiled at the game pair level: average rounds-to-game-completion proxies for difficulty, average maximum outgoing Wikipedia links from a single page on a game path proxies for hub connectedness, and percentage of games in which backtracks occur captures the last variable. \n",
    "\n",
    "We first calculate each variable for our candidate game pairs."
   ]
  },
  {
   "cell_type": "code",
   "execution_count": 10,
   "metadata": {},
   "outputs": [],
   "source": [
    "def all_to_candidates(all_paths, candidates, new_var_pre_agg, new_var_post_agg, finished_only):\n",
    "    \"\"\"For mapping all_path data to candidate set\"\"\"\n",
    "    if finished_only == True:\n",
    "        all_pairs_avg = all_paths[all_paths['finished'] == 1].groupby('game_pair')[new_var_pre_agg].agg('mean').reset_index().copy()\n",
    "    else:\n",
    "        all_pairs_avg = all_paths.groupby('game_pair')[new_var_pre_agg].agg('mean').reset_index().copy()\n",
    "    all_pairs_avg = all_pairs_avg.rename(columns={new_var_pre_agg:new_var_post_agg})\n",
    "    return candidates.merge(right=all_pairs_avg, on='game_pair').copy()"
   ]
  },
  {
   "cell_type": "code",
   "execution_count": 11,
   "metadata": {},
   "outputs": [],
   "source": [
    "## Average rounds-to-completion\n",
    "all_paths['game_length'] = all_paths['path_decoded'].apply(len)\n",
    "all_paths.loc[all_paths['finished'] == 0, 'game_length'] = np.nan\n",
    "game_pair_cands_cats_oth = all_to_candidates(all_paths, game_pair_cands_cats, 'game_length', 'avg_game_length', True)"
   ]
  },
  {
   "cell_type": "code",
   "execution_count": 12,
   "metadata": {},
   "outputs": [],
   "source": [
    "## Average max degree along game path\n",
    "outgoing_links = {}\n",
    "degrees = {}\n",
    "\n",
    "# Create dictionaries for links connections and degrees\n",
    "df = pd.read_csv(data_dir+'links.tsv', sep='\\t', skiprows=12, header=None)\n",
    "for index, row in df.iterrows(): \n",
    "    start_page = urllib.parse.unquote(row[0])\n",
    "    link_page = urllib.parse.unquote(row[1])\n",
    "    if start_page in outgoing_links:\n",
    "        outgoing_links[start_page].append(link_page)\n",
    "    else:\n",
    "        outgoing_links[start_page] = [link_page]\n",
    "for key in outgoing_links.keys():\n",
    "    degrees[key] = len(outgoing_links[key])\n",
    "\n",
    "def get_degree_from_wikipedia_page(page_title):\n",
    "    return degrees.get(page_title,np.nan)\n",
    "def calculate_degrees(game_path):\n",
    "    return [get_degree_from_wikipedia_page(page) for page in game_path]\n",
    "\n",
    "# Map game path to degree path\n",
    "all_paths['degrees'] = [calculate_degrees(game_path) for game_path in all_paths['path_decoded']]\n",
    "\n",
    "# Calculate max degree in a given game (function handles missing values)\n",
    "def find_max(lst):\n",
    "    return max(lst) if lst else None  # Return None for empty lists\n",
    "all_paths['max_degree'] = all_paths['degrees'].apply(max)\n",
    "\n",
    "# Now average and combine with candidate set\n",
    "game_pair_cands_cats_oth = all_to_candidates(all_paths, game_pair_cands_cats_oth, 'max_degree', 'avg_max_degree', True)"
   ]
  },
  {
   "cell_type": "code",
   "execution_count": 13,
   "metadata": {},
   "outputs": [],
   "source": [
    "## % of games with backtrack\n",
    "all_paths['backtrack_occurred'] = all_paths['path_decoded'].apply(lambda x: any('<' in page for page in x))\n",
    "game_pair_cands_cats_oth = all_to_candidates(all_paths, game_pair_cands_cats_oth, 'backtrack_occurred', 'share_backtrack_occurred', finished_only = False)"
   ]
  },
  {
   "cell_type": "code",
   "execution_count": 14,
   "metadata": {},
   "outputs": [
    {
     "data": {
      "text/html": [
       "<div>\n",
       "<style scoped>\n",
       "    .dataframe tbody tr th:only-of-type {\n",
       "        vertical-align: middle;\n",
       "    }\n",
       "\n",
       "    .dataframe tbody tr th {\n",
       "        vertical-align: top;\n",
       "    }\n",
       "\n",
       "    .dataframe thead th {\n",
       "        text-align: right;\n",
       "    }\n",
       "</style>\n",
       "<table border=\"1\" class=\"dataframe\">\n",
       "  <thead>\n",
       "    <tr style=\"text-align: right;\">\n",
       "      <th></th>\n",
       "      <th>game_pair</th>\n",
       "      <th>human_attempts</th>\n",
       "      <th>origin</th>\n",
       "      <th>goal</th>\n",
       "      <th>goal_category</th>\n",
       "      <th>avg_game_length</th>\n",
       "      <th>avg_max_degree</th>\n",
       "      <th>share_backtrack_occurred</th>\n",
       "    </tr>\n",
       "  </thead>\n",
       "  <tbody>\n",
       "    <tr>\n",
       "      <th>0</th>\n",
       "      <td>Brain-&gt;Telephone</td>\n",
       "      <td>2044</td>\n",
       "      <td>Brain</td>\n",
       "      <td>Telephone</td>\n",
       "      <td>Design_and_Technology</td>\n",
       "      <td>7.100000</td>\n",
       "      <td>95.138462</td>\n",
       "      <td>0.177104</td>\n",
       "    </tr>\n",
       "    <tr>\n",
       "      <th>1</th>\n",
       "      <td>Dog-&gt;Telephone</td>\n",
       "      <td>89</td>\n",
       "      <td>Dog</td>\n",
       "      <td>Telephone</td>\n",
       "      <td>Design_and_Technology</td>\n",
       "      <td>7.622642</td>\n",
       "      <td>163.622642</td>\n",
       "      <td>0.224719</td>\n",
       "    </tr>\n",
       "    <tr>\n",
       "      <th>2</th>\n",
       "      <td>Jew-&gt;Telephone</td>\n",
       "      <td>30</td>\n",
       "      <td>Jew</td>\n",
       "      <td>Telephone</td>\n",
       "      <td>Design_and_Technology</td>\n",
       "      <td>6.444444</td>\n",
       "      <td>244.277778</td>\n",
       "      <td>0.133333</td>\n",
       "    </tr>\n",
       "    <tr>\n",
       "      <th>3</th>\n",
       "      <td>Theatre-&gt;Zebra</td>\n",
       "      <td>1777</td>\n",
       "      <td>Theatre</td>\n",
       "      <td>Zebra</td>\n",
       "      <td>Science</td>\n",
       "      <td>7.836464</td>\n",
       "      <td>166.501657</td>\n",
       "      <td>0.195273</td>\n",
       "    </tr>\n",
       "    <tr>\n",
       "      <th>4</th>\n",
       "      <td>Bird-&gt;Great_white_shark</td>\n",
       "      <td>168</td>\n",
       "      <td>Bird</td>\n",
       "      <td>Great_white_shark</td>\n",
       "      <td>Science</td>\n",
       "      <td>5.695652</td>\n",
       "      <td>57.391304</td>\n",
       "      <td>0.059524</td>\n",
       "    </tr>\n",
       "  </tbody>\n",
       "</table>\n",
       "</div>"
      ],
      "text/plain": [
       "                 game_pair  human_attempts   origin               goal  \\\n",
       "0         Brain->Telephone            2044    Brain          Telephone   \n",
       "1           Dog->Telephone              89      Dog          Telephone   \n",
       "2           Jew->Telephone              30      Jew          Telephone   \n",
       "3           Theatre->Zebra            1777  Theatre              Zebra   \n",
       "4  Bird->Great_white_shark             168     Bird  Great_white_shark   \n",
       "\n",
       "           goal_category  avg_game_length  avg_max_degree  \\\n",
       "0  Design_and_Technology         7.100000       95.138462   \n",
       "1  Design_and_Technology         7.622642      163.622642   \n",
       "2  Design_and_Technology         6.444444      244.277778   \n",
       "3                Science         7.836464      166.501657   \n",
       "4                Science         5.695652       57.391304   \n",
       "\n",
       "   share_backtrack_occurred  \n",
       "0                  0.177104  \n",
       "1                  0.224719  \n",
       "2                  0.133333  \n",
       "3                  0.195273  \n",
       "4                  0.059524  "
      ]
     },
     "execution_count": 14,
     "metadata": {},
     "output_type": "execute_result"
    }
   ],
   "source": [
    "# updated candidate df\n",
    "game_pair_cands_cats_oth.head()"
   ]
  },
  {
   "cell_type": "markdown",
   "metadata": {},
   "source": [
    "We are now equipped with all we need to select our 10 game pairs. We select our game pairs in the next section and visualize their location over distributions for our selection variables.\n",
    "\n",
    "Note that we did not include share of games abandoned in our set of relevant variables because we already had a proxy for difficulty and a metric quantifying backtracks; further selection variables would only complicate extraction of our subset."
   ]
  },
  {
   "cell_type": "markdown",
   "metadata": {},
   "source": [
    "### 1.4: Selecting the 10 game pairs the LLM will play"
   ]
  },
  {
   "cell_type": "markdown",
   "metadata": {},
   "source": [
    "Our subset of 10 game pairs will fulfill the following requirements:\n",
    "- No one article appears as an origin or goal more than once\n",
    "- No goal article category appears more than twice\n",
    "- The sum of the standard errors of standardized avg_game_length, avg_max_degree, and share_backtrack_occurred in the subset is the maximum across all subsets matching the above conditions\n",
    "\n",
    "We achieve these conditions with the loop below."
   ]
  },
  {
   "cell_type": "code",
   "execution_count": 15,
   "metadata": {},
   "outputs": [
    {
     "name": "stdout",
     "output_type": "stream",
     "text": [
      "new sample\n",
      "new sample\n",
      "new sample\n",
      "new sample\n",
      "new sample\n",
      "new sample\n",
      "new sample\n"
     ]
    },
    {
     "data": {
      "text/plain": [
       "25     14th_century->Rainbow\n",
       "7         Bird->Adolf_Hitler\n",
       "30      Batman->Coconut_crab\n",
       "29           Africa->England\n",
       "27    George_W._Bush->Monkey\n",
       "37    Antlion->Hip_hop_music\n",
       "14          Aircraft->Google\n",
       "22                Jesus->God\n",
       "16           Computer->Fruit\n",
       "2             Jew->Telephone\n",
       "Name: game_pair, dtype: object"
      ]
     },
     "metadata": {},
     "output_type": "display_data"
    }
   ],
   "source": [
    "# Standardize quantitative variables \n",
    "quant_vars = ['avg_game_length', 'avg_max_degree', 'share_backtrack_occurred']\n",
    "quant_vars_new = ['avg_game_length_stdiz', 'avg_max_degree_stdiz', 'share_backtrack_occurred_stdiz']\n",
    "game_pair_cands_cats_oth[quant_vars_new] = (game_pair_cands_cats_oth[quant_vars] - game_pair_cands_cats_oth[quant_vars].mean()) / game_pair_cands_cats_oth[quant_vars].std()\n",
    "\n",
    "# Select subset!\n",
    "def find_10_pairs_for_llm():\n",
    "    seed = 5\n",
    "    sample = \"none\"\n",
    "    running_se_sum = 0\n",
    "    failed_to_update = 0\n",
    "    while failed_to_update < 2000:\n",
    "        seed += 1\n",
    "        tmp_sample = game_pair_cands_cats_oth.sample(n=10, random_state=seed)\n",
    "        # confirm pages only appear once as origin or goal\n",
    "        if len(set(pd.concat([tmp_sample['origin'], tmp_sample['goal']]))) != 20:\n",
    "            pass\n",
    "        # confirm categories only appear once or twice among goal\n",
    "        elif tmp_sample['goal_category'].value_counts().max() > 2:\n",
    "            pass\n",
    "        # allow final set to update if quantitative var standard error sum is higher\n",
    "        else:\n",
    "            sample_se_sum = tmp_sample['avg_game_length_stdiz'].var() + tmp_sample['avg_max_degree_stdiz'].var() + tmp_sample['share_backtrack_occurred_stdiz'].var()\n",
    "            if sample_se_sum > running_se_sum:\n",
    "                sample = tmp_sample\n",
    "                running_se_sum = sample_se_sum\n",
    "                # failed_to_update = 0\n",
    "            else:\n",
    "                failed_to_update += 1\n",
    "    return sample\n",
    "final_pairs = find_10_pairs_for_llm()\n",
    "\n",
    "final_pairs.to_csv(\"dependencies/game_pairs_for_LLM.csv\")\n",
    "display(final_pairs['game_pair'])\n",
    "\n"
   ]
  },
  {
   "cell_type": "markdown",
   "metadata": {},
   "source": [
    "We can confirm our unique concept and mostly unique category conditions with visual inspection:"
   ]
  },
  {
   "cell_type": "code",
   "execution_count": 16,
   "metadata": {},
   "outputs": [
    {
     "data": {
      "text/html": [
       "<div>\n",
       "<style scoped>\n",
       "    .dataframe tbody tr th:only-of-type {\n",
       "        vertical-align: middle;\n",
       "    }\n",
       "\n",
       "    .dataframe tbody tr th {\n",
       "        vertical-align: top;\n",
       "    }\n",
       "\n",
       "    .dataframe thead th {\n",
       "        text-align: right;\n",
       "    }\n",
       "</style>\n",
       "<table border=\"1\" class=\"dataframe\">\n",
       "  <thead>\n",
       "    <tr style=\"text-align: right;\">\n",
       "      <th></th>\n",
       "      <th>game_pair</th>\n",
       "      <th>human_attempts</th>\n",
       "      <th>origin</th>\n",
       "      <th>goal</th>\n",
       "      <th>goal_category</th>\n",
       "      <th>avg_game_length</th>\n",
       "      <th>avg_max_degree</th>\n",
       "      <th>share_backtrack_occurred</th>\n",
       "      <th>avg_game_length_stdiz</th>\n",
       "      <th>avg_max_degree_stdiz</th>\n",
       "      <th>share_backtrack_occurred_stdiz</th>\n",
       "    </tr>\n",
       "  </thead>\n",
       "  <tbody>\n",
       "    <tr>\n",
       "      <th>25</th>\n",
       "      <td>14th_century-&gt;Rainbow</td>\n",
       "      <td>50</td>\n",
       "      <td>14th_century</td>\n",
       "      <td>Rainbow</td>\n",
       "      <td>Geography</td>\n",
       "      <td>7.444444</td>\n",
       "      <td>80.592593</td>\n",
       "      <td>0.200000</td>\n",
       "      <td>0.439756</td>\n",
       "      <td>-1.182207</td>\n",
       "      <td>0.494393</td>\n",
       "    </tr>\n",
       "    <tr>\n",
       "      <th>7</th>\n",
       "      <td>Bird-&gt;Adolf_Hitler</td>\n",
       "      <td>129</td>\n",
       "      <td>Bird</td>\n",
       "      <td>Adolf_Hitler</td>\n",
       "      <td>People</td>\n",
       "      <td>5.401869</td>\n",
       "      <td>153.214953</td>\n",
       "      <td>0.100775</td>\n",
       "      <td>-0.621009</td>\n",
       "      <td>0.296003</td>\n",
       "      <td>-0.595969</td>\n",
       "    </tr>\n",
       "    <tr>\n",
       "      <th>30</th>\n",
       "      <td>Batman-&gt;Coconut_crab</td>\n",
       "      <td>35</td>\n",
       "      <td>Batman</td>\n",
       "      <td>Coconut_crab</td>\n",
       "      <td>Science</td>\n",
       "      <td>10.181818</td>\n",
       "      <td>76.181818</td>\n",
       "      <td>0.428571</td>\n",
       "      <td>1.861348</td>\n",
       "      <td>-1.271987</td>\n",
       "      <td>3.006120</td>\n",
       "    </tr>\n",
       "    <tr>\n",
       "      <th>29</th>\n",
       "      <td>Africa-&gt;England</td>\n",
       "      <td>35</td>\n",
       "      <td>Africa</td>\n",
       "      <td>England</td>\n",
       "      <td>Geography</td>\n",
       "      <td>4.333333</td>\n",
       "      <td>212.000000</td>\n",
       "      <td>0.000000</td>\n",
       "      <td>-1.175928</td>\n",
       "      <td>1.492558</td>\n",
       "      <td>-1.703368</td>\n",
       "    </tr>\n",
       "    <tr>\n",
       "      <th>27</th>\n",
       "      <td>George_W._Bush-&gt;Monkey</td>\n",
       "      <td>37</td>\n",
       "      <td>George_W._Bush</td>\n",
       "      <td>Monkey</td>\n",
       "      <td>Science</td>\n",
       "      <td>10.588235</td>\n",
       "      <td>135.235294</td>\n",
       "      <td>0.405405</td>\n",
       "      <td>2.072411</td>\n",
       "      <td>-0.069968</td>\n",
       "      <td>2.751553</td>\n",
       "    </tr>\n",
       "    <tr>\n",
       "      <th>37</th>\n",
       "      <td>Antlion-&gt;Hip_hop_music</td>\n",
       "      <td>29</td>\n",
       "      <td>Antlion</td>\n",
       "      <td>Hip_hop_music</td>\n",
       "      <td>Music</td>\n",
       "      <td>6.250000</td>\n",
       "      <td>213.250000</td>\n",
       "      <td>0.206897</td>\n",
       "      <td>-0.180551</td>\n",
       "      <td>1.518001</td>\n",
       "      <td>0.570178</td>\n",
       "    </tr>\n",
       "    <tr>\n",
       "      <th>14</th>\n",
       "      <td>Aircraft-&gt;Google</td>\n",
       "      <td>78</td>\n",
       "      <td>Aircraft</td>\n",
       "      <td>Google</td>\n",
       "      <td>IT</td>\n",
       "      <td>9.342857</td>\n",
       "      <td>191.742857</td>\n",
       "      <td>0.243590</td>\n",
       "      <td>1.425653</td>\n",
       "      <td>1.080229</td>\n",
       "      <td>0.973392</td>\n",
       "    </tr>\n",
       "    <tr>\n",
       "      <th>22</th>\n",
       "      <td>Jesus-&gt;God</td>\n",
       "      <td>27</td>\n",
       "      <td>Jesus</td>\n",
       "      <td>God</td>\n",
       "      <td>Religion</td>\n",
       "      <td>2.000000</td>\n",
       "      <td>59.000000</td>\n",
       "      <td>0.000000</td>\n",
       "      <td>-2.387691</td>\n",
       "      <td>-1.621719</td>\n",
       "      <td>-1.703368</td>\n",
       "    </tr>\n",
       "    <tr>\n",
       "      <th>16</th>\n",
       "      <td>Computer-&gt;Fruit</td>\n",
       "      <td>65</td>\n",
       "      <td>Computer</td>\n",
       "      <td>Fruit</td>\n",
       "      <td>Everyday_life</td>\n",
       "      <td>8.344828</td>\n",
       "      <td>114.034483</td>\n",
       "      <td>0.200000</td>\n",
       "      <td>0.907349</td>\n",
       "      <td>-0.501506</td>\n",
       "      <td>0.494393</td>\n",
       "    </tr>\n",
       "    <tr>\n",
       "      <th>2</th>\n",
       "      <td>Jew-&gt;Telephone</td>\n",
       "      <td>30</td>\n",
       "      <td>Jew</td>\n",
       "      <td>Telephone</td>\n",
       "      <td>Design_and_Technology</td>\n",
       "      <td>6.444444</td>\n",
       "      <td>244.277778</td>\n",
       "      <td>0.133333</td>\n",
       "      <td>-0.079571</td>\n",
       "      <td>2.149564</td>\n",
       "      <td>-0.238194</td>\n",
       "    </tr>\n",
       "  </tbody>\n",
       "</table>\n",
       "</div>"
      ],
      "text/plain": [
       "                 game_pair  human_attempts          origin           goal  \\\n",
       "25   14th_century->Rainbow              50    14th_century        Rainbow   \n",
       "7       Bird->Adolf_Hitler             129            Bird   Adolf_Hitler   \n",
       "30    Batman->Coconut_crab              35          Batman   Coconut_crab   \n",
       "29         Africa->England              35          Africa        England   \n",
       "27  George_W._Bush->Monkey              37  George_W._Bush         Monkey   \n",
       "37  Antlion->Hip_hop_music              29         Antlion  Hip_hop_music   \n",
       "14        Aircraft->Google              78        Aircraft         Google   \n",
       "22              Jesus->God              27           Jesus            God   \n",
       "16         Computer->Fruit              65        Computer          Fruit   \n",
       "2           Jew->Telephone              30             Jew      Telephone   \n",
       "\n",
       "            goal_category  avg_game_length  avg_max_degree  \\\n",
       "25              Geography         7.444444       80.592593   \n",
       "7                  People         5.401869      153.214953   \n",
       "30                Science        10.181818       76.181818   \n",
       "29              Geography         4.333333      212.000000   \n",
       "27                Science        10.588235      135.235294   \n",
       "37                  Music         6.250000      213.250000   \n",
       "14                     IT         9.342857      191.742857   \n",
       "22               Religion         2.000000       59.000000   \n",
       "16          Everyday_life         8.344828      114.034483   \n",
       "2   Design_and_Technology         6.444444      244.277778   \n",
       "\n",
       "    share_backtrack_occurred  avg_game_length_stdiz  avg_max_degree_stdiz  \\\n",
       "25                  0.200000               0.439756             -1.182207   \n",
       "7                   0.100775              -0.621009              0.296003   \n",
       "30                  0.428571               1.861348             -1.271987   \n",
       "29                  0.000000              -1.175928              1.492558   \n",
       "27                  0.405405               2.072411             -0.069968   \n",
       "37                  0.206897              -0.180551              1.518001   \n",
       "14                  0.243590               1.425653              1.080229   \n",
       "22                  0.000000              -2.387691             -1.621719   \n",
       "16                  0.200000               0.907349             -0.501506   \n",
       "2                   0.133333              -0.079571              2.149564   \n",
       "\n",
       "    share_backtrack_occurred_stdiz  \n",
       "25                        0.494393  \n",
       "7                        -0.595969  \n",
       "30                        3.006120  \n",
       "29                       -1.703368  \n",
       "27                        2.751553  \n",
       "37                        0.570178  \n",
       "14                        0.973392  \n",
       "22                       -1.703368  \n",
       "16                        0.494393  \n",
       "2                        -0.238194  "
      ]
     },
     "metadata": {},
     "output_type": "display_data"
    }
   ],
   "source": [
    "display(final_pairs)"
   ]
  },
  {
   "cell_type": "markdown",
   "metadata": {},
   "source": [
    "Furthermore, we can confirm our pairs exhibit sufficient variance with respect to our quantitative selection variables by displaying them on a global distribution:"
   ]
  },
  {
   "cell_type": "code",
   "execution_count": 17,
   "metadata": {},
   "outputs": [
    {
     "data": {
      "image/png": "[encoded data removed]",
      "text/plain": [
       "<Figure size 1500x500 with 3 Axes>"
      ]
     },
     "metadata": {},
     "output_type": "display_data"
    }
   ],
   "source": [
    "all_pairs_qvars =all_paths.groupby('game_pair')[['max_degree', 'backtrack_occurred', 'game_length']].agg('mean').reset_index()\n",
    "\n",
    "fig, axs = plt.subplots(1, 3, figsize=(15, 5))\n",
    "def histogram_w_final_selection(qvar, agg_adder, x_label, ax):\n",
    "    sns.histplot(data=all_pairs_qvars, x=qvar, kde=True, ax=ax)\n",
    "    kde = sns.kdeplot(data=all_pairs_qvars[qvar], legend=False, ax=ax)\n",
    "    kde_data = kde.get_lines()[0].get_data()\n",
    "\n",
    "    final_pairs_location = final_pairs[agg_adder + qvar]\n",
    "    for x in final_pairs_location:\n",
    "        closest_index = np.argmin(np.abs(kde_data[0] - x))\n",
    "        y = kde_data[1][closest_index]\n",
    "        ax.plot(x, y, 'ro')\n",
    "\n",
    "    ax.set_xlabel(x_label)\n",
    "    ax.set_ylabel('Game Pairs')\n",
    "    ax.set_title(x_label + ' Across all Pairs')\n",
    "    if qvar == 'game_length':\n",
    "        ax.set_xlim(0,15)\n",
    "        legend_elements = [Line2D([0], [0], marker='o', color='red', label='Game Pair for LLM', markersize=8, linestyle='None')]\n",
    "        ax.legend(handles=legend_elements)\n",
    "    if qvar == 'max_degree':\n",
    "        ax.set_xlim(0,265)\n",
    "    \n",
    "histogram_w_final_selection('game_length', 'avg_', 'Average Game Length', axs[0])\n",
    "histogram_w_final_selection('max_degree', 'avg_', 'Average Max Degree', axs[1])\n",
    "histogram_w_final_selection('backtrack_occurred', 'share_', 'Share Games with Backtrack', axs[2])"
   ]
  },
  {
   "cell_type": "markdown",
   "metadata": {},
   "source": [
    "With a set of 10 game pairs played 25 times or more that vary in target category while also exhibiting a varied and representative distribution of average game length, average maximum degree on game path, and share of games with backtracking, we know now the Wikispeedia games we can ask an LLM to play that will yield data relevant to our research questions.\n",
    "\n",
    "However, we cannot begin developing external data without settling on an LLM and prompt architecture. This is subject of the next section. "
   ]
  },
  {
   "cell_type": "markdown",
   "metadata": {},
   "source": [
    "## 2. LLM and Prompt Selection <a class=\"anchor\" id=\"llm-prompts\"></a>\n",
    "\n",
    "**Motivation**\n",
    "\n",
    "In order to obtain LLMs data relevant to our research questions, we must select an LLM and prompt architecture that will allow us to emulate the Wikispeedia game experience. The models we are considering, however, are all (relatively) small models due to the computational constraints of our local machines. This makes the task of playing the game very difficult for them, and indeed , results are very disappointing, and led us into manually playing the Wikispeedia game through prompt and dcollection of resposes on the online version of ChatGPT. \n",
    "\n",
    "To make sure the limitations were actually coming from the model side and not from poor prompts, we tried many different models on many different prompts. Below the results of our experiments.\n",
    "\n",
    "**Test setup**\n",
    "\n",
    "In order to test the validity of the chosen LM, we asked it to navigate Batman -> Coconut_crab (selected from the 10 game pairs). For each prompt we tested the ability of the model to: a) choose an answer in the provided set of available links; b) choose the goal word (Coconut_crab) as soon as it appears in set of available links.\n",
    "\n",
    "Some models were more promising than others, but at the end of the day the performance was not good enough to be used for our analysis. Hence, we decided to manually play the game through prompt and dcollection of resposes on the online version of ChatGPT.\n"
   ]
  },
  {
   "cell_type": "markdown",
   "metadata": {},
   "source": [
    "#### 2.0 Defining the initial set up for our test"
   ]
  },
  {
   "cell_type": "code",
   "execution_count": 21,
   "metadata": {},
   "outputs": [
    {
     "name": "stdout",
     "output_type": "stream",
     "text": [
      "['Chemistry', 'Crime', 'Earthquake', 'Scotland', 'Spring_Heeled_Jack']\n"
     ]
    }
   ],
   "source": [
    "# Define a link extractor funtion. This will be useful because we will need to extract links based on the selected page at every step.\n",
    "\n",
    "links = {}\n",
    "\n",
    "df = pd.read_csv(data_dir + 'links.tsv', sep='\\t', skiprows=12, header=None)\n",
    "# Iterate over the dataframe rows\n",
    "for index, row in df.iterrows():\n",
    "    start_page = urllib.parse.unquote(row[0])\n",
    "    link_page = urllib.parse.unquote(row[1])\n",
    "    if start_page in links:\n",
    "        links[start_page].append(link_page)\n",
    "    else:\n",
    "        links[start_page] = [link_page]\n",
    "\n",
    "# Function for pulling links\n",
    "def get_links_from_wikipedia_page(page_title):\n",
    "    return links.get(page_title, [])\n",
    "\n",
    "# Example: first 5 links from Batman page\n",
    "print(get_links_from_wikipedia_page('Batman')[:5])"
   ]
  },
  {
   "cell_type": "code",
   "execution_count": 29,
   "metadata": {},
   "outputs": [],
   "source": [
    "# List of prompts we tried. Ordered from simple to complex.\n",
    "\n",
    "def get_inputs(current_page, target, complexity, type_of_model):\n",
    "    \"\"\"\n",
    "    Takes the current page, the target page, the complexity of the prompt (1,2,3,4), and the type of model ('text-gen', 'qa').\n",
    "    Returns the prompt, or the context and the question.\n",
    "    \"\"\"\n",
    "\n",
    "    CANDIDATES = str(get_links_from_wikipedia_page(current_page))\n",
    "    TARGET = target\n",
    "\n",
    "    if type_of_model == 'text-gen':\n",
    "        prompts = {}\n",
    "        prompts['prompt1'] = f\"The one concept that is semantically closest to <{TARGET}> from the following set : {CANDIDATES} is:\"\n",
    "        prompts['prompt2'] = f\"Choosing only from the set {CANDIDATES}, the one concept that is semantically closest to <{TARGET}> is: \"\n",
    "        # trying some chain-of-thought prompts, which are some times more effective:\n",
    "        prompts['prompt3'] = f\"From the set ['Car', 'Tree', 'University'], Henry_Ford is semantically closest to 'Car' because he was the founder of Ford Motor Company. In a similar way, from the set {CANDIDATES}, <{TARGET}> is semantically closest to: \"\n",
    "        prompts['prompt4'] = f\"The only one word that is semantically closest to 'George_Washington' from the set : [Able_Archer_83, Afghanistan, Albania, Algeria, Armenia, Australia, Austria, Azerbaijan, Belarus, Belgium, Bosnia_and_Herzegovina, Brussels, Bulgaria, Canada, China, Cold_War, Colombia, Condoleezza_Rice, Croatia, Cyprus, Czech_Republic, Denmark, Dwight_D._Eisenhower, ECHELON, Egypt, El_Salvador, English_language, Estonia, Europe, Finland, France, French_language, George_W._Bush, Georgia_(country), German_reunification, Germany, Greece, Harold_Macmillan, Hungary, Iceland, India, Iran, Iraq, Iraq_War, Israel, Italy, Japan, Jordan, Kazakhstan, Kyrgyzstan, Latvia, Lithuania, Luxembourg, Malta, Mauritania, Mediterranean_Sea, Mikhail_Gorbachev, Moldova, Montenegro, Morocco, Netherlands, New_Zealand, Norway, Paris, Poland, Portugal, Prague, Republic_of_Ireland, Republic_of_Macedonia, Romania, Ronald_Reagan, Russia, September_11,_2001_attacks, Serbia, Slovakia, Slovenia, South_Korea, Soviet_Union, Spain, Stuttgart, Sweden, Switzerland, Tajikistan, The_Hague, Tunisia, Turkey, Turkmenistan, Ukraine, United_Kingdom, United_Nations, United_States, Uzbekistan, War_in_Somalia_(2006–present), World_War_II, Yemen, Yugoslavia] is: 'United_States' because George Washington was the first president of United States. In a similar way, the only one word that is semantically closest to <{TARGET}> from the set : {CANDIDATES} is: \"\n",
    "        \n",
    "        return prompts['prompt'+str(complexity)]\n",
    "\n",
    "    if type_of_model == 'qa':\n",
    "        context = \"You can choose only one option from the provided set. If the list contains the target word, you choose it. Otherwise you choose the semantically most similar word.\"\n",
    "        questions = {}\n",
    "        questions['question1'] = f\"What is the concept that is semantically closest to <{TARGET}> from the following set : {CANDIDATES} ?\"\n",
    "        questions['question2'] = f\"Choosing only from the set {CANDIDATES}, what is the concept that is semantically closest to <{TARGET}> ? \"\n",
    "        questions['question3'] = f\"From the set ['Car', 'Tree', 'University'], Henry_Ford is semantically closest to 'Car' because he was the founder of Ford Motor Company. In a similar way, from the set [{CANDIDATES}], what is the concept that is semantically closest to <{TARGET}> ? \"\n",
    "        questions['question4'] = f\"The only one word that is semantically closest to 'George_Washington' from the set : [Able_Archer_83, Afghanistan, Albania, Algeria, Armenia, Australia, Austria, Azerbaijan, Belarus, Belgium, Bosnia_and_Herzegovina, Brussels, Bulgaria, Canada, China, Cold_War, Colombia, Condoleezza_Rice, Croatia, Cyprus, Czech_Republic, Denmark, Dwight_D._Eisenhower, ECHELON, Egypt, El_Salvador, English_language, Estonia, Europe, Finland, France, French_language, George_W._Bush, Georgia_(country), German_reunification, Germany, Greece, Harold_Macmillan, Hungary, Iceland, India, Iran, Iraq, Iraq_War, Israel, Italy, Japan, Jordan, Kazakhstan, Kyrgyzstan, Latvia, Lithuania, Luxembourg, Malta, Mauritania, Mediterranean_Sea, Mikhail_Gorbachev, Moldova, Montenegro, Morocco, Netherlands, New_Zealand, Norway, Paris, Poland, Portugal, Prague, Republic_of_Ireland, Republic_of_Macedonia, Romania, Ronald_Reagan, Russia, September_11,_2001_attacks, Serbia, Slovakia, Slovenia, South_Korea, Soviet_Union, Spain, Stuttgart, Sweden, Switzerland, Tajikistan, The_Hague, Tunisia, Turkey, Turkmenistan, Ukraine, United_Kingdom, United_Nations, United_States, Uzbekistan, War_in_Somalia_(2006–present), World_War_II, Yemen, Yugoslavia] is: 'United_States' because George Washington was the first president of United States. In a similar way, what is the only one word that is semantically closest to <{TARGET}> from the set : {CANDIDATES} ? \"\n",
    "\n",
    "        return context, questions['question'+str(complexity)]\n",
    "    \n",
    "    else :\n",
    "        raise ValueError('type_of_model must be one of the following: \"text-gen\", \"qa\"')\n",
    "    \n"
   ]
  },
  {
   "cell_type": "markdown",
   "metadata": {},
   "source": [
    "#### 2.1. RoBERTa"
   ]
  },
  {
   "cell_type": "code",
   "execution_count": 35,
   "metadata": {},
   "outputs": [],
   "source": [
    "TARGET = 'Coconut_crab'\n",
    "CURRENT_PAGE = 'Batman'"
   ]
  },
  {
   "cell_type": "code",
   "execution_count": 36,
   "metadata": {},
   "outputs": [
    {
     "name": "stderr",
     "output_type": "stream",
     "text": [
      "Downloading (…)lve/main/config.json: 100%|██████████| 571/571 [00:00<00:00, 259kB/s]\n",
      "Downloading model.safetensors: 100%|██████████| 496M/496M [00:50<00:00, 9.81MB/s] \n"
     ]
    }
   ],
   "source": [
    "# get the model:\n",
    "qa_pipeline = pipeline(\"question-answering\", model=\"deepset/roberta-base-squad2\")\n",
    "\n",
    "# get the inputs:\n",
    "context, question = get_inputs(CURRENT_PAGE, TARGET, 3, 'qa')\n",
    "\n",
    "# ask the question:\n",
    "result = qa_pipeline(question, context)\n",
    "print(f\"Answer: '{result['answer']}'\")\n",
    "\n",
    "# check whether the goal is already in the list of links (if it is, the model should be able to find it):\n",
    "print('Is the target goal in the provided list?', TARGET in get_links_from_wikipedia_page(CURRENT_PAGE))"
   ]
  },
  {
   "cell_type": "code",
   "execution_count": 32,
   "metadata": {},
   "outputs": [],
   "source": [
    "# At this stage of our analysis we don't have a full pipeline, as we are still exploring whether querining the LMs is a viable option.\n",
    "# Hence we need to manually look at the response and update consequently the current page:\n"
   ]
  },
  {
   "cell_type": "code",
   "execution_count": null,
   "metadata": {},
   "outputs": [],
   "source": [
    "# Load the question-answering pipeline\n",
    "qa_pipeline = pipeline(\"question-answering\", model=\"deepset/roberta-base-squad2\")\n",
    "\n",
    "\n",
    "result = qa_pipeline(question=question1, context=initial_context)\n",
    "print(f\"Answer: '{result['answer']}'\")\n",
    "\n",
    "# sanity checks:\n",
    "print('Is the target goal in the provided list?', 'World_War_I' in ls)\n",
    "print('Is the model answer in the provided list?', 'World_War_I' in ls)"
   ]
  },
  {
   "cell_type": "code",
   "execution_count": null,
   "metadata": {},
   "outputs": [],
   "source": [
    "# show results for different LLMs\n",
    "# show results for different prompts\n",
    "# explain selection of LLM and prompt\""
   ]
  },
  {
   "cell_type": "markdown",
   "metadata": {},
   "source": [
    "## 3. Methods <a class=\"anchor\" id=\"methods\"></a>"
   ]
  },
  {
   "cell_type": "markdown",
   "metadata": {},
   "source": [
    "We use this section to demonstrate some of the analysis we will perform once we have LLM-derived Wikispeedia data. \n",
    "\n",
    "At present, human-derived Wikispeedia data is used as a 'stand-in' for LLM-derived data where necessary. "
   ]
  },
  {
   "cell_type": "code",
   "execution_count": 4,
   "metadata": {},
   "outputs": [],
   "source": [
    "# tmp - should be handled above.\n",
    "\n",
    "\n",
    "llm_wikispeedia_pairs = pd.read_csv('dependencies/llm_wikispeedia_pairs.csv')\n",
    "paths_finished = pd.read_csv('dependencies/wikispeedia_paths-and-graph/paths_finished.tsv', sep='\\t', skiprows = 16, header = None, names = ['hashedIpAddress', 'timestamp', 'durationInSec', 'path', 'rating'])\n",
    "paths_unfinished = pd.read_csv('dependencies/wikispeedia_paths-and-graph/paths_unfinished.tsv', sep='\\t', skiprows=17, header = None, names = ['hashedIpAddress', 'timestamp', 'durationInSec', 'path', 'target', 'type'])\n",
    "pfin_etc = pd.concat([paths_finished['path'].str.split(\";\").apply(lambda path: path[0]), paths_finished['path'].str.split(\";\").apply(lambda path: path[-1]), paths_finished['path'].str.split(\";\").apply(lambda path: len(path)), paths_finished['path'].str.split(\";\").apply(lambda path: path)], axis=1)\n",
    "pfin_etc.columns = ['origin', 'goal', 'path_l', 'path']\n",
    "most_popular = pfin_etc.groupby(by=['origin', 'goal']).agg('count').rename(columns={\"path_l\": \"total_pair_rounds\"}).sort_values(by='total_pair_rounds', ascending=False).reset_index()[0:10][['origin', 'goal', 'total_pair_rounds']]\n",
    "most_popular.to_csv('dependencies/top10pairs.csv')"
   ]
  },
  {
   "cell_type": "markdown",
   "metadata": {},
   "source": [
    "### 3.1 Are LLM paths sensical to humans?"
   ]
  },
  {
   "cell_type": "code",
   "execution_count": 5,
   "metadata": {},
   "outputs": [],
   "source": [
    "# pull in BART encodings\n",
    "# encode concepts in LLM paths\n",
    "# across all LLM games of length N, find the embedding distance to goal and embedding distances to next page at each round\n",
    "# plot these curves\n",
    "# calculate proportion that strictly decrease throughout game\n",
    "# supplement with Word2Vec embeddings, TF-IDF Wikipage embeddings"
   ]
  },
  {
   "cell_type": "code",
   "execution_count": 9,
   "metadata": {},
   "outputs": [],
   "source": [
    "# BART"
   ]
  },
  {
   "cell_type": "code",
   "execution_count": null,
   "metadata": {},
   "outputs": [],
   "source": [
    "\n",
    "\n",
    "# Load pre-trained model and tokenizer\n",
    "model = 'facebook/bart-large'\n",
    "tokenizer = BartTokenizer.from_pretrained(model)\n",
    "bartm = BartModel.from_pretrained(model)\n",
    "\n",
    "# List of words to embed\n",
    "word_list = ['apple', 'orange', 'banana', 'grape', 'pineapple']\n",
    "\n",
    "# Encode words and retrieve embeddings\n",
    "word_embeddings = {}\n",
    "for word in word_list:\n",
    "    input_ids = tokenizer.encode(word, return_tensors='pt')\n",
    "    with torch.no_grad():\n",
    "        output = model(input_ids=input_ids)\n",
    "    last_hidden_states = output.last_hidden_state.squeeze().mean(dim=0).numpy()\n",
    "    word_embeddings[word] = last_hidden_states\n",
    "\n",
    "# Calculate distances between embeddings\n",
    "distance = cosine(word_embeddings[word1], word_embeddings[word2])\n"
   ]
  },
  {
   "cell_type": "code",
   "execution_count": null,
   "metadata": {},
   "outputs": [],
   "source": [
    "# TF-IDF vectorizer"
   ]
  },
  {
   "cell_type": "code",
   "execution_count": null,
   "metadata": {},
   "outputs": [],
   "source": [
    "\n",
    "# Sample corpus (replace this with your text data)\n",
    "corpus = [\n",
    "    \"This is the first document.\",\n",
    "    \"This document is the second document.\",\n",
    "    \"And this is the third one.\",\n",
    "    \"Is this the first document?\",\n",
    "]\n",
    "\n",
    "# Initialize the TF-IDF vectorizer\n",
    "vectorizer = TfidfVectorizer()\n",
    "\n",
    "# Fit and transform the corpus to TF-IDF vectors\n",
    "tfidf_matrix = vectorizer.fit_transform(corpus)\n",
    "\n",
    "# Get the feature names (words) in the corpus\n",
    "feature_names = vectorizer.get_feature_names_out()\n",
    "\n",
    "# Print the TF-IDF matrix and feature names\n",
    "print(\"TF-IDF Matrix:\")\n",
    "print(tfidf_matrix.toarray())\n",
    "print(\"\\nFeature Names:\")\n",
    "print(feature_names)\n"
   ]
  },
  {
   "cell_type": "markdown",
   "metadata": {},
   "source": [
    "### 3.2 Are LLM paths faster or slower than humans'?"
   ]
  },
  {
   "cell_type": "code",
   "execution_count": null,
   "metadata": {},
   "outputs": [],
   "source": [
    "# across all LLM games of pair origin-goal, find the avg rounds needed to complete game\n",
    "# do the same for human games of pair origin-goal\n",
    "# match origin-goal pairs across LLM and humans\n",
    "# perform a t-test on the difference in match averages "
   ]
  },
  {
   "cell_type": "code",
   "execution_count": 173,
   "metadata": {},
   "outputs": [
    {
     "data": {
      "image/png": "[encoded data removed]",
      "text/plain": [
       "<Figure size 640x480 with 1 Axes>"
      ]
     },
     "metadata": {},
     "output_type": "display_data"
    }
   ],
   "source": [
    "# distribution of game lengths for a couple popular origin-goal pairs\n",
    "lengths = pd.merge(most_popular, pfin_etc, how='left', on=['origin', 'goal'])\n",
    "lengths = lengths.groupby(['origin', 'goal', 'path_l']).agg('count') / lengths.groupby(['origin', 'goal']).agg('count')\n",
    "lengths = lengths['total_pair_rounds'].reset_index().query(\"(origin == 'Asteroid' and goal == 'Viking') or (origin == 'Theatre' and goal == 'Zebra')\")\n",
    "lengths['cum_completed'] = lengths.groupby(['origin', 'goal'])['total_pair_rounds'].agg('cumsum')\n",
    "lengths = lengths.query('path_l <= 15')\n",
    "\n",
    "# graph\n",
    "groups = lengths.groupby(['origin', 'goal'])\n",
    "fig, ax = plt.subplots()\n",
    "for name, group in groups:\n",
    "    ax.plot(group['path_l'], group['cum_completed'], marker='o', label=(name[0] + \" -> \" + name[1]))\n",
    "\n",
    "ax.set_xlabel('Game Length')\n",
    "ax.set_ylabel('')\n",
    "ax.set_title('Share of Games Completed by Length')\n",
    "#ax.set_yscale('log')\n",
    "ax.set_yticks([.25, .5, .75, 1])\n",
    "ax.set_yticklabels(['25%', '50%', '75%', '100%'])\n",
    "ax.legend()\n",
    "plt.show()"
   ]
  },
  {
   "cell_type": "markdown",
   "metadata": {},
   "source": [
    "Though the graph above displays cumulative completions rates by game length for two *human*-derived page pairs, once we have LLM-derived data, we can match page pairs between our LLM and humans to observe differences in game length distributions - both at the pair level and in the aggregate."
   ]
  },
  {
   "cell_type": "markdown",
   "metadata": {},
   "source": [
    "### 3.3 Do LLMs employ the same 'zoom-out' to hub, 'zoom-in' to spoke strategy as humans?"
   ]
  },
  {
   "cell_type": "code",
   "execution_count": null,
   "metadata": {},
   "outputs": [],
   "source": [
    "# across all LLM games of length N, calculate average degree (length of prompt list) at each round\n",
    "# fit curve to quadratic model, perform goodness of fit tests\n",
    "# stronger version: test for equality of curves between humans and LLM for the same page pair"
   ]
  },
  {
   "cell_type": "code",
   "execution_count": 5,
   "metadata": {},
   "outputs": [],
   "source": [
    "\n",
    "\n",
    "links = {}\n",
    "df = pd.read_csv('dependencies/wikispeedia_paths-and-graph/links.tsv', sep='\\t', skiprows=12, header=None)\n",
    "for index, row in df.iterrows(): \n",
    "    start_page = urllib.parse.unquote(row[0])\n",
    "    link_page = urllib.parse.unquote(row[1])\n",
    "    if start_page in links:\n",
    "        links[start_page].append(link_page)\n",
    "    else:\n",
    "        links[start_page] = [link_page]\n",
    "def get_links_from_wikipedia_page(page_title):\n",
    "    return links.get(page_title, [])\n",
    "\n",
    "paths = pd.merge(most_popular, pfin_etc, how='left', on=['origin', 'goal'])\n",
    "paths['degree_path'] = paths['path'].apply(lambda path: [len(get_links_from_wikipedia_page(page)) for page in path])"
   ]
  },
  {
   "cell_type": "code",
   "execution_count": 10,
   "metadata": {},
   "outputs": [
    {
     "data": {
      "image/png": "[encoded data removed]",
      "text/plain": [
       "<Figure size 640x480 with 1 Axes>"
      ]
     },
     "metadata": {},
     "output_type": "display_data"
    }
   ],
   "source": [
    "mea_at_stage = {}\n",
    "moe_at_stage = {}\n",
    "\n",
    "for game_length in [3, 4, 5, 6, 7]:\n",
    "    mea_at_stage[game_length] = {}\n",
    "    moe_at_stage[game_length] = {}\n",
    "    for i, row in paths.iterrows():\n",
    "        if len(row['degree_path']) == game_length:\n",
    "            for j in range(len(row['degree_path'])):\n",
    "                if j not in mea_at_stage[game_length].keys():\n",
    "                    mea_at_stage[game_length][j] = []\n",
    "                mea_at_stage[game_length][j].append(row['degree_path'][j])\n",
    "    for key in mea_at_stage[game_length].keys():\n",
    "        moe_at_stage[game_length][key] = 1.96 * (np.std(mea_at_stage[game_length][key], ddof=1) / np.sqrt(len(mea_at_stage[game_length][key])))\n",
    "        mea_at_stage[game_length][key] = (np.mean(mea_at_stage[game_length][key]))\n",
    "    \n",
    "for game_length in [3, 4, 5, 6, 7]:\n",
    "    mean_list = list(mea_at_stage[game_length].values())\n",
    "    mofe_list = list(moe_at_stage[game_length].values())\n",
    "    plt.errorbar(range(len(mean_list)), mean_list, yerr=mofe_list, fmt='-o', capsize=5)\n",
    " \n",
    "plt.xlabel('Time')\n",
    "plt.ylabel('Avg. Outgoing Links')\n",
    "plt.title('Average Degree Over Time')\n",
    "plt.grid(True)\n",
    "plt.show()"
   ]
  },
  {
   "cell_type": "markdown",
   "metadata": {},
   "source": [
    "The graph above displays average page degree at each stage of 3-, 4-, 5-, 6-, and 7-round games. Each curve has just one local (and therefore global) maximum that occurs *after* the initial page. This corresponds to a 'zoom-out', 'zoom-in' strategy. Once we have LLM-derived data, we can calculate the same degree averages for LLM paths and use the function below to check if the resultant curves have just one global maximum."
   ]
  },
  {
   "cell_type": "code",
   "execution_count": 23,
   "metadata": {},
   "outputs": [],
   "source": [
    "def count_local_maxima(means):\n",
    "    loc_max = 0\n",
    "    for i in range(1, len(means) - 1):\n",
    "        if means[i] > means[i - 1] and means[i] > means[i + 1]:\n",
    "            loc_max += 1\n",
    "    if loc_max == 1:\n",
    "        pass\n",
    "    else:\n",
    "        print(\"Multiple local maxima!\")\n",
    "\n",
    "for game_degree in [3, 4, 5, 6, 7]:\n",
    "    count_local_maxima(list(mea_at_stage[game_degree].values()))"
   ]
  },
  {
   "cell_type": "markdown",
   "metadata": {},
   "source": [
    "### 3.4 Does LLM 'backtrack' behavior differ from humans?"
   ]
  },
  {
   "cell_type": "code",
   "execution_count": 187,
   "metadata": {},
   "outputs": [
    {
     "data": {
      "text/plain": [
       "[19, 58, 60, 22, 23, 23, 43, 62]"
      ]
     },
     "execution_count": 187,
     "metadata": {},
     "output_type": "execute_result"
    }
   ],
   "source": [
    "# If LLM cycles, remove intermediary pages and treat cycle as a 'backtrack'\n",
    "# tbd\n"
   ]
  },
  {
   "cell_type": "code",
   "execution_count": null,
   "metadata": {},
   "outputs": [],
   "source": []
  },
  {
   "cell_type": "code",
   "execution_count": null,
   "metadata": {},
   "outputs": [],
   "source": []
  },
  {
   "cell_type": "markdown",
   "metadata": {
    "tags": []
   },
   "source": [
    "## 4. Supplementary Material"
   ]
  },
  {
   "cell_type": "markdown",
   "metadata": {},
   "source": [
    "\n",
    "In this supplementary material, we conduct some initial data exploration on the following datasets:\n",
    "\n",
    "- links.tsv\n",
    "- categories.tsv\n",
    "- paths_finished.tsv\n",
    "- paths_unfinished.tsv"
   ]
  },
  {
   "cell_type": "markdown",
   "metadata": {},
   "source": [
    "### 4.1: Links"
   ]
  },
  {
   "cell_type": "code",
   "execution_count": 289,
   "metadata": {},
   "outputs": [
    {
     "data": {
      "text/html": [
       "<div>\n",
       "<style scoped>\n",
       "    .dataframe tbody tr th:only-of-type {\n",
       "        vertical-align: middle;\n",
       "    }\n",
       "\n",
       "    .dataframe tbody tr th {\n",
       "        vertical-align: top;\n",
       "    }\n",
       "\n",
       "    .dataframe thead th {\n",
       "        text-align: right;\n",
       "    }\n",
       "</style>\n",
       "<table border=\"1\" class=\"dataframe\">\n",
       "  <thead>\n",
       "    <tr style=\"text-align: right;\">\n",
       "      <th></th>\n",
       "      <th>linkSource</th>\n",
       "      <th>linkTarget</th>\n",
       "    </tr>\n",
       "  </thead>\n",
       "  <tbody>\n",
       "    <tr>\n",
       "      <th>0</th>\n",
       "      <td>Áedán_mac_Gabráin</td>\n",
       "      <td>Bede</td>\n",
       "    </tr>\n",
       "    <tr>\n",
       "      <th>1</th>\n",
       "      <td>Áedán_mac_Gabráin</td>\n",
       "      <td>Columba</td>\n",
       "    </tr>\n",
       "    <tr>\n",
       "      <th>2</th>\n",
       "      <td>Áedán_mac_Gabráin</td>\n",
       "      <td>Dál_Riata</td>\n",
       "    </tr>\n",
       "    <tr>\n",
       "      <th>3</th>\n",
       "      <td>Áedán_mac_Gabráin</td>\n",
       "      <td>Great_Britain</td>\n",
       "    </tr>\n",
       "    <tr>\n",
       "      <th>4</th>\n",
       "      <td>Áedán_mac_Gabráin</td>\n",
       "      <td>Ireland</td>\n",
       "    </tr>\n",
       "    <tr>\n",
       "      <th>5</th>\n",
       "      <td>Áedán_mac_Gabráin</td>\n",
       "      <td>Isle_of_Man</td>\n",
       "    </tr>\n",
       "    <tr>\n",
       "      <th>6</th>\n",
       "      <td>Áedán_mac_Gabráin</td>\n",
       "      <td>Monarchy</td>\n",
       "    </tr>\n",
       "    <tr>\n",
       "      <th>7</th>\n",
       "      <td>Áedán_mac_Gabráin</td>\n",
       "      <td>Orkney</td>\n",
       "    </tr>\n",
       "    <tr>\n",
       "      <th>8</th>\n",
       "      <td>Áedán_mac_Gabráin</td>\n",
       "      <td>Picts</td>\n",
       "    </tr>\n",
       "    <tr>\n",
       "      <th>9</th>\n",
       "      <td>Áedán_mac_Gabráin</td>\n",
       "      <td>Scotland</td>\n",
       "    </tr>\n",
       "  </tbody>\n",
       "</table>\n",
       "</div>"
      ],
      "text/plain": [
       "          linkSource     linkTarget\n",
       "0  Áedán_mac_Gabráin           Bede\n",
       "1  Áedán_mac_Gabráin        Columba\n",
       "2  Áedán_mac_Gabráin      Dál_Riata\n",
       "3  Áedán_mac_Gabráin  Great_Britain\n",
       "4  Áedán_mac_Gabráin        Ireland\n",
       "5  Áedán_mac_Gabráin    Isle_of_Man\n",
       "6  Áedán_mac_Gabráin       Monarchy\n",
       "7  Áedán_mac_Gabráin         Orkney\n",
       "8  Áedán_mac_Gabráin          Picts\n",
       "9  Áedán_mac_Gabráin       Scotland"
      ]
     },
     "execution_count": 289,
     "metadata": {},
     "output_type": "execute_result"
    }
   ],
   "source": [
    "# The list of all links between articles\n",
    "link = pd.read_csv(data_dir + 'links.tsv', sep='\\t', skiprows=12, header = None, names = ['linkSource','linkTarget'])\n",
    "# Article names are URL-encoded, so it needs to be decoded\n",
    "link[['linkSource', 'linkTarget']] = link[['linkSource', 'linkTarget']].applymap(unquote)\n",
    "link[:10]"
   ]
  },
  {
   "cell_type": "markdown",
   "metadata": {},
   "source": [
    "**Which source article has the most outgoing links?**"
   ]
  },
  {
   "cell_type": "code",
   "execution_count": 291,
   "metadata": {},
   "outputs": [
    {
     "data": {
      "text/plain": [
       "United_States                                294\n",
       "Driving_on_the_left_or_right                 255\n",
       "List_of_countries                            244\n",
       "List_of_circulating_currencies               236\n",
       "List_of_sovereign_states                     216\n",
       "Africa                                       212\n",
       "List_of_countries_by_system_of_government    207\n",
       "Lebanon                                      192\n",
       "Interpol                                     191\n",
       "Armenia                                      186\n",
       "Name: linkSource, dtype: int64"
      ]
     },
     "execution_count": 291,
     "metadata": {},
     "output_type": "execute_result"
    }
   ],
   "source": [
    "source_frequency = link['linkSource'].value_counts()\n",
    "source_frequency[:10]"
   ]
  },
  {
   "cell_type": "markdown",
   "metadata": {},
   "source": [
    "**Which target article has the most incoming links?**"
   ]
  },
  {
   "cell_type": "code",
   "execution_count": 292,
   "metadata": {},
   "outputs": [
    {
     "data": {
      "text/plain": [
       "United_States       1551\n",
       "United_Kingdom       972\n",
       "France               959\n",
       "Europe               933\n",
       "England              751\n",
       "World_War_II         751\n",
       "Germany              743\n",
       "India                611\n",
       "English_language     598\n",
       "London               587\n",
       "Name: linkTarget, dtype: int64"
      ]
     },
     "execution_count": 292,
     "metadata": {},
     "output_type": "execute_result"
    }
   ],
   "source": [
    "target_frequency = link['linkTarget'].value_counts()\n",
    "target_frequency[:10]"
   ]
  },
  {
   "cell_type": "markdown",
   "metadata": {},
   "source": [
    "**Which articles are more popular?**"
   ]
  },
  {
   "cell_type": "code",
   "execution_count": 293,
   "metadata": {},
   "outputs": [
    {
     "data": {
      "text/html": [
       "<div>\n",
       "<style scoped>\n",
       "    .dataframe tbody tr th:only-of-type {\n",
       "        vertical-align: middle;\n",
       "    }\n",
       "\n",
       "    .dataframe tbody tr th {\n",
       "        vertical-align: top;\n",
       "    }\n",
       "\n",
       "    .dataframe thead th {\n",
       "        text-align: right;\n",
       "    }\n",
       "</style>\n",
       "<table border=\"1\" class=\"dataframe\">\n",
       "  <thead>\n",
       "    <tr style=\"text-align: right;\">\n",
       "      <th></th>\n",
       "      <th>source_count</th>\n",
       "      <th>target_count</th>\n",
       "      <th>total_count</th>\n",
       "    </tr>\n",
       "  </thead>\n",
       "  <tbody>\n",
       "    <tr>\n",
       "      <th>United_States</th>\n",
       "      <td>294.0</td>\n",
       "      <td>1551.0</td>\n",
       "      <td>1845.0</td>\n",
       "    </tr>\n",
       "    <tr>\n",
       "      <th>Driving_on_the_left_or_right</th>\n",
       "      <td>255.0</td>\n",
       "      <td>0.0</td>\n",
       "      <td>255.0</td>\n",
       "    </tr>\n",
       "    <tr>\n",
       "      <th>List_of_countries</th>\n",
       "      <td>244.0</td>\n",
       "      <td>63.0</td>\n",
       "      <td>307.0</td>\n",
       "    </tr>\n",
       "    <tr>\n",
       "      <th>List_of_circulating_currencies</th>\n",
       "      <td>236.0</td>\n",
       "      <td>8.0</td>\n",
       "      <td>244.0</td>\n",
       "    </tr>\n",
       "    <tr>\n",
       "      <th>List_of_sovereign_states</th>\n",
       "      <td>216.0</td>\n",
       "      <td>43.0</td>\n",
       "      <td>259.0</td>\n",
       "    </tr>\n",
       "    <tr>\n",
       "      <th>Africa</th>\n",
       "      <td>212.0</td>\n",
       "      <td>477.0</td>\n",
       "      <td>689.0</td>\n",
       "    </tr>\n",
       "    <tr>\n",
       "      <th>List_of_countries_by_system_of_government</th>\n",
       "      <td>207.0</td>\n",
       "      <td>246.0</td>\n",
       "      <td>453.0</td>\n",
       "    </tr>\n",
       "    <tr>\n",
       "      <th>Lebanon</th>\n",
       "      <td>192.0</td>\n",
       "      <td>114.0</td>\n",
       "      <td>306.0</td>\n",
       "    </tr>\n",
       "    <tr>\n",
       "      <th>Interpol</th>\n",
       "      <td>191.0</td>\n",
       "      <td>13.0</td>\n",
       "      <td>204.0</td>\n",
       "    </tr>\n",
       "    <tr>\n",
       "      <th>Armenia</th>\n",
       "      <td>186.0</td>\n",
       "      <td>99.0</td>\n",
       "      <td>285.0</td>\n",
       "    </tr>\n",
       "  </tbody>\n",
       "</table>\n",
       "</div>"
      ],
      "text/plain": [
       "                                           source_count  target_count  \\\n",
       "United_States                                     294.0        1551.0   \n",
       "Driving_on_the_left_or_right                      255.0           0.0   \n",
       "List_of_countries                                 244.0          63.0   \n",
       "List_of_circulating_currencies                    236.0           8.0   \n",
       "List_of_sovereign_states                          216.0          43.0   \n",
       "Africa                                            212.0         477.0   \n",
       "List_of_countries_by_system_of_government         207.0         246.0   \n",
       "Lebanon                                           192.0         114.0   \n",
       "Interpol                                          191.0          13.0   \n",
       "Armenia                                           186.0          99.0   \n",
       "\n",
       "                                           total_count  \n",
       "United_States                                   1845.0  \n",
       "Driving_on_the_left_or_right                     255.0  \n",
       "List_of_countries                                307.0  \n",
       "List_of_circulating_currencies                   244.0  \n",
       "List_of_sovereign_states                         259.0  \n",
       "Africa                                           689.0  \n",
       "List_of_countries_by_system_of_government        453.0  \n",
       "Lebanon                                          306.0  \n",
       "Interpol                                         204.0  \n",
       "Armenia                                          285.0  "
      ]
     },
     "execution_count": 293,
     "metadata": {},
     "output_type": "execute_result"
    }
   ],
   "source": [
    "hot_articles = pd.concat([source_frequency, target_frequency], axis=1, sort=False)\n",
    "hot_articles.columns = ['source_count', 'target_count']\n",
    "hot_articles = hot_articles.fillna(0) \n",
    "hot_articles['total_count'] = hot_articles['source_count'] + hot_articles['target_count']\n",
    "hot_articles[:10]"
   ]
  },
  {
   "cell_type": "code",
   "execution_count": 295,
   "metadata": {},
   "outputs": [
    {
     "data": {
      "image/png": "[encoded data removed]",
      "text/plain": [
       "<Figure size 800x600 with 1 Axes>"
      ]
     },
     "metadata": {},
     "output_type": "display_data"
    }
   ],
   "source": [
    "top_articles = hot_articles.sort_values(by='total_count', ascending=False).head(20)\n",
    "\n",
    "plt.figure(figsize=(8, 6))\n",
    "top_articles['total_count'].plot(kind='bar')\n",
    "plt.title('Top 20 Articles by Total Reference Frequency')\n",
    "plt.xlabel('Articles')\n",
    "plt.ylabel('Total Frequency of References')\n",
    "plt.xticks(rotation=90) \n",
    "plt.show()"
   ]
  },
  {
   "cell_type": "markdown",
   "metadata": {},
   "source": [
    "### 4.2: Categories"
   ]
  },
  {
   "cell_type": "code",
   "execution_count": 297,
   "metadata": {},
   "outputs": [
    {
     "data": {
      "text/html": [
       "<div>\n",
       "<style scoped>\n",
       "    .dataframe tbody tr th:only-of-type {\n",
       "        vertical-align: middle;\n",
       "    }\n",
       "\n",
       "    .dataframe tbody tr th {\n",
       "        vertical-align: top;\n",
       "    }\n",
       "\n",
       "    .dataframe thead th {\n",
       "        text-align: right;\n",
       "    }\n",
       "</style>\n",
       "<table border=\"1\" class=\"dataframe\">\n",
       "  <thead>\n",
       "    <tr style=\"text-align: right;\">\n",
       "      <th></th>\n",
       "      <th>article</th>\n",
       "      <th>category</th>\n",
       "    </tr>\n",
       "  </thead>\n",
       "  <tbody>\n",
       "    <tr>\n",
       "      <th>0</th>\n",
       "      <td>Áedán_mac_Gabráin</td>\n",
       "      <td>subject.History.British_History.British_Histor...</td>\n",
       "    </tr>\n",
       "    <tr>\n",
       "      <th>1</th>\n",
       "      <td>Áedán_mac_Gabráin</td>\n",
       "      <td>subject.People.Historical_figures</td>\n",
       "    </tr>\n",
       "    <tr>\n",
       "      <th>2</th>\n",
       "      <td>Åland</td>\n",
       "      <td>subject.Countries</td>\n",
       "    </tr>\n",
       "    <tr>\n",
       "      <th>3</th>\n",
       "      <td>Åland</td>\n",
       "      <td>subject.Geography.European_Geography.European_...</td>\n",
       "    </tr>\n",
       "    <tr>\n",
       "      <th>4</th>\n",
       "      <td>Édouard_Manet</td>\n",
       "      <td>subject.People.Artists</td>\n",
       "    </tr>\n",
       "    <tr>\n",
       "      <th>5</th>\n",
       "      <td>Éire</td>\n",
       "      <td>subject.Countries</td>\n",
       "    </tr>\n",
       "    <tr>\n",
       "      <th>6</th>\n",
       "      <td>Éire</td>\n",
       "      <td>subject.Geography.European_Geography.European_...</td>\n",
       "    </tr>\n",
       "    <tr>\n",
       "      <th>7</th>\n",
       "      <td>Óengus_I_of_the_Picts</td>\n",
       "      <td>subject.History.British_History.British_Histor...</td>\n",
       "    </tr>\n",
       "    <tr>\n",
       "      <th>8</th>\n",
       "      <td>Óengus_I_of_the_Picts</td>\n",
       "      <td>subject.People.Historical_figures</td>\n",
       "    </tr>\n",
       "    <tr>\n",
       "      <th>9</th>\n",
       "      <td>€2_commemorative_coins</td>\n",
       "      <td>subject.Business_Studies.Currency</td>\n",
       "    </tr>\n",
       "  </tbody>\n",
       "</table>\n",
       "</div>"
      ],
      "text/plain": [
       "                  article                                           category\n",
       "0       Áedán_mac_Gabráin  subject.History.British_History.British_Histor...\n",
       "1       Áedán_mac_Gabráin                  subject.People.Historical_figures\n",
       "2                   Åland                                  subject.Countries\n",
       "3                   Åland  subject.Geography.European_Geography.European_...\n",
       "4           Édouard_Manet                             subject.People.Artists\n",
       "5                    Éire                                  subject.Countries\n",
       "6                    Éire  subject.Geography.European_Geography.European_...\n",
       "7   Óengus_I_of_the_Picts  subject.History.British_History.British_Histor...\n",
       "8   Óengus_I_of_the_Picts                  subject.People.Historical_figures\n",
       "9  €2_commemorative_coins                  subject.Business_Studies.Currency"
      ]
     },
     "execution_count": 297,
     "metadata": {},
     "output_type": "execute_result"
    }
   ],
   "source": [
    "# Hierarchical categories of all articles\n",
    "categories = pd.read_csv(data_dir + 'categories.tsv', sep='\\t', skiprows=13, header = None, names = ['article','category'])\n",
    "categories[['article', 'category']] = categories[['article', 'category']].applymap(unquote)\n",
    "categories[:10]"
   ]
  },
  {
   "cell_type": "markdown",
   "metadata": {},
   "source": [
    "**What's the most frequent categories?**"
   ]
  },
  {
   "cell_type": "code",
   "execution_count": 17,
   "metadata": {},
   "outputs": [
    {
     "data": {
      "image/png": "[encoded data removed]",
      "text/plain": [
       "<Figure size 600x400 with 1 Axes>"
      ]
     },
     "metadata": {},
     "output_type": "display_data"
    }
   ],
   "source": [
    "category_counts = categories['category'].value_counts()\n",
    "top_categories = category_counts.head(20)\n",
    "\n",
    "plt.figure(figsize=(6, 4))\n",
    "top_categories.plot(kind='bar')\n",
    "plt.title('Top 20 Most Frequent Categories')\n",
    "plt.xlabel('Category')\n",
    "plt.ylabel('Number of Articles')\n",
    "plt.xticks(rotation=90)  \n",
    "plt.show()"
   ]
  },
  {
   "cell_type": "markdown",
   "metadata": {},
   "source": [
    "**What's the most frequent MAIN categories?**"
   ]
  },
  {
   "cell_type": "code",
   "execution_count": 298,
   "metadata": {},
   "outputs": [
    {
     "data": {
      "image/png": "[encoded data removed]",
      "text/plain": [
       "<Figure size 600x400 with 1 Axes>"
      ]
     },
     "metadata": {},
     "output_type": "display_data"
    }
   ],
   "source": [
    "# Split each category string, skip the first word (\"subject\"), and take the second word as the main category.\n",
    "categories['main_category'] = categories['category'].apply(lambda x: x.split('.')[1] if len(x.split('.')) > 1 else x)\n",
    "\n",
    "# Calculate the number of articles for each main category.\n",
    "main_category_counts = categories['main_category'].value_counts()\n",
    "top_main_categories = main_category_counts.head(20)\n",
    "\n",
    "plt.figure(figsize=(6, 4))\n",
    "top_main_categories.plot(kind='bar')\n",
    "plt.title('Top 20 Most Frequent Main Categories')\n",
    "plt.xlabel('Main Category')\n",
    "plt.ylabel('Number of Articles')\n",
    "plt.xticks(rotation=90)  \n",
    "plt.show()"
   ]
  },
  {
   "cell_type": "markdown",
   "metadata": {},
   "source": [
    "### 4.3: Paths"
   ]
  },
  {
   "cell_type": "code",
   "execution_count": 300,
   "metadata": {},
   "outputs": [
    {
     "name": "stdout",
     "output_type": "stream",
     "text": [
      "Completed paths: 51318\n",
      "Abandoned due to restart: 15552\n",
      "Abandoned due to timeout: 9323\n"
     ]
    }
   ],
   "source": [
    "paths_finished = pd.read_csv(data_dir + 'paths_finished.tsv', sep='\\t', skiprows = 16, header = None, names = ['hashedIpAddress', 'timestamp', 'durationInSec', 'path', 'rating'])\n",
    "paths_unfinished = pd.read_csv(data_dir + 'paths_unfinished.tsv', sep='\\t', skiprows=17, header = None, names = ['hashedIpAddress', 'timestamp', 'durationInSec', 'path', 'target', 'type'])\n",
    "\n",
    "print('Completed paths: ' + str(len(paths_finished)))\n",
    "print('Abandoned due to restart: ' + str(len(paths_unfinished[paths_unfinished['type'] == 'restart'])))\n",
    "print('Abandoned due to timeout: ' + str(len(paths_unfinished[paths_unfinished['type'] == 'timeout'])))"
   ]
  },
  {
   "cell_type": "code",
   "execution_count": 301,
   "metadata": {},
   "outputs": [
    {
     "name": "stdout",
     "output_type": "stream",
     "text": [
      "20.41%\n"
     ]
    }
   ],
   "source": [
    "# Game finished rate\n",
    "finished = 15552\n",
    "unfinished = 9323 + 51318\n",
    "\n",
    "game_finished_rate = finished / (finished + unfinished) * 100\n",
    "game_finished_rate_percentage = \"{:.2f}%\".format(game_finished_rate)\n",
    "print(game_finished_rate_percentage)"
   ]
  },
  {
   "cell_type": "markdown",
   "metadata": {},
   "source": [
    "### 4.4: Paths Finished"
   ]
  },
  {
   "cell_type": "code",
   "execution_count": 303,
   "metadata": {},
   "outputs": [
    {
     "data": {
      "text/html": [
       "<div>\n",
       "<style scoped>\n",
       "    .dataframe tbody tr th:only-of-type {\n",
       "        vertical-align: middle;\n",
       "    }\n",
       "\n",
       "    .dataframe tbody tr th {\n",
       "        vertical-align: top;\n",
       "    }\n",
       "\n",
       "    .dataframe thead th {\n",
       "        text-align: right;\n",
       "    }\n",
       "</style>\n",
       "<table border=\"1\" class=\"dataframe\">\n",
       "  <thead>\n",
       "    <tr style=\"text-align: right;\">\n",
       "      <th></th>\n",
       "      <th>hashedIpAddress</th>\n",
       "      <th>timestamp</th>\n",
       "      <th>durationInSec</th>\n",
       "      <th>path</th>\n",
       "      <th>rating</th>\n",
       "    </tr>\n",
       "  </thead>\n",
       "  <tbody>\n",
       "    <tr>\n",
       "      <th>0</th>\n",
       "      <td>6a3701d319fc3754</td>\n",
       "      <td>1297740409</td>\n",
       "      <td>166</td>\n",
       "      <td>14th_century;15th_century;16th_century;Pacific...</td>\n",
       "      <td>NaN</td>\n",
       "    </tr>\n",
       "    <tr>\n",
       "      <th>1</th>\n",
       "      <td>3824310e536af032</td>\n",
       "      <td>1344753412</td>\n",
       "      <td>88</td>\n",
       "      <td>14th_century;Europe;Africa;Atlantic_slave_trad...</td>\n",
       "      <td>3.0</td>\n",
       "    </tr>\n",
       "    <tr>\n",
       "      <th>2</th>\n",
       "      <td>415612e93584d30e</td>\n",
       "      <td>1349298640</td>\n",
       "      <td>138</td>\n",
       "      <td>14th_century;Niger;Nigeria;British_Empire;Slav...</td>\n",
       "      <td>NaN</td>\n",
       "    </tr>\n",
       "    <tr>\n",
       "      <th>3</th>\n",
       "      <td>64dd5cd342e3780c</td>\n",
       "      <td>1265613925</td>\n",
       "      <td>37</td>\n",
       "      <td>14th_century;Renaissance;Ancient_Greece;Greece</td>\n",
       "      <td>NaN</td>\n",
       "    </tr>\n",
       "    <tr>\n",
       "      <th>4</th>\n",
       "      <td>015245d773376aab</td>\n",
       "      <td>1366730828</td>\n",
       "      <td>175</td>\n",
       "      <td>14th_century;Italy;Roman_Catholic_Church;HIV;R...</td>\n",
       "      <td>3.0</td>\n",
       "    </tr>\n",
       "    <tr>\n",
       "      <th>5</th>\n",
       "      <td>5295bca242be81fe</td>\n",
       "      <td>1372890414</td>\n",
       "      <td>110</td>\n",
       "      <td>14th_century;Europe;North_America;United_State...</td>\n",
       "      <td>NaN</td>\n",
       "    </tr>\n",
       "    <tr>\n",
       "      <th>6</th>\n",
       "      <td>36dabfa133b20e3c</td>\n",
       "      <td>1249525912</td>\n",
       "      <td>112</td>\n",
       "      <td>14th_century;China;Gunpowder;Fire</td>\n",
       "      <td>2.0</td>\n",
       "    </tr>\n",
       "    <tr>\n",
       "      <th>7</th>\n",
       "      <td>20418ff4797f96be</td>\n",
       "      <td>1229188046</td>\n",
       "      <td>139</td>\n",
       "      <td>14th_century;Time;Isaac_Newton;Light;Color;Rai...</td>\n",
       "      <td>1.0</td>\n",
       "    </tr>\n",
       "    <tr>\n",
       "      <th>8</th>\n",
       "      <td>08888b1b428dd90e</td>\n",
       "      <td>1232241510</td>\n",
       "      <td>74</td>\n",
       "      <td>14th_century;Time;Light;Rainbow</td>\n",
       "      <td>3.0</td>\n",
       "    </tr>\n",
       "    <tr>\n",
       "      <th>9</th>\n",
       "      <td>08888b1b428dd90e</td>\n",
       "      <td>1232241601</td>\n",
       "      <td>167</td>\n",
       "      <td>14th_century;15th_century;Plato;Nature;Ultravi...</td>\n",
       "      <td>NaN</td>\n",
       "    </tr>\n",
       "  </tbody>\n",
       "</table>\n",
       "</div>"
      ],
      "text/plain": [
       "    hashedIpAddress   timestamp  durationInSec  \\\n",
       "0  6a3701d319fc3754  1297740409            166   \n",
       "1  3824310e536af032  1344753412             88   \n",
       "2  415612e93584d30e  1349298640            138   \n",
       "3  64dd5cd342e3780c  1265613925             37   \n",
       "4  015245d773376aab  1366730828            175   \n",
       "5  5295bca242be81fe  1372890414            110   \n",
       "6  36dabfa133b20e3c  1249525912            112   \n",
       "7  20418ff4797f96be  1229188046            139   \n",
       "8  08888b1b428dd90e  1232241510             74   \n",
       "9  08888b1b428dd90e  1232241601            167   \n",
       "\n",
       "                                                path  rating  \n",
       "0  14th_century;15th_century;16th_century;Pacific...     NaN  \n",
       "1  14th_century;Europe;Africa;Atlantic_slave_trad...     3.0  \n",
       "2  14th_century;Niger;Nigeria;British_Empire;Slav...     NaN  \n",
       "3     14th_century;Renaissance;Ancient_Greece;Greece     NaN  \n",
       "4  14th_century;Italy;Roman_Catholic_Church;HIV;R...     3.0  \n",
       "5  14th_century;Europe;North_America;United_State...     NaN  \n",
       "6                  14th_century;China;Gunpowder;Fire     2.0  \n",
       "7  14th_century;Time;Isaac_Newton;Light;Color;Rai...     1.0  \n",
       "8                    14th_century;Time;Light;Rainbow     3.0  \n",
       "9  14th_century;15th_century;Plato;Nature;Ultravi...     NaN  "
      ]
     },
     "execution_count": 303,
     "metadata": {},
     "output_type": "execute_result"
    }
   ],
   "source": [
    "paths_finished[:10]"
   ]
  },
  {
   "cell_type": "code",
   "execution_count": 306,
   "metadata": {},
   "outputs": [],
   "source": [
    "split_data = paths_finished['path'].str.split(';')\n",
    "\n",
    "def decode_list(url_encoded_list):\n",
    "    \"\"\"Decodes url_encoded path.\"\"\"\n",
    "    return [urllib.parse.unquote(element).replace(',', '') for element in url_encoded_list]\n",
    "\n",
    "split_data = split_data.apply(decode_list)"
   ]
  },
  {
   "cell_type": "code",
   "execution_count": 307,
   "metadata": {},
   "outputs": [],
   "source": [
    "# extract source, target, and middle part of an article\n",
    "paths_finished['source'] = split_data.apply(lambda x: x[0])\n",
    "paths_finished['target'] = split_data.apply(lambda x: x[-1])\n",
    "paths_finished['middle'] = split_data.apply(lambda x: x[1:-1])\n",
    "flattened_middle = [item for sublist in paths_finished['middle'] for item in sublist]"
   ]
  },
  {
   "cell_type": "code",
   "execution_count": 308,
   "metadata": {},
   "outputs": [
    {
     "data": {
      "text/plain": [
       "[('<', 20561),\n",
       " ('United_States', 8824),\n",
       " ('Europe', 4319),\n",
       " ('United_Kingdom', 3860),\n",
       " ('Earth', 3153),\n",
       " ('England', 3123),\n",
       " ('Africa', 2693),\n",
       " ('World_War_II', 2225),\n",
       " ('North_America', 1804),\n",
       " ('Germany', 1676)]"
      ]
     },
     "execution_count": 308,
     "metadata": {},
     "output_type": "execute_result"
    }
   ],
   "source": [
    "# most common articles in the middle along a path (excluding source and target)\n",
    "Counter(flattened_middle).most_common(10)"
   ]
  },
  {
   "cell_type": "code",
   "execution_count": 309,
   "metadata": {},
   "outputs": [
    {
     "data": {
      "text/plain": [
       "Brain       1092\n",
       "Asteroid    1059\n",
       "Theatre      931\n",
       "Pyramid      674\n",
       "Batman       602\n",
       "Bird         275\n",
       "Cat          226\n",
       "Dog          175\n",
       "Jesus        145\n",
       "Beer         135\n",
       "Name: source, dtype: int64"
      ]
     },
     "execution_count": 309,
     "metadata": {},
     "output_type": "execute_result"
    }
   ],
   "source": [
    "# most popular source\n",
    "paths_finished['source'].value_counts().head(10)"
   ]
  },
  {
   "cell_type": "code",
   "execution_count": 310,
   "metadata": {},
   "outputs": [
    {
     "data": {
      "text/plain": [
       "Telephone            1134\n",
       "Viking               1071\n",
       "Zebra                 955\n",
       "Bean                  673\n",
       "Adolf_Hitler          603\n",
       "Sun                   218\n",
       "God                   200\n",
       "Jesus                 197\n",
       "Wood                  185\n",
       "Great_white_shark     184\n",
       "Name: target, dtype: int64"
      ]
     },
     "execution_count": 310,
     "metadata": {},
     "output_type": "execute_result"
    }
   ],
   "source": [
    "# most popular target\n",
    "paths_finished['target'].value_counts().head(10)"
   ]
  },
  {
   "cell_type": "code",
   "execution_count": 311,
   "metadata": {},
   "outputs": [
    {
     "data": {
      "text/plain": [
       "Asteroid_Viking              1043\n",
       "Brain_Telephone              1040\n",
       "Theatre_Zebra                 905\n",
       "Pyramid_Bean                  642\n",
       "Batman_Wood                   148\n",
       "Bird_Great_white_shark        138\n",
       "Batman_The_Holocaust          119\n",
       "Bird_Adolf_Hitler             107\n",
       "Beer_Sun                       99\n",
       "Batman_Banana                  69\n",
       "Cat_Computer                   57\n",
       "Cat_Microsoft                  56\n",
       "Dog_Telephone                  53\n",
       "Flower_Adolf_Hitler            51\n",
       "Automobile_Pluto               47\n",
       "Dog_Venus                      47\n",
       "Batman_Bible                   43\n",
       "Aluminium_chloride_Parrot      42\n",
       "England_God                    42\n",
       "Achilles_tendon_Ocean          40\n",
       "Name: source_target, dtype: int64"
      ]
     },
     "execution_count": 311,
     "metadata": {},
     "output_type": "execute_result"
    }
   ],
   "source": [
    "# most popular source-target combination (i.e. most popular game)\n",
    "paths_finished['source_target'] = paths_finished['source'] + '_' + paths_finished['target']\n",
    "paths_finished['source_target'].value_counts().head(20)"
   ]
  },
  {
   "cell_type": "code",
   "execution_count": 313,
   "metadata": {},
   "outputs": [
    {
     "data": {
      "text/plain": [
       "array([  8,   4,   7,   3,   6,   5,  12,   9,  15,  14,  13,  26,  16,\n",
       "        21,   2,  10,  17,  18,  20,  11,   1,  23,  19,  34,  29,  65,\n",
       "        35,  64,  33,  25,  40,  22,  30,  70,  28,  85,  31,  52,  27,\n",
       "        24,  37,  48,  39,  45,   0,  71, 103,  41,  49,  32,  51,  57,\n",
       "        53, 434,  61,  36,  69,  62,  47,  84,  46,  38,  56,  76,  50,\n",
       "        44,  54,  55,  42, 118,  95,  43,  59,  98,  66,  79,  86,  60,\n",
       "        68])"
      ]
     },
     "execution_count": 313,
     "metadata": {},
     "output_type": "execute_result"
    }
   ],
   "source": [
    "# How many steps do one game take?\n",
    "paths_finished['path_steps'] = split_data.apply(lambda x: len(x) - 1)\n",
    "paths_finished.drop('rating', axis=1, inplace=True)\n",
    "paths_finished.path_steps.unique()"
   ]
  },
  {
   "cell_type": "code",
   "execution_count": 314,
   "metadata": {},
   "outputs": [
    {
     "data": {
      "text/html": [
       "<div>\n",
       "<style scoped>\n",
       "    .dataframe tbody tr th:only-of-type {\n",
       "        vertical-align: middle;\n",
       "    }\n",
       "\n",
       "    .dataframe tbody tr th {\n",
       "        vertical-align: top;\n",
       "    }\n",
       "\n",
       "    .dataframe thead th {\n",
       "        text-align: right;\n",
       "    }\n",
       "</style>\n",
       "<table border=\"1\" class=\"dataframe\">\n",
       "  <thead>\n",
       "    <tr style=\"text-align: right;\">\n",
       "      <th></th>\n",
       "      <th>hashedIpAddress</th>\n",
       "      <th>timestamp</th>\n",
       "      <th>durationInSec</th>\n",
       "      <th>path</th>\n",
       "      <th>source</th>\n",
       "      <th>target</th>\n",
       "      <th>middle</th>\n",
       "      <th>source_target</th>\n",
       "      <th>path_steps</th>\n",
       "    </tr>\n",
       "  </thead>\n",
       "  <tbody>\n",
       "    <tr>\n",
       "      <th>0</th>\n",
       "      <td>6a3701d319fc3754</td>\n",
       "      <td>1297740409</td>\n",
       "      <td>166</td>\n",
       "      <td>14th_century;15th_century;16th_century;Pacific...</td>\n",
       "      <td>14th_century</td>\n",
       "      <td>African_slave_trade</td>\n",
       "      <td>[15th_century, 16th_century, Pacific_Ocean, At...</td>\n",
       "      <td>14th_century_African_slave_trade</td>\n",
       "      <td>8</td>\n",
       "    </tr>\n",
       "    <tr>\n",
       "      <th>1</th>\n",
       "      <td>3824310e536af032</td>\n",
       "      <td>1344753412</td>\n",
       "      <td>88</td>\n",
       "      <td>14th_century;Europe;Africa;Atlantic_slave_trad...</td>\n",
       "      <td>14th_century</td>\n",
       "      <td>African_slave_trade</td>\n",
       "      <td>[Europe, Africa, Atlantic_slave_trade]</td>\n",
       "      <td>14th_century_African_slave_trade</td>\n",
       "      <td>4</td>\n",
       "    </tr>\n",
       "    <tr>\n",
       "      <th>2</th>\n",
       "      <td>415612e93584d30e</td>\n",
       "      <td>1349298640</td>\n",
       "      <td>138</td>\n",
       "      <td>14th_century;Niger;Nigeria;British_Empire;Slav...</td>\n",
       "      <td>14th_century</td>\n",
       "      <td>African_slave_trade</td>\n",
       "      <td>[Niger, Nigeria, British_Empire, Slavery, Afri...</td>\n",
       "      <td>14th_century_African_slave_trade</td>\n",
       "      <td>7</td>\n",
       "    </tr>\n",
       "    <tr>\n",
       "      <th>3</th>\n",
       "      <td>64dd5cd342e3780c</td>\n",
       "      <td>1265613925</td>\n",
       "      <td>37</td>\n",
       "      <td>14th_century;Renaissance;Ancient_Greece;Greece</td>\n",
       "      <td>14th_century</td>\n",
       "      <td>Greece</td>\n",
       "      <td>[Renaissance, Ancient_Greece]</td>\n",
       "      <td>14th_century_Greece</td>\n",
       "      <td>3</td>\n",
       "    </tr>\n",
       "    <tr>\n",
       "      <th>4</th>\n",
       "      <td>015245d773376aab</td>\n",
       "      <td>1366730828</td>\n",
       "      <td>175</td>\n",
       "      <td>14th_century;Italy;Roman_Catholic_Church;HIV;R...</td>\n",
       "      <td>14th_century</td>\n",
       "      <td>John_F._Kennedy</td>\n",
       "      <td>[Italy, Roman_Catholic_Church, HIV, Ronald_Rea...</td>\n",
       "      <td>14th_century_John_F._Kennedy</td>\n",
       "      <td>6</td>\n",
       "    </tr>\n",
       "    <tr>\n",
       "      <th>5</th>\n",
       "      <td>5295bca242be81fe</td>\n",
       "      <td>1372890414</td>\n",
       "      <td>110</td>\n",
       "      <td>14th_century;Europe;North_America;United_State...</td>\n",
       "      <td>14th_century</td>\n",
       "      <td>John_F._Kennedy</td>\n",
       "      <td>[Europe, North_America, United_States, Preside...</td>\n",
       "      <td>14th_century_John_F._Kennedy</td>\n",
       "      <td>5</td>\n",
       "    </tr>\n",
       "    <tr>\n",
       "      <th>6</th>\n",
       "      <td>36dabfa133b20e3c</td>\n",
       "      <td>1249525912</td>\n",
       "      <td>112</td>\n",
       "      <td>14th_century;China;Gunpowder;Fire</td>\n",
       "      <td>14th_century</td>\n",
       "      <td>Fire</td>\n",
       "      <td>[China, Gunpowder]</td>\n",
       "      <td>14th_century_Fire</td>\n",
       "      <td>3</td>\n",
       "    </tr>\n",
       "    <tr>\n",
       "      <th>7</th>\n",
       "      <td>20418ff4797f96be</td>\n",
       "      <td>1229188046</td>\n",
       "      <td>139</td>\n",
       "      <td>14th_century;Time;Isaac_Newton;Light;Color;Rai...</td>\n",
       "      <td>14th_century</td>\n",
       "      <td>Rainbow</td>\n",
       "      <td>[Time, Isaac_Newton, Light, Color]</td>\n",
       "      <td>14th_century_Rainbow</td>\n",
       "      <td>5</td>\n",
       "    </tr>\n",
       "    <tr>\n",
       "      <th>8</th>\n",
       "      <td>08888b1b428dd90e</td>\n",
       "      <td>1232241510</td>\n",
       "      <td>74</td>\n",
       "      <td>14th_century;Time;Light;Rainbow</td>\n",
       "      <td>14th_century</td>\n",
       "      <td>Rainbow</td>\n",
       "      <td>[Time, Light]</td>\n",
       "      <td>14th_century_Rainbow</td>\n",
       "      <td>3</td>\n",
       "    </tr>\n",
       "    <tr>\n",
       "      <th>9</th>\n",
       "      <td>08888b1b428dd90e</td>\n",
       "      <td>1232241601</td>\n",
       "      <td>167</td>\n",
       "      <td>14th_century;15th_century;Plato;Nature;Ultravi...</td>\n",
       "      <td>14th_century</td>\n",
       "      <td>Rainbow</td>\n",
       "      <td>[15th_century, Plato, Nature, Ultraviolet, Color]</td>\n",
       "      <td>14th_century_Rainbow</td>\n",
       "      <td>6</td>\n",
       "    </tr>\n",
       "  </tbody>\n",
       "</table>\n",
       "</div>"
      ],
      "text/plain": [
       "    hashedIpAddress   timestamp  durationInSec  \\\n",
       "0  6a3701d319fc3754  1297740409            166   \n",
       "1  3824310e536af032  1344753412             88   \n",
       "2  415612e93584d30e  1349298640            138   \n",
       "3  64dd5cd342e3780c  1265613925             37   \n",
       "4  015245d773376aab  1366730828            175   \n",
       "5  5295bca242be81fe  1372890414            110   \n",
       "6  36dabfa133b20e3c  1249525912            112   \n",
       "7  20418ff4797f96be  1229188046            139   \n",
       "8  08888b1b428dd90e  1232241510             74   \n",
       "9  08888b1b428dd90e  1232241601            167   \n",
       "\n",
       "                                                path        source  \\\n",
       "0  14th_century;15th_century;16th_century;Pacific...  14th_century   \n",
       "1  14th_century;Europe;Africa;Atlantic_slave_trad...  14th_century   \n",
       "2  14th_century;Niger;Nigeria;British_Empire;Slav...  14th_century   \n",
       "3     14th_century;Renaissance;Ancient_Greece;Greece  14th_century   \n",
       "4  14th_century;Italy;Roman_Catholic_Church;HIV;R...  14th_century   \n",
       "5  14th_century;Europe;North_America;United_State...  14th_century   \n",
       "6                  14th_century;China;Gunpowder;Fire  14th_century   \n",
       "7  14th_century;Time;Isaac_Newton;Light;Color;Rai...  14th_century   \n",
       "8                    14th_century;Time;Light;Rainbow  14th_century   \n",
       "9  14th_century;15th_century;Plato;Nature;Ultravi...  14th_century   \n",
       "\n",
       "                target                                             middle  \\\n",
       "0  African_slave_trade  [15th_century, 16th_century, Pacific_Ocean, At...   \n",
       "1  African_slave_trade             [Europe, Africa, Atlantic_slave_trade]   \n",
       "2  African_slave_trade  [Niger, Nigeria, British_Empire, Slavery, Afri...   \n",
       "3               Greece                      [Renaissance, Ancient_Greece]   \n",
       "4      John_F._Kennedy  [Italy, Roman_Catholic_Church, HIV, Ronald_Rea...   \n",
       "5      John_F._Kennedy  [Europe, North_America, United_States, Preside...   \n",
       "6                 Fire                                 [China, Gunpowder]   \n",
       "7              Rainbow                 [Time, Isaac_Newton, Light, Color]   \n",
       "8              Rainbow                                      [Time, Light]   \n",
       "9              Rainbow  [15th_century, Plato, Nature, Ultraviolet, Color]   \n",
       "\n",
       "                      source_target  path_steps  \n",
       "0  14th_century_African_slave_trade           8  \n",
       "1  14th_century_African_slave_trade           4  \n",
       "2  14th_century_African_slave_trade           7  \n",
       "3               14th_century_Greece           3  \n",
       "4      14th_century_John_F._Kennedy           6  \n",
       "5      14th_century_John_F._Kennedy           5  \n",
       "6                 14th_century_Fire           3  \n",
       "7              14th_century_Rainbow           5  \n",
       "8              14th_century_Rainbow           3  \n",
       "9              14th_century_Rainbow           6  "
      ]
     },
     "execution_count": 314,
     "metadata": {},
     "output_type": "execute_result"
    }
   ],
   "source": [
    "paths_finished[:10]"
   ]
  },
  {
   "cell_type": "markdown",
   "metadata": {},
   "source": [
    "### 4.5: Unfinished Paths"
   ]
  },
  {
   "cell_type": "code",
   "execution_count": 315,
   "metadata": {},
   "outputs": [],
   "source": [
    "paths_unfinished.drop('type', axis=1, inplace=True)\n",
    "\n",
    "split_data_2 = paths_unfinished['path'].str.split(';')\n",
    "split_data_2 = split_data_2.apply(decode_list)\n",
    "\n",
    "paths_unfinished['source'] = split_data_2.apply(lambda x: x[0])\n",
    "paths_unfinished['middle'] = split_data_2.apply(lambda x: x[1:])\n",
    "flattened_middle_2 = [item for sublist in paths_unfinished['middle'] for item in sublist]"
   ]
  },
  {
   "cell_type": "code",
   "execution_count": 316,
   "metadata": {},
   "outputs": [
    {
     "data": {
      "text/plain": [
       "[('<', 12907),\n",
       " ('United_States', 3546),\n",
       " ('United_Kingdom', 1418),\n",
       " ('Europe', 1234),\n",
       " ('England', 1181),\n",
       " ('Earth', 981),\n",
       " ('Africa', 771),\n",
       " ('Human', 754),\n",
       " ('Animal', 737),\n",
       " ('Mammal', 708)]"
      ]
     },
     "execution_count": 316,
     "metadata": {},
     "output_type": "execute_result"
    }
   ],
   "source": [
    "# most common articles in the middle (excluding source and target)\n",
    "Counter(flattened_middle_2).most_common(10)"
   ]
  },
  {
   "cell_type": "code",
   "execution_count": 317,
   "metadata": {},
   "outputs": [
    {
     "data": {
      "text/plain": [
       "Brain       1021\n",
       "Pyramid      953\n",
       "Theatre      892\n",
       "Asteroid     745\n",
       "Batman       345\n",
       "Cat          143\n",
       "Dog          105\n",
       "Computer      94\n",
       "Bird          71\n",
       "Beer          62\n",
       "Name: source, dtype: int64"
      ]
     },
     "execution_count": 317,
     "metadata": {},
     "output_type": "execute_result"
    }
   ],
   "source": [
    "# most common source article for unfinished paths\n",
    "paths_unfinished['path_steps'] = split_data_2.apply(lambda x: len(x) - 1)\n",
    "paths_unfinished['source_target'] = paths_unfinished['source'] + '_' + paths_unfinished['target']\n",
    "paths_unfinished.source.value_counts().head(10)"
   ]
  },
  {
   "cell_type": "code",
   "execution_count": 318,
   "metadata": {},
   "outputs": [
    {
     "data": {
      "text/plain": [
       "Telephone                 1060\n",
       "Bean                       950\n",
       "Zebra                      893\n",
       "Viking                     734\n",
       "Tiger_Woods                218\n",
       "Nurse_sharks               124\n",
       "Three_Laws_of_Robotics     102\n",
       "Economy_of_India            94\n",
       "Adolf_Hitler                94\n",
       "Wood                        93\n",
       "Name: target, dtype: int64"
      ]
     },
     "execution_count": 318,
     "metadata": {},
     "output_type": "execute_result"
    }
   ],
   "source": [
    "# most common target article for unfinished paths\n",
    "paths_unfinished.target.value_counts().head(10)"
   ]
  },
  {
   "cell_type": "code",
   "execution_count": 319,
   "metadata": {},
   "outputs": [
    {
     "data": {
      "text/plain": [
       "Brain_Telephone    1004\n",
       "Pyramid_Bean        944\n",
       "Theatre_Zebra       872\n",
       "Asteroid_Viking     727\n",
       "Batman_Wood          75\n",
       "Batman_Banana        56\n",
       "Cat_Computer         43\n",
       "Aircraft_Google      43\n",
       "Beer_Sun             43\n",
       "Cat_Microsoft        42\n",
       "Name: source_target, dtype: int64"
      ]
     },
     "execution_count": 319,
     "metadata": {},
     "output_type": "execute_result"
    }
   ],
   "source": [
    "# most popular game for unifinished paths\n",
    "paths_unfinished.source_target.value_counts().head(10)"
   ]
  },
  {
   "cell_type": "code",
   "execution_count": 320,
   "metadata": {},
   "outputs": [
    {
     "data": {
      "text/html": [
       "<div>\n",
       "<style scoped>\n",
       "    .dataframe tbody tr th:only-of-type {\n",
       "        vertical-align: middle;\n",
       "    }\n",
       "\n",
       "    .dataframe tbody tr th {\n",
       "        vertical-align: top;\n",
       "    }\n",
       "\n",
       "    .dataframe thead th {\n",
       "        text-align: right;\n",
       "    }\n",
       "</style>\n",
       "<table border=\"1\" class=\"dataframe\">\n",
       "  <thead>\n",
       "    <tr style=\"text-align: right;\">\n",
       "      <th></th>\n",
       "      <th>hashedIpAddress</th>\n",
       "      <th>timestamp</th>\n",
       "      <th>durationInSec</th>\n",
       "      <th>path</th>\n",
       "      <th>source</th>\n",
       "      <th>target</th>\n",
       "      <th>middle</th>\n",
       "      <th>path_steps</th>\n",
       "      <th>source_target</th>\n",
       "    </tr>\n",
       "  </thead>\n",
       "  <tbody>\n",
       "    <tr>\n",
       "      <th>0</th>\n",
       "      <td>2426091a53125110</td>\n",
       "      <td>1297054935</td>\n",
       "      <td>1804</td>\n",
       "      <td>Obi-Wan_Kenobi</td>\n",
       "      <td>Obi-Wan_Kenobi</td>\n",
       "      <td>Microsoft</td>\n",
       "      <td>[]</td>\n",
       "      <td>0</td>\n",
       "      <td>Obi-Wan_Kenobi_Microsoft</td>\n",
       "    </tr>\n",
       "    <tr>\n",
       "      <th>1</th>\n",
       "      <td>26141fd878806294</td>\n",
       "      <td>1297055651</td>\n",
       "      <td>1805</td>\n",
       "      <td>Julius_Caesar</td>\n",
       "      <td>Julius_Caesar</td>\n",
       "      <td>Caracas</td>\n",
       "      <td>[]</td>\n",
       "      <td>0</td>\n",
       "      <td>Julius_Caesar_Caracas</td>\n",
       "    </tr>\n",
       "    <tr>\n",
       "      <th>2</th>\n",
       "      <td>2b015fb8181c48f2</td>\n",
       "      <td>1297090819</td>\n",
       "      <td>1818</td>\n",
       "      <td>Malawi;Democracy;Alexander_the_Great</td>\n",
       "      <td>Malawi</td>\n",
       "      <td>First_Crusade</td>\n",
       "      <td>[Democracy, Alexander_the_Great]</td>\n",
       "      <td>2</td>\n",
       "      <td>Malawi_First_Crusade</td>\n",
       "    </tr>\n",
       "    <tr>\n",
       "      <th>3</th>\n",
       "      <td>53a53bc244e08a6a</td>\n",
       "      <td>1297094761</td>\n",
       "      <td>49</td>\n",
       "      <td>Paraguay</td>\n",
       "      <td>Paraguay</td>\n",
       "      <td>Mount_St._Helens</td>\n",
       "      <td>[]</td>\n",
       "      <td>0</td>\n",
       "      <td>Paraguay_Mount_St._Helens</td>\n",
       "    </tr>\n",
       "    <tr>\n",
       "      <th>4</th>\n",
       "      <td>53a53bc244e08a6a</td>\n",
       "      <td>1297099105</td>\n",
       "      <td>1808</td>\n",
       "      <td>Paraguay;Bolivia</td>\n",
       "      <td>Paraguay</td>\n",
       "      <td>Mount_St._Helens</td>\n",
       "      <td>[Bolivia]</td>\n",
       "      <td>1</td>\n",
       "      <td>Paraguay_Mount_St._Helens</td>\n",
       "    </tr>\n",
       "    <tr>\n",
       "      <th>5</th>\n",
       "      <td>131600803df4895e</td>\n",
       "      <td>1297100557</td>\n",
       "      <td>2009</td>\n",
       "      <td>Agriculture;History_of_the_world;China;Yangtze...</td>\n",
       "      <td>Agriculture</td>\n",
       "      <td>Grand_Canal_of_China</td>\n",
       "      <td>[History_of_the_world, China, Yangtze_River]</td>\n",
       "      <td>3</td>\n",
       "      <td>Agriculture_Grand_Canal_of_China</td>\n",
       "    </tr>\n",
       "    <tr>\n",
       "      <th>6</th>\n",
       "      <td>486bb79910fe9dd2</td>\n",
       "      <td>1297101660</td>\n",
       "      <td>1932</td>\n",
       "      <td>Mind;Christianity;Europe;Renaissance;Ancient_G...</td>\n",
       "      <td>Mind</td>\n",
       "      <td>Scouting</td>\n",
       "      <td>[Christianity, Europe, Renaissance, Ancient_Gr...</td>\n",
       "      <td>6</td>\n",
       "      <td>Mind_Scouting</td>\n",
       "    </tr>\n",
       "    <tr>\n",
       "      <th>7</th>\n",
       "      <td>6d136e371e42474f</td>\n",
       "      <td>1297102070</td>\n",
       "      <td>175</td>\n",
       "      <td>4-2-0;United_States;Agriculture;Sugar;Australia</td>\n",
       "      <td>4-2-0</td>\n",
       "      <td>Cane_Toad</td>\n",
       "      <td>[United_States, Agriculture, Sugar, Australia]</td>\n",
       "      <td>4</td>\n",
       "      <td>4-2-0_Cane_Toad</td>\n",
       "    </tr>\n",
       "    <tr>\n",
       "      <th>8</th>\n",
       "      <td>6d136e371e42474f</td>\n",
       "      <td>1297102100</td>\n",
       "      <td>19</td>\n",
       "      <td>Logic</td>\n",
       "      <td>Logic</td>\n",
       "      <td>Moon_landing</td>\n",
       "      <td>[]</td>\n",
       "      <td>0</td>\n",
       "      <td>Logic_Moon_landing</td>\n",
       "    </tr>\n",
       "    <tr>\n",
       "      <th>9</th>\n",
       "      <td>6d136e371e42474f</td>\n",
       "      <td>1297104110</td>\n",
       "      <td>2006</td>\n",
       "      <td>Logic;Computer_science;Science;Physical_scienc...</td>\n",
       "      <td>Logic</td>\n",
       "      <td>Moon_landing</td>\n",
       "      <td>[Computer_science, Science, Physical_science, ...</td>\n",
       "      <td>8</td>\n",
       "      <td>Logic_Moon_landing</td>\n",
       "    </tr>\n",
       "  </tbody>\n",
       "</table>\n",
       "</div>"
      ],
      "text/plain": [
       "    hashedIpAddress   timestamp  durationInSec  \\\n",
       "0  2426091a53125110  1297054935           1804   \n",
       "1  26141fd878806294  1297055651           1805   \n",
       "2  2b015fb8181c48f2  1297090819           1818   \n",
       "3  53a53bc244e08a6a  1297094761             49   \n",
       "4  53a53bc244e08a6a  1297099105           1808   \n",
       "5  131600803df4895e  1297100557           2009   \n",
       "6  486bb79910fe9dd2  1297101660           1932   \n",
       "7  6d136e371e42474f  1297102070            175   \n",
       "8  6d136e371e42474f  1297102100             19   \n",
       "9  6d136e371e42474f  1297104110           2006   \n",
       "\n",
       "                                                path          source  \\\n",
       "0                                     Obi-Wan_Kenobi  Obi-Wan_Kenobi   \n",
       "1                                      Julius_Caesar   Julius_Caesar   \n",
       "2               Malawi;Democracy;Alexander_the_Great          Malawi   \n",
       "3                                           Paraguay        Paraguay   \n",
       "4                                   Paraguay;Bolivia        Paraguay   \n",
       "5  Agriculture;History_of_the_world;China;Yangtze...     Agriculture   \n",
       "6  Mind;Christianity;Europe;Renaissance;Ancient_G...            Mind   \n",
       "7    4-2-0;United_States;Agriculture;Sugar;Australia           4-2-0   \n",
       "8                                              Logic           Logic   \n",
       "9  Logic;Computer_science;Science;Physical_scienc...           Logic   \n",
       "\n",
       "                 target                                             middle  \\\n",
       "0             Microsoft                                                 []   \n",
       "1               Caracas                                                 []   \n",
       "2         First_Crusade                   [Democracy, Alexander_the_Great]   \n",
       "3      Mount_St._Helens                                                 []   \n",
       "4      Mount_St._Helens                                          [Bolivia]   \n",
       "5  Grand_Canal_of_China       [History_of_the_world, China, Yangtze_River]   \n",
       "6              Scouting  [Christianity, Europe, Renaissance, Ancient_Gr...   \n",
       "7             Cane_Toad     [United_States, Agriculture, Sugar, Australia]   \n",
       "8          Moon_landing                                                 []   \n",
       "9          Moon_landing  [Computer_science, Science, Physical_science, ...   \n",
       "\n",
       "   path_steps                     source_target  \n",
       "0           0          Obi-Wan_Kenobi_Microsoft  \n",
       "1           0             Julius_Caesar_Caracas  \n",
       "2           2              Malawi_First_Crusade  \n",
       "3           0         Paraguay_Mount_St._Helens  \n",
       "4           1         Paraguay_Mount_St._Helens  \n",
       "5           3  Agriculture_Grand_Canal_of_China  \n",
       "6           6                     Mind_Scouting  \n",
       "7           4                   4-2-0_Cane_Toad  \n",
       "8           0                Logic_Moon_landing  \n",
       "9           8                Logic_Moon_landing  "
      ]
     },
     "execution_count": 320,
     "metadata": {},
     "output_type": "execute_result"
    }
   ],
   "source": [
    "new_order = ['hashedIpAddress','timestamp','durationInSec','path','source','target','middle','path_steps','source_target']\n",
    "paths_unfinished = paths_unfinished[new_order]\n",
    "paths_unfinished[:10]"
   ]
  },
  {
   "cell_type": "markdown",
   "metadata": {
    "tags": []
   },
   "source": [
    "### 4.6: Paths with Categories"
   ]
  },
  {
   "cell_type": "code",
   "execution_count": 321,
   "metadata": {},
   "outputs": [],
   "source": [
    "paths_finished['finished'] = 1\n",
    "paths_unfinished['finished'] = 0\n",
    "# combine finished paths and unfinished paths\n",
    "paths_all = pd.concat([paths_finished, paths_unfinished], ignore_index=True) "
   ]
  },
  {
   "cell_type": "code",
   "execution_count": 322,
   "metadata": {},
   "outputs": [
    {
     "data": {
      "text/plain": [
       "Brain_Telephone           2044\n",
       "Theatre_Zebra             1777\n",
       "Asteroid_Viking           1770\n",
       "Pyramid_Bean              1586\n",
       "Batman_Wood                223\n",
       "Bird_Great_white_shark     168\n",
       "Batman_The_Holocaust       149\n",
       "Beer_Sun                   142\n",
       "Bird_Adolf_Hitler          129\n",
       "Batman_Banana              125\n",
       "Name: source_target, dtype: int64"
      ]
     },
     "execution_count": 322,
     "metadata": {},
     "output_type": "execute_result"
    }
   ],
   "source": [
    "# most popular game for combined data\n",
    "paths_all['source_target'].value_counts().head(10)"
   ]
  },
  {
   "cell_type": "code",
   "execution_count": 324,
   "metadata": {},
   "outputs": [
    {
     "name": "stdout",
     "output_type": "stream",
     "text": [
      "article\n",
      "Abacus                   2\n",
      "Abbey                    2\n",
      "Abbot                    2\n",
      "Abkhazia                 2\n",
      "Abu_Dhabi                2\n",
      "                        ..\n",
      "Zuid-Gelders             2\n",
      "Áedán_mac_Gabráin        2\n",
      "Åland                    2\n",
      "Éire                     2\n",
      "Óengus_I_of_the_Picts    2\n",
      "Name: category, Length: 598, dtype: int64\n"
     ]
    }
   ],
   "source": [
    "# Some articles belong to more than one category\n",
    "category_counts = categories.groupby('article')['category'].count()\n",
    "articles_with_multiple_categories = category_counts[category_counts > 1]\n",
    "print(articles_with_multiple_categories)"
   ]
  },
  {
   "cell_type": "code",
   "execution_count": 325,
   "metadata": {},
   "outputs": [
    {
     "data": {
      "text/html": [
       "<div>\n",
       "<style scoped>\n",
       "    .dataframe tbody tr th:only-of-type {\n",
       "        vertical-align: middle;\n",
       "    }\n",
       "\n",
       "    .dataframe tbody tr th {\n",
       "        vertical-align: top;\n",
       "    }\n",
       "\n",
       "    .dataframe thead th {\n",
       "        text-align: right;\n",
       "    }\n",
       "</style>\n",
       "<table border=\"1\" class=\"dataframe\">\n",
       "  <thead>\n",
       "    <tr style=\"text-align: right;\">\n",
       "      <th></th>\n",
       "      <th>article</th>\n",
       "      <th>category</th>\n",
       "      <th>main_category</th>\n",
       "    </tr>\n",
       "  </thead>\n",
       "  <tbody>\n",
       "    <tr>\n",
       "      <th>2026</th>\n",
       "      <td>Greece</td>\n",
       "      <td>subject.Countries</td>\n",
       "      <td>Countries</td>\n",
       "    </tr>\n",
       "    <tr>\n",
       "      <th>2027</th>\n",
       "      <td>Greece</td>\n",
       "      <td>subject.Geography.European_Geography.European_...</td>\n",
       "      <td>Geography</td>\n",
       "    </tr>\n",
       "  </tbody>\n",
       "</table>\n",
       "</div>"
      ],
      "text/plain": [
       "     article                                           category main_category\n",
       "2026  Greece                                  subject.Countries     Countries\n",
       "2027  Greece  subject.Geography.European_Geography.European_...     Geography"
      ]
     },
     "execution_count": 325,
     "metadata": {},
     "output_type": "execute_result"
    }
   ],
   "source": [
    "# For example...\n",
    "categories[categories.article == 'Greece']"
   ]
  },
  {
   "cell_type": "code",
   "execution_count": 327,
   "metadata": {},
   "outputs": [
    {
     "data": {
      "text/html": [
       "<div>\n",
       "<style scoped>\n",
       "    .dataframe tbody tr th:only-of-type {\n",
       "        vertical-align: middle;\n",
       "    }\n",
       "\n",
       "    .dataframe tbody tr th {\n",
       "        vertical-align: top;\n",
       "    }\n",
       "\n",
       "    .dataframe thead th {\n",
       "        text-align: right;\n",
       "    }\n",
       "</style>\n",
       "<table border=\"1\" class=\"dataframe\">\n",
       "  <thead>\n",
       "    <tr style=\"text-align: right;\">\n",
       "      <th></th>\n",
       "      <th>category</th>\n",
       "      <th>main_category</th>\n",
       "    </tr>\n",
       "    <tr>\n",
       "      <th>article</th>\n",
       "      <th></th>\n",
       "      <th></th>\n",
       "    </tr>\n",
       "  </thead>\n",
       "  <tbody>\n",
       "    <tr>\n",
       "      <th>10th_century</th>\n",
       "      <td>subject.History.General_history</td>\n",
       "      <td>History</td>\n",
       "    </tr>\n",
       "    <tr>\n",
       "      <th>11th_century</th>\n",
       "      <td>subject.History.General_history</td>\n",
       "      <td>History</td>\n",
       "    </tr>\n",
       "    <tr>\n",
       "      <th>12th_century</th>\n",
       "      <td>subject.History.General_history</td>\n",
       "      <td>History</td>\n",
       "    </tr>\n",
       "    <tr>\n",
       "      <th>13th_century</th>\n",
       "      <td>subject.History.General_history</td>\n",
       "      <td>History</td>\n",
       "    </tr>\n",
       "    <tr>\n",
       "      <th>14th_century</th>\n",
       "      <td>subject.History.General_history</td>\n",
       "      <td>History</td>\n",
       "    </tr>\n",
       "    <tr>\n",
       "      <th>15th_Marine_Expeditionary_Unit</th>\n",
       "      <td>subject.History.Military_History_and_War</td>\n",
       "      <td>History</td>\n",
       "    </tr>\n",
       "    <tr>\n",
       "      <th>15th_century</th>\n",
       "      <td>subject.History.General_history</td>\n",
       "      <td>History</td>\n",
       "    </tr>\n",
       "    <tr>\n",
       "      <th>16_Cygni</th>\n",
       "      <td>subject.Science.Physics.Space_Astronomy</td>\n",
       "      <td>Science</td>\n",
       "    </tr>\n",
       "    <tr>\n",
       "      <th>16_Cygni_Bb</th>\n",
       "      <td>subject.Science.Physics.Space_Astronomy</td>\n",
       "      <td>Science</td>\n",
       "    </tr>\n",
       "    <tr>\n",
       "      <th>16th_century</th>\n",
       "      <td>subject.History.General_history</td>\n",
       "      <td>History</td>\n",
       "    </tr>\n",
       "  </tbody>\n",
       "</table>\n",
       "</div>"
      ],
      "text/plain": [
       "                                                                category  \\\n",
       "article                                                                    \n",
       "10th_century                             subject.History.General_history   \n",
       "11th_century                             subject.History.General_history   \n",
       "12th_century                             subject.History.General_history   \n",
       "13th_century                             subject.History.General_history   \n",
       "14th_century                             subject.History.General_history   \n",
       "15th_Marine_Expeditionary_Unit  subject.History.Military_History_and_War   \n",
       "15th_century                             subject.History.General_history   \n",
       "16_Cygni                         subject.Science.Physics.Space_Astronomy   \n",
       "16_Cygni_Bb                      subject.Science.Physics.Space_Astronomy   \n",
       "16th_century                             subject.History.General_history   \n",
       "\n",
       "                               main_category  \n",
       "article                                       \n",
       "10th_century                         History  \n",
       "11th_century                         History  \n",
       "12th_century                         History  \n",
       "13th_century                         History  \n",
       "14th_century                         History  \n",
       "15th_Marine_Expeditionary_Unit       History  \n",
       "15th_century                         History  \n",
       "16_Cygni                             Science  \n",
       "16_Cygni_Bb                          Science  \n",
       "16th_century                         History  "
      ]
     },
     "execution_count": 327,
     "metadata": {},
     "output_type": "execute_result"
    }
   ],
   "source": [
    "# Keep only the first category per article\n",
    "first_category_per_article = categories.groupby('article').first()\n",
    "first_category_per_article.head(10)"
   ]
  },
  {
   "cell_type": "code",
   "execution_count": 328,
   "metadata": {},
   "outputs": [
    {
     "data": {
      "text/html": [
       "<div>\n",
       "<style scoped>\n",
       "    .dataframe tbody tr th:only-of-type {\n",
       "        vertical-align: middle;\n",
       "    }\n",
       "\n",
       "    .dataframe tbody tr th {\n",
       "        vertical-align: top;\n",
       "    }\n",
       "\n",
       "    .dataframe thead th {\n",
       "        text-align: right;\n",
       "    }\n",
       "</style>\n",
       "<table border=\"1\" class=\"dataframe\">\n",
       "  <thead>\n",
       "    <tr style=\"text-align: right;\">\n",
       "      <th></th>\n",
       "      <th>hashedIpAddress</th>\n",
       "      <th>timestamp</th>\n",
       "      <th>durationInSec</th>\n",
       "      <th>path</th>\n",
       "      <th>source</th>\n",
       "      <th>target</th>\n",
       "      <th>middle</th>\n",
       "      <th>source_target</th>\n",
       "      <th>path_steps</th>\n",
       "      <th>finished</th>\n",
       "      <th>category</th>\n",
       "      <th>main_category</th>\n",
       "    </tr>\n",
       "  </thead>\n",
       "  <tbody>\n",
       "    <tr>\n",
       "      <th>0</th>\n",
       "      <td>6a3701d319fc3754</td>\n",
       "      <td>1297740409</td>\n",
       "      <td>166</td>\n",
       "      <td>14th_century;15th_century;16th_century;Pacific...</td>\n",
       "      <td>14th_century</td>\n",
       "      <td>African_slave_trade</td>\n",
       "      <td>[15th_century, 16th_century, Pacific_Ocean, At...</td>\n",
       "      <td>14th_century_African_slave_trade</td>\n",
       "      <td>8</td>\n",
       "      <td>1</td>\n",
       "      <td>subject.History.General_history</td>\n",
       "      <td>History</td>\n",
       "    </tr>\n",
       "    <tr>\n",
       "      <th>1</th>\n",
       "      <td>3824310e536af032</td>\n",
       "      <td>1344753412</td>\n",
       "      <td>88</td>\n",
       "      <td>14th_century;Europe;Africa;Atlantic_slave_trad...</td>\n",
       "      <td>14th_century</td>\n",
       "      <td>African_slave_trade</td>\n",
       "      <td>[Europe, Africa, Atlantic_slave_trade]</td>\n",
       "      <td>14th_century_African_slave_trade</td>\n",
       "      <td>4</td>\n",
       "      <td>1</td>\n",
       "      <td>subject.History.General_history</td>\n",
       "      <td>History</td>\n",
       "    </tr>\n",
       "    <tr>\n",
       "      <th>2</th>\n",
       "      <td>415612e93584d30e</td>\n",
       "      <td>1349298640</td>\n",
       "      <td>138</td>\n",
       "      <td>14th_century;Niger;Nigeria;British_Empire;Slav...</td>\n",
       "      <td>14th_century</td>\n",
       "      <td>African_slave_trade</td>\n",
       "      <td>[Niger, Nigeria, British_Empire, Slavery, Afri...</td>\n",
       "      <td>14th_century_African_slave_trade</td>\n",
       "      <td>7</td>\n",
       "      <td>1</td>\n",
       "      <td>subject.History.General_history</td>\n",
       "      <td>History</td>\n",
       "    </tr>\n",
       "    <tr>\n",
       "      <th>3</th>\n",
       "      <td>64dd5cd342e3780c</td>\n",
       "      <td>1265613925</td>\n",
       "      <td>37</td>\n",
       "      <td>14th_century;Renaissance;Ancient_Greece;Greece</td>\n",
       "      <td>14th_century</td>\n",
       "      <td>Greece</td>\n",
       "      <td>[Renaissance, Ancient_Greece]</td>\n",
       "      <td>14th_century_Greece</td>\n",
       "      <td>3</td>\n",
       "      <td>1</td>\n",
       "      <td>subject.Countries</td>\n",
       "      <td>Countries</td>\n",
       "    </tr>\n",
       "    <tr>\n",
       "      <th>4</th>\n",
       "      <td>015245d773376aab</td>\n",
       "      <td>1366730828</td>\n",
       "      <td>175</td>\n",
       "      <td>14th_century;Italy;Roman_Catholic_Church;HIV;R...</td>\n",
       "      <td>14th_century</td>\n",
       "      <td>John_F._Kennedy</td>\n",
       "      <td>[Italy, Roman_Catholic_Church, HIV, Ronald_Rea...</td>\n",
       "      <td>14th_century_John_F._Kennedy</td>\n",
       "      <td>6</td>\n",
       "      <td>1</td>\n",
       "      <td>subject.People.USA_Presidents</td>\n",
       "      <td>People</td>\n",
       "    </tr>\n",
       "    <tr>\n",
       "      <th>5</th>\n",
       "      <td>5295bca242be81fe</td>\n",
       "      <td>1372890414</td>\n",
       "      <td>110</td>\n",
       "      <td>14th_century;Europe;North_America;United_State...</td>\n",
       "      <td>14th_century</td>\n",
       "      <td>John_F._Kennedy</td>\n",
       "      <td>[Europe, North_America, United_States, Preside...</td>\n",
       "      <td>14th_century_John_F._Kennedy</td>\n",
       "      <td>5</td>\n",
       "      <td>1</td>\n",
       "      <td>subject.People.USA_Presidents</td>\n",
       "      <td>People</td>\n",
       "    </tr>\n",
       "    <tr>\n",
       "      <th>6</th>\n",
       "      <td>36dabfa133b20e3c</td>\n",
       "      <td>1249525912</td>\n",
       "      <td>112</td>\n",
       "      <td>14th_century;China;Gunpowder;Fire</td>\n",
       "      <td>14th_century</td>\n",
       "      <td>Fire</td>\n",
       "      <td>[China, Gunpowder]</td>\n",
       "      <td>14th_century_Fire</td>\n",
       "      <td>3</td>\n",
       "      <td>1</td>\n",
       "      <td>subject.Science.Chemistry.General_Chemistry</td>\n",
       "      <td>Science</td>\n",
       "    </tr>\n",
       "    <tr>\n",
       "      <th>7</th>\n",
       "      <td>20418ff4797f96be</td>\n",
       "      <td>1229188046</td>\n",
       "      <td>139</td>\n",
       "      <td>14th_century;Time;Isaac_Newton;Light;Color;Rai...</td>\n",
       "      <td>14th_century</td>\n",
       "      <td>Rainbow</td>\n",
       "      <td>[Time, Isaac_Newton, Light, Color]</td>\n",
       "      <td>14th_century_Rainbow</td>\n",
       "      <td>5</td>\n",
       "      <td>1</td>\n",
       "      <td>subject.Geography.Climate_and_the_Weather</td>\n",
       "      <td>Geography</td>\n",
       "    </tr>\n",
       "    <tr>\n",
       "      <th>8</th>\n",
       "      <td>08888b1b428dd90e</td>\n",
       "      <td>1232241510</td>\n",
       "      <td>74</td>\n",
       "      <td>14th_century;Time;Light;Rainbow</td>\n",
       "      <td>14th_century</td>\n",
       "      <td>Rainbow</td>\n",
       "      <td>[Time, Light]</td>\n",
       "      <td>14th_century_Rainbow</td>\n",
       "      <td>3</td>\n",
       "      <td>1</td>\n",
       "      <td>subject.Geography.Climate_and_the_Weather</td>\n",
       "      <td>Geography</td>\n",
       "    </tr>\n",
       "    <tr>\n",
       "      <th>9</th>\n",
       "      <td>08888b1b428dd90e</td>\n",
       "      <td>1232241601</td>\n",
       "      <td>167</td>\n",
       "      <td>14th_century;15th_century;Plato;Nature;Ultravi...</td>\n",
       "      <td>14th_century</td>\n",
       "      <td>Rainbow</td>\n",
       "      <td>[15th_century, Plato, Nature, Ultraviolet, Color]</td>\n",
       "      <td>14th_century_Rainbow</td>\n",
       "      <td>6</td>\n",
       "      <td>1</td>\n",
       "      <td>subject.Geography.Climate_and_the_Weather</td>\n",
       "      <td>Geography</td>\n",
       "    </tr>\n",
       "  </tbody>\n",
       "</table>\n",
       "</div>"
      ],
      "text/plain": [
       "    hashedIpAddress   timestamp  durationInSec  \\\n",
       "0  6a3701d319fc3754  1297740409            166   \n",
       "1  3824310e536af032  1344753412             88   \n",
       "2  415612e93584d30e  1349298640            138   \n",
       "3  64dd5cd342e3780c  1265613925             37   \n",
       "4  015245d773376aab  1366730828            175   \n",
       "5  5295bca242be81fe  1372890414            110   \n",
       "6  36dabfa133b20e3c  1249525912            112   \n",
       "7  20418ff4797f96be  1229188046            139   \n",
       "8  08888b1b428dd90e  1232241510             74   \n",
       "9  08888b1b428dd90e  1232241601            167   \n",
       "\n",
       "                                                path        source  \\\n",
       "0  14th_century;15th_century;16th_century;Pacific...  14th_century   \n",
       "1  14th_century;Europe;Africa;Atlantic_slave_trad...  14th_century   \n",
       "2  14th_century;Niger;Nigeria;British_Empire;Slav...  14th_century   \n",
       "3     14th_century;Renaissance;Ancient_Greece;Greece  14th_century   \n",
       "4  14th_century;Italy;Roman_Catholic_Church;HIV;R...  14th_century   \n",
       "5  14th_century;Europe;North_America;United_State...  14th_century   \n",
       "6                  14th_century;China;Gunpowder;Fire  14th_century   \n",
       "7  14th_century;Time;Isaac_Newton;Light;Color;Rai...  14th_century   \n",
       "8                    14th_century;Time;Light;Rainbow  14th_century   \n",
       "9  14th_century;15th_century;Plato;Nature;Ultravi...  14th_century   \n",
       "\n",
       "                target                                             middle  \\\n",
       "0  African_slave_trade  [15th_century, 16th_century, Pacific_Ocean, At...   \n",
       "1  African_slave_trade             [Europe, Africa, Atlantic_slave_trade]   \n",
       "2  African_slave_trade  [Niger, Nigeria, British_Empire, Slavery, Afri...   \n",
       "3               Greece                      [Renaissance, Ancient_Greece]   \n",
       "4      John_F._Kennedy  [Italy, Roman_Catholic_Church, HIV, Ronald_Rea...   \n",
       "5      John_F._Kennedy  [Europe, North_America, United_States, Preside...   \n",
       "6                 Fire                                 [China, Gunpowder]   \n",
       "7              Rainbow                 [Time, Isaac_Newton, Light, Color]   \n",
       "8              Rainbow                                      [Time, Light]   \n",
       "9              Rainbow  [15th_century, Plato, Nature, Ultraviolet, Color]   \n",
       "\n",
       "                      source_target  path_steps  finished  \\\n",
       "0  14th_century_African_slave_trade           8         1   \n",
       "1  14th_century_African_slave_trade           4         1   \n",
       "2  14th_century_African_slave_trade           7         1   \n",
       "3               14th_century_Greece           3         1   \n",
       "4      14th_century_John_F._Kennedy           6         1   \n",
       "5      14th_century_John_F._Kennedy           5         1   \n",
       "6                 14th_century_Fire           3         1   \n",
       "7              14th_century_Rainbow           5         1   \n",
       "8              14th_century_Rainbow           3         1   \n",
       "9              14th_century_Rainbow           6         1   \n",
       "\n",
       "                                      category main_category  \n",
       "0              subject.History.General_history       History  \n",
       "1              subject.History.General_history       History  \n",
       "2              subject.History.General_history       History  \n",
       "3                            subject.Countries     Countries  \n",
       "4                subject.People.USA_Presidents        People  \n",
       "5                subject.People.USA_Presidents        People  \n",
       "6  subject.Science.Chemistry.General_Chemistry       Science  \n",
       "7    subject.Geography.Climate_and_the_Weather     Geography  \n",
       "8    subject.Geography.Climate_and_the_Weather     Geography  \n",
       "9    subject.Geography.Climate_and_the_Weather     Geography  "
      ]
     },
     "execution_count": 328,
     "metadata": {},
     "output_type": "execute_result"
    }
   ],
   "source": [
    "# merge paths with category\n",
    "paths_all_category = paths_all.merge(first_category_per_article, how='left', left_on='target', right_on='article')\n",
    "paths_all_category[:10]"
   ]
  },
  {
   "cell_type": "code",
   "execution_count": 329,
   "metadata": {},
   "outputs": [
    {
     "name": "stdout",
     "output_type": "stream",
     "text": [
      "['History' 'Countries' 'People' 'Science' 'Geography' 'Art' 'Music'\n",
      " 'Citizenship' 'Everyday_life' 'Design_and_Technology' 'IT'\n",
      " 'Language_and_literature' 'Mathematics' 'Religion' nan 'Business_Studies']\n"
     ]
    }
   ],
   "source": [
    "# What are the main categories?\n",
    "print(paths_all_category.main_category.unique())"
   ]
  },
  {
   "cell_type": "code",
   "execution_count": 331,
   "metadata": {},
   "outputs": [
    {
     "data": {
      "text/html": [
       "<div>\n",
       "<style scoped>\n",
       "    .dataframe tbody tr th:only-of-type {\n",
       "        vertical-align: middle;\n",
       "    }\n",
       "\n",
       "    .dataframe tbody tr th {\n",
       "        vertical-align: top;\n",
       "    }\n",
       "\n",
       "    .dataframe thead th {\n",
       "        text-align: right;\n",
       "    }\n",
       "</style>\n",
       "<table border=\"1\" class=\"dataframe\">\n",
       "  <thead>\n",
       "    <tr style=\"text-align: right;\">\n",
       "      <th></th>\n",
       "      <th>source_target</th>\n",
       "      <th>play_count</th>\n",
       "      <th>category</th>\n",
       "      <th>main_category</th>\n",
       "    </tr>\n",
       "  </thead>\n",
       "  <tbody>\n",
       "    <tr>\n",
       "      <th>0</th>\n",
       "      <td>Brain_Telephone</td>\n",
       "      <td>2044</td>\n",
       "      <td>subject.Design_and_Technology.Engineering</td>\n",
       "      <td>Design_and_Technology</td>\n",
       "    </tr>\n",
       "    <tr>\n",
       "      <th>1</th>\n",
       "      <td>Theatre_Zebra</td>\n",
       "      <td>1777</td>\n",
       "      <td>subject.Science.Biology.Mammals</td>\n",
       "      <td>Science</td>\n",
       "    </tr>\n",
       "    <tr>\n",
       "      <th>2</th>\n",
       "      <td>Asteroid_Viking</td>\n",
       "      <td>1770</td>\n",
       "      <td>subject.History.British_History.British_Histor...</td>\n",
       "      <td>History</td>\n",
       "    </tr>\n",
       "    <tr>\n",
       "      <th>3</th>\n",
       "      <td>Pyramid_Bean</td>\n",
       "      <td>1586</td>\n",
       "      <td>subject.Everyday_life.Food_and_agriculture</td>\n",
       "      <td>Everyday_life</td>\n",
       "    </tr>\n",
       "    <tr>\n",
       "      <th>4</th>\n",
       "      <td>Batman_Wood</td>\n",
       "      <td>223</td>\n",
       "      <td>subject.Design_and_Technology.Engineering</td>\n",
       "      <td>Design_and_Technology</td>\n",
       "    </tr>\n",
       "    <tr>\n",
       "      <th>...</th>\n",
       "      <td>...</td>\n",
       "      <td>...</td>\n",
       "      <td>...</td>\n",
       "      <td>...</td>\n",
       "    </tr>\n",
       "    <tr>\n",
       "      <th>42707</th>\n",
       "      <td>Arctic_Monkeys_Nitrogen_fixation</td>\n",
       "      <td>1</td>\n",
       "      <td>subject.Science.Biology.General_Biology</td>\n",
       "      <td>Science</td>\n",
       "    </tr>\n",
       "    <tr>\n",
       "      <th>42708</th>\n",
       "      <td>Arctic_Monkeys_National_parks_of_England_and_W...</td>\n",
       "      <td>1</td>\n",
       "      <td>subject.Geography.Geography_of_Great_Britain</td>\n",
       "      <td>Geography</td>\n",
       "    </tr>\n",
       "    <tr>\n",
       "      <th>42709</th>\n",
       "      <td>Arctic_Monkeys_Mercia</td>\n",
       "      <td>1</td>\n",
       "      <td>subject.History.British_History.British_Histor...</td>\n",
       "      <td>History</td>\n",
       "    </tr>\n",
       "    <tr>\n",
       "      <th>42710</th>\n",
       "      <td>Arctic_Monkeys_Fascism</td>\n",
       "      <td>1</td>\n",
       "      <td>subject.Citizenship.Politics_and_government</td>\n",
       "      <td>Citizenship</td>\n",
       "    </tr>\n",
       "    <tr>\n",
       "      <th>42711</th>\n",
       "      <td>Jamaica_Alan_Turing</td>\n",
       "      <td>1</td>\n",
       "      <td>subject.People.Mathematicians</td>\n",
       "      <td>People</td>\n",
       "    </tr>\n",
       "  </tbody>\n",
       "</table>\n",
       "<p>42712 rows × 4 columns</p>\n",
       "</div>"
      ],
      "text/plain": [
       "                                           source_target  play_count  \\\n",
       "0                                        Brain_Telephone        2044   \n",
       "1                                          Theatre_Zebra        1777   \n",
       "2                                        Asteroid_Viking        1770   \n",
       "3                                           Pyramid_Bean        1586   \n",
       "4                                            Batman_Wood         223   \n",
       "...                                                  ...         ...   \n",
       "42707                   Arctic_Monkeys_Nitrogen_fixation           1   \n",
       "42708  Arctic_Monkeys_National_parks_of_England_and_W...           1   \n",
       "42709                              Arctic_Monkeys_Mercia           1   \n",
       "42710                             Arctic_Monkeys_Fascism           1   \n",
       "42711                                Jamaica_Alan_Turing           1   \n",
       "\n",
       "                                                category  \\\n",
       "0              subject.Design_and_Technology.Engineering   \n",
       "1                        subject.Science.Biology.Mammals   \n",
       "2      subject.History.British_History.British_Histor...   \n",
       "3             subject.Everyday_life.Food_and_agriculture   \n",
       "4              subject.Design_and_Technology.Engineering   \n",
       "...                                                  ...   \n",
       "42707            subject.Science.Biology.General_Biology   \n",
       "42708       subject.Geography.Geography_of_Great_Britain   \n",
       "42709  subject.History.British_History.British_Histor...   \n",
       "42710        subject.Citizenship.Politics_and_government   \n",
       "42711                      subject.People.Mathematicians   \n",
       "\n",
       "               main_category  \n",
       "0      Design_and_Technology  \n",
       "1                    Science  \n",
       "2                    History  \n",
       "3              Everyday_life  \n",
       "4      Design_and_Technology  \n",
       "...                      ...  \n",
       "42707                Science  \n",
       "42708              Geography  \n",
       "42709                History  \n",
       "42710            Citizenship  \n",
       "42711                 People  \n",
       "\n",
       "[42712 rows x 4 columns]"
      ]
     },
     "execution_count": 331,
     "metadata": {},
     "output_type": "execute_result"
    }
   ],
   "source": [
    "# Most popular games and their categories\n",
    "play_counts = paths_all_category['source_target'].value_counts().reset_index()\n",
    "play_counts.columns = ['source_target', 'play_count']\n",
    "paths_all_count_category = play_counts.merge(paths_all_category[['source_target', 'category','main_category']].drop_duplicates(), on='source_target', how='left')\n",
    "paths_all_count_category"
   ]
  },
  {
   "cell_type": "code",
   "execution_count": 332,
   "metadata": {},
   "outputs": [
    {
     "data": {
      "text/html": [
       "<div>\n",
       "<style scoped>\n",
       "    .dataframe tbody tr th:only-of-type {\n",
       "        vertical-align: middle;\n",
       "    }\n",
       "\n",
       "    .dataframe tbody tr th {\n",
       "        vertical-align: top;\n",
       "    }\n",
       "\n",
       "    .dataframe thead th {\n",
       "        text-align: right;\n",
       "    }\n",
       "</style>\n",
       "<table border=\"1\" class=\"dataframe\">\n",
       "  <thead>\n",
       "    <tr style=\"text-align: right;\">\n",
       "      <th></th>\n",
       "      <th>source_target</th>\n",
       "      <th>category</th>\n",
       "      <th>main_category</th>\n",
       "      <th>play_count</th>\n",
       "    </tr>\n",
       "  </thead>\n",
       "  <tbody>\n",
       "    <tr>\n",
       "      <th>0</th>\n",
       "      <td>Brain_Telephone</td>\n",
       "      <td>subject.Design_and_Technology.Engineering</td>\n",
       "      <td>Design_and_Technology</td>\n",
       "      <td>2044</td>\n",
       "    </tr>\n",
       "    <tr>\n",
       "      <th>1</th>\n",
       "      <td>Theatre_Zebra</td>\n",
       "      <td>subject.Science.Biology.Mammals</td>\n",
       "      <td>Science</td>\n",
       "      <td>1777</td>\n",
       "    </tr>\n",
       "    <tr>\n",
       "      <th>2</th>\n",
       "      <td>Asteroid_Viking</td>\n",
       "      <td>subject.History.British_History.British_Histor...</td>\n",
       "      <td>History</td>\n",
       "      <td>1770</td>\n",
       "    </tr>\n",
       "    <tr>\n",
       "      <th>3</th>\n",
       "      <td>Pyramid_Bean</td>\n",
       "      <td>subject.Everyday_life.Food_and_agriculture</td>\n",
       "      <td>Everyday_life</td>\n",
       "      <td>1586</td>\n",
       "    </tr>\n",
       "    <tr>\n",
       "      <th>4</th>\n",
       "      <td>Bird_Adolf_Hitler</td>\n",
       "      <td>subject.People.Political_People</td>\n",
       "      <td>People</td>\n",
       "      <td>129</td>\n",
       "    </tr>\n",
       "    <tr>\n",
       "      <th>5</th>\n",
       "      <td>Cat_Computer</td>\n",
       "      <td>subject.IT.Computing_hardware_and_infrastructure</td>\n",
       "      <td>IT</td>\n",
       "      <td>100</td>\n",
       "    </tr>\n",
       "    <tr>\n",
       "      <th>6</th>\n",
       "      <td>Cat_Microsoft</td>\n",
       "      <td>subject.Business_Studies.Companies</td>\n",
       "      <td>Business_Studies</td>\n",
       "      <td>98</td>\n",
       "    </tr>\n",
       "    <tr>\n",
       "      <th>7</th>\n",
       "      <td>Batman_Bible</td>\n",
       "      <td>subject.Religion.Religious_texts</td>\n",
       "      <td>Religion</td>\n",
       "      <td>58</td>\n",
       "    </tr>\n",
       "    <tr>\n",
       "      <th>8</th>\n",
       "      <td>Achilles_tendon_Ocean</td>\n",
       "      <td>subject.Geography.Geology_and_geophysics</td>\n",
       "      <td>Geography</td>\n",
       "      <td>51</td>\n",
       "    </tr>\n",
       "    <tr>\n",
       "      <th>9</th>\n",
       "      <td>Computer_Russia</td>\n",
       "      <td>subject.Countries</td>\n",
       "      <td>Countries</td>\n",
       "      <td>35</td>\n",
       "    </tr>\n",
       "  </tbody>\n",
       "</table>\n",
       "</div>"
      ],
      "text/plain": [
       "           source_target                                           category  \\\n",
       "0        Brain_Telephone          subject.Design_and_Technology.Engineering   \n",
       "1          Theatre_Zebra                    subject.Science.Biology.Mammals   \n",
       "2        Asteroid_Viking  subject.History.British_History.British_Histor...   \n",
       "3           Pyramid_Bean         subject.Everyday_life.Food_and_agriculture   \n",
       "4      Bird_Adolf_Hitler                    subject.People.Political_People   \n",
       "5           Cat_Computer   subject.IT.Computing_hardware_and_infrastructure   \n",
       "6          Cat_Microsoft                 subject.Business_Studies.Companies   \n",
       "7           Batman_Bible                   subject.Religion.Religious_texts   \n",
       "8  Achilles_tendon_Ocean           subject.Geography.Geology_and_geophysics   \n",
       "9        Computer_Russia                                  subject.Countries   \n",
       "\n",
       "           main_category  play_count  \n",
       "0  Design_and_Technology        2044  \n",
       "1                Science        1777  \n",
       "2                History        1770  \n",
       "3          Everyday_life        1586  \n",
       "4                 People         129  \n",
       "5                     IT         100  \n",
       "6       Business_Studies          98  \n",
       "7               Religion          58  \n",
       "8              Geography          51  \n",
       "9              Countries          35  "
      ]
     },
     "execution_count": 332,
     "metadata": {},
     "output_type": "execute_result"
    }
   ],
   "source": [
    "# Select sample popular games from different categories\n",
    "sorted_df = paths_all_count_category.sort_values(by='play_count', ascending=False)\n",
    "\n",
    "top_games = []\n",
    "\n",
    "for _, row in sorted_df.iterrows():\n",
    "    if len(top_games) >= 10: \n",
    "        break\n",
    "\n",
    "    if not any(game['main_category'] == row['main_category'] for game in top_games):\n",
    "        top_games.append({\n",
    "            'source_target': row['source_target'],\n",
    "            'category': row['category'],\n",
    "             'main_category': row['main_category'],\n",
    "            'play_count': row['play_count']\n",
    "        })\n",
    "        \n",
    "top_games = pd.DataFrame(top_games)\n",
    "top_games"
   ]
  },
  {
   "cell_type": "code",
   "execution_count": 333,
   "metadata": {},
   "outputs": [
    {
     "name": "stdout",
     "output_type": "stream",
     "text": [
      "Design_and_Technology\n",
      "Science\n",
      "History\n",
      "Everyday_life\n",
      "People\n",
      "IT\n",
      "Business_Studies\n",
      "Religion\n",
      "Geography\n",
      "Countries\n"
     ]
    }
   ],
   "source": [
    "# The most popular games from different categories\n",
    "game_1 = paths_all_category[paths_all_category.source_target == 'Brain_Telephone']['main_category'].unique()[0]\n",
    "game_2 = paths_all_category[paths_all_category.source_target == 'Theatre_Zebra']['main_category'].unique()[0]\n",
    "game_3 = paths_all_category[paths_all_category.source_target == 'Asteroid_Viking']['main_category'].unique()[0]\n",
    "game_4 = paths_all_category[paths_all_category.source_target == 'Pyramid_Bean']['main_category'].unique()[0]\n",
    "game_5 = paths_all_category[paths_all_category.source_target == 'Bird_Adolf_Hitler']['main_category'].unique()[0]\n",
    "game_6 = paths_all_category[paths_all_category.source_target == 'Cat_Computer']['main_category'].unique()[0]\n",
    "game_7 = paths_all_category[paths_all_category.source_target == 'Cat_Microsoft']['main_category'].unique()[0]\n",
    "game_8 = paths_all_category[paths_all_category.source_target == 'Batman_Bible']['main_category'].unique()[0]\n",
    "game_9 = paths_all_category[paths_all_category.source_target == 'Achilles_tendon_Ocean']['main_category'].unique()[0]\n",
    "game_10 = paths_all_category[paths_all_category.source_target == 'Computer_Russia']['main_category'].unique()[0]\n",
    "\n",
    "print(game_1)\n",
    "print(game_2)\n",
    "print(game_3)\n",
    "print(game_4)\n",
    "print(game_5)\n",
    "print(game_6)\n",
    "print(game_7)\n",
    "print(game_8)\n",
    "print(game_9)\n",
    "print(game_10)"
   ]
  },
  {
   "cell_type": "code",
   "execution_count": 334,
   "metadata": {},
   "outputs": [
    {
     "data": {
      "text/html": [
       "<div>\n",
       "<style scoped>\n",
       "    .dataframe tbody tr th:only-of-type {\n",
       "        vertical-align: middle;\n",
       "    }\n",
       "\n",
       "    .dataframe tbody tr th {\n",
       "        vertical-align: top;\n",
       "    }\n",
       "\n",
       "    .dataframe thead th {\n",
       "        text-align: right;\n",
       "    }\n",
       "</style>\n",
       "<table border=\"1\" class=\"dataframe\">\n",
       "  <thead>\n",
       "    <tr style=\"text-align: right;\">\n",
       "      <th></th>\n",
       "      <th>source_target</th>\n",
       "      <th>path_steps</th>\n",
       "      <th>finished</th>\n",
       "      <th>main_category</th>\n",
       "    </tr>\n",
       "  </thead>\n",
       "  <tbody>\n",
       "    <tr>\n",
       "      <th>0</th>\n",
       "      <td>Achilles_tendon_Ocean</td>\n",
       "      <td>4.921569</td>\n",
       "      <td>0.784314</td>\n",
       "      <td>Geography</td>\n",
       "    </tr>\n",
       "    <tr>\n",
       "      <th>1</th>\n",
       "      <td>Asteroid_Viking</td>\n",
       "      <td>5.421469</td>\n",
       "      <td>0.589266</td>\n",
       "      <td>History</td>\n",
       "    </tr>\n",
       "    <tr>\n",
       "      <th>2</th>\n",
       "      <td>Batman_Bible</td>\n",
       "      <td>4.086207</td>\n",
       "      <td>0.741379</td>\n",
       "      <td>Religion</td>\n",
       "    </tr>\n",
       "    <tr>\n",
       "      <th>3</th>\n",
       "      <td>Bird_Adolf_Hitler</td>\n",
       "      <td>3.976744</td>\n",
       "      <td>0.829457</td>\n",
       "      <td>People</td>\n",
       "    </tr>\n",
       "    <tr>\n",
       "      <th>4</th>\n",
       "      <td>Brain_Telephone</td>\n",
       "      <td>4.523483</td>\n",
       "      <td>0.508806</td>\n",
       "      <td>Design_and_Technology</td>\n",
       "    </tr>\n",
       "    <tr>\n",
       "      <th>5</th>\n",
       "      <td>Cat_Computer</td>\n",
       "      <td>4.740000</td>\n",
       "      <td>0.570000</td>\n",
       "      <td>IT</td>\n",
       "    </tr>\n",
       "    <tr>\n",
       "      <th>6</th>\n",
       "      <td>Cat_Microsoft</td>\n",
       "      <td>5.387755</td>\n",
       "      <td>0.571429</td>\n",
       "      <td>Business_Studies</td>\n",
       "    </tr>\n",
       "    <tr>\n",
       "      <th>7</th>\n",
       "      <td>Computer_Russia</td>\n",
       "      <td>3.800000</td>\n",
       "      <td>0.828571</td>\n",
       "      <td>Countries</td>\n",
       "    </tr>\n",
       "    <tr>\n",
       "      <th>8</th>\n",
       "      <td>Pyramid_Bean</td>\n",
       "      <td>5.530265</td>\n",
       "      <td>0.404792</td>\n",
       "      <td>Everyday_life</td>\n",
       "    </tr>\n",
       "    <tr>\n",
       "      <th>9</th>\n",
       "      <td>Theatre_Zebra</td>\n",
       "      <td>5.337648</td>\n",
       "      <td>0.509285</td>\n",
       "      <td>Science</td>\n",
       "    </tr>\n",
       "  </tbody>\n",
       "</table>\n",
       "</div>"
      ],
      "text/plain": [
       "           source_target  path_steps  finished          main_category\n",
       "0  Achilles_tendon_Ocean    4.921569  0.784314              Geography\n",
       "1        Asteroid_Viking    5.421469  0.589266                History\n",
       "2           Batman_Bible    4.086207  0.741379               Religion\n",
       "3      Bird_Adolf_Hitler    3.976744  0.829457                 People\n",
       "4        Brain_Telephone    4.523483  0.508806  Design_and_Technology\n",
       "5           Cat_Computer    4.740000  0.570000                     IT\n",
       "6          Cat_Microsoft    5.387755  0.571429       Business_Studies\n",
       "7        Computer_Russia    3.800000  0.828571              Countries\n",
       "8           Pyramid_Bean    5.530265  0.404792          Everyday_life\n",
       "9          Theatre_Zebra    5.337648  0.509285                Science"
      ]
     },
     "execution_count": 334,
     "metadata": {},
     "output_type": "execute_result"
    }
   ],
   "source": [
    "# Selected games dataframe\n",
    "selected_games = ['Brain_Telephone','Theatre_Zebra','Asteroid_Viking','Pyramid_Bean','Bird_Adolf_Hitler','Cat_Computer',\n",
    "                 'Cat_Microsoft','Batman_Bible','Achilles_tendon_Ocean','Computer_Russia']\n",
    "paths_all_category_selected = paths_all_category[paths_all_category.source_target.isin(selected_games)]\n",
    "paths_all_category_selected\n",
    "selected_games_df = paths_all_category_selected.groupby('source_target').agg({'path_steps':'mean','finished':'mean','main_category':'first'}).reset_index()\n",
    "selected_games_df"
   ]
  },
  {
   "cell_type": "code",
   "execution_count": 335,
   "metadata": {},
   "outputs": [
    {
     "data": {
      "image/png": "[encoded data removed]",
      "text/plain": [
       "<Figure size 1000x600 with 1 Axes>"
      ]
     },
     "metadata": {},
     "output_type": "display_data"
    }
   ],
   "source": [
    "# Average Steps Taken for 10 Selected Games from Different Categories\n",
    "plt.figure(figsize=(10,6))\n",
    "sns.barplot(x='main_category', y='path_steps', data=selected_games_df.sort_values('path_steps'))\n",
    "plt.title('Average Steps Taken for 10 Selected Games from Different Categories')\n",
    "plt.xlabel('Game Category')\n",
    "plt.ylabel('Average Steps Taken')\n",
    "plt.xticks(rotation=45)\n",
    "plt.show()"
   ]
  },
  {
   "cell_type": "code",
   "execution_count": 336,
   "metadata": {},
   "outputs": [
    {
     "data": {
      "image/png": "[encoded data removed]",
      "text/plain": [
       "<Figure size 1000x600 with 1 Axes>"
      ]
     },
     "metadata": {},
     "output_type": "display_data"
    }
   ],
   "source": [
    "# Finished Rate for 10 Selected Games from Different Categories\n",
    "plt.figure(figsize=(10,6))\n",
    "sns.barplot(x='main_category', y='finished', data=selected_games_df.sort_values('finished'))\n",
    "plt.title('Finished Rate for 10 Selected Games from Different Categories')\n",
    "plt.xlabel('Game Category')\n",
    "plt.ylabel('Finished Rate')\n",
    "plt.xticks(rotation=45)\n",
    "plt.show()"
   ]
  }
 ],
 "metadata": {
  "kernelspec": {
   "display_name": "Python 3 (ipykernel)",
   "language": "python",
   "name": "python3"
  },
  "language_info": {
   "codemirror_mode": {
    "name": "ipython",
    "version": 3
   },
   "file_extension": ".py",
   "mimetype": "text/x-python",
   "name": "python",
   "nbconvert_exporter": "python",
   "pygments_lexer": "ipython3",
   "version": "3.9.13"
  }
 },
 "nbformat": 4,
 "nbformat_minor": 4
}
