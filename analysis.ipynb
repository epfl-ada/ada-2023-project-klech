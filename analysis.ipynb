{
 "cells": [
  {
   "cell_type": "markdown",
   "metadata": {},
   "source": [
    "--------------------------------------------------------------"
   ]
  },
  {
   "cell_type": "markdown",
   "metadata": {},
   "source": [
    "<h1 style=\"text-align: center;\">Man vs LLMs: A comparison of Human and LLM Wikispeedia Strategy</h1>"
   ]
  },
  {
   "cell_type": "markdown",
   "metadata": {},
   "source": [
    "<img src=\"HUMANvsAI.webp\"  style=\"width:20%; display: block; margin: 0 auto;\">"
   ]
  },
  {
   "cell_type": "markdown",
   "metadata": {},
   "source": [
    "--------------------------------------------------------------"
   ]
  },
  {
   "cell_type": "markdown",
   "metadata": {},
   "source": [
    "#### Table of Contents:\n",
    "\n",
    "- ##### [0. Quick Setup](#0.-Quick-Setup)\n",
    "    - ##### [0.1 Install and import the necessary Python libraries](#0.1-Install-and-import-the-necessary-Python-libraries)\n",
    "    - ##### [0.2 Access the data](#0.2.-Access-the-data)\n",
    "\n",
    "- ##### [1. Wikispeedia Page-Pair Selection](#1.-Wikispeedia-Page-Pair-Selection)\n",
    "- ##### [2. LLM and Prompt Selection](#2.-LLM-and-Prompt-Selection)\n",
    "- ##### [3. Methods](#3.-Methods)\n",
    "    - ##### [3.1 Are LLM paths sensical to humans? ](#3.1-Are-LLM-paths-sensical-to-humans?)\n",
    "    - ##### [3.2 Are LLM paths faster or slower than humans'?](#3.2-Are-LLM-paths-faster-or-slower-than-humans'?)\n",
    "    - ##### [3.3 Do LLMs employ the same 'zoom-out' to hub, 'zoom-in' to spoke strategy as humans?](#3.3-Do-LLMs-employ-the-same-'zoom-out'-to-hub,-'zoom-in'-to-spoke-strategy-as-humans?)\n",
    "\n"
   ]
  },
  {
   "cell_type": "markdown",
   "metadata": {},
   "source": [
    "## 0. Quick Setup\n",
    "Since the code deals with a share of LLMs from Hugging Face, we recommend running the code on Google Colab if you don't have a GPU on your local machine.\n",
    "\n",
    "Note that in sections [0.1 Install and import the necessary Python libraries](#0.1-Install-and-import-the-necessary-Python-libraries) and [0.2 Access the data](#0.2.-Access-the-data) you will have to run different code based on whether you are running the tutorial on Colab or on Jupyter Notebook. An `if statement` will take care of this. You only need to select `'colab'` or `'jupyter_notebook'` for the `platform` variable below."
   ]
  },
  {
   "cell_type": "code",
   "execution_count": 1,
   "metadata": {},
   "outputs": [],
   "source": [
    "platform = 'jupyter_notebook' #@param ['colab', 'jupyter_notebook'] {allow-input: true}"
   ]
  },
  {
   "cell_type": "markdown",
   "metadata": {},
   "source": [
    "### 0.1 Install and import the necessary Python libraries"
   ]
  },
  {
   "cell_type": "code",
   "execution_count": 2,
   "metadata": {},
   "outputs": [
    {
     "name": "stdout",
     "output_type": "stream",
     "text": [
      "Processing /Users/ernestobocini/Desktop/ada-2023-project-klech\n",
      "  Preparing metadata (setup.py) ... \u001b[?25ldone\n",
      "\u001b[?25h\u001b[31mERROR: No .egg-info directory found in /private/var/folders/qx/mbfp35d17jz5g1qfw4xsv3yc0000gn/T/pip-pip-egg-info-r7p2nbl2\u001b[0m\u001b[31m\n",
      "\u001b[0m"
     ]
    }
   ],
   "source": [
    "if platform == 'colab':\n",
    "    !pip install transformers accelerate einops\n",
    "\n",
    "else:\n",
    "    !pip install . # this will install all the requirements specified in the setup.py file. Note that: you might want to crate a new venv before running this command."
   ]
  },
  {
   "cell_type": "markdown",
   "metadata": {},
   "source": [
    "### 0.2 Access the data"
   ]
  },
  {
   "cell_type": "code",
   "execution_count": 3,
   "metadata": {},
   "outputs": [],
   "source": [
    "# \\TODO: add a link to download the data from a drive folder with authorization \n",
    "if platform == 'colab':\n",
    "    from google.colab import drive\n",
    "    drive.mount('/content/drive/', force_remount=True)\n",
    "    data_dir = '/content/drive/MyDrive/wikispeedia_data/wikispeedia_paths-and-graph/' #@param {type:\"string\"}\n",
    "else: \n",
    "    data_dir = './dependencies/wikispeedia_paths-and-graph/'"
   ]
  },
  {
   "cell_type": "markdown",
   "metadata": {},
   "source": [
    "## 1. Wikispeedia Page-Pair Selection"
   ]
  },
  {
   "cell_type": "code",
   "execution_count": null,
   "metadata": {},
   "outputs": [],
   "source": [
    "# isolate the most frequently played page pairs\n",
    "# select a subset that represent a good distribution\n",
    "## by this i mean we should ensure variety in categories, variety in how similar origin and goal are, variety in whether games were completed or not completed, etc\n",
    "\n",
    "# proposed df:\n",
    "\n",
    "# | pair | % games completed | avg length of game | sd of length of game | category | ... |"
   ]
  },
  {
   "cell_type": "markdown",
   "metadata": {},
   "source": [
    "## 2. LLM and Prompt Selection"
   ]
  },
  {
   "cell_type": "code",
   "execution_count": null,
   "metadata": {},
   "outputs": [],
   "source": [
    "# show results for different LLMs\n",
    "# show results for different prompts\n",
    "# explain selection of LLM and prompt"
   ]
  },
  {
   "cell_type": "markdown",
   "metadata": {},
   "source": [
    "**We will try the following LMs:**\n",
    "\n",
    "1. RoBERTa : \\TODO add brief description\n",
    "2. T5 : \\TODO add brief description\n",
    "3. GPT2 : \\TODO add brief description\n",
    "4. Falcon 7b : \\TODO add brief description\n",
    "\n",
    "**Test setup:**\n",
    "In order to test the validity of the chosen LM we will ask it to navigate from *World_War_II* → *World_War_I* . This test is easily solvable by humans in two steps. It will allow us to discriminate between models that are able to: a) answer by giving a word inside the list representing the whole links of the starting page; b) choose the target word as soon as it appears.\n",
    "\n",
    "We recognise that the models as loaded and tested directly from HuggingFace without any further fine-tuning on our task might have an hard time doing so, especially given their (relatively) small sizes."
   ]
  },
  {
   "cell_type": "markdown",
   "metadata": {},
   "source": [
    "### 2.0 - Defining the initial set up for our test"
   ]
  },
  {
   "cell_type": "code",
   "execution_count": 1,
   "metadata": {},
   "outputs": [
    {
     "ename": "",
     "evalue": "",
     "output_type": "error",
     "traceback": [
      "\u001b[1;31mThe Kernel crashed while executing code in the the current cell or a previous cell. Please review the code in the cell(s) to identify a possible cause of the failure. Click <a href='https://aka.ms/vscodeJupyterKernelCrash'>here</a> for more info. View Jupyter <a href='command:jupyter.viewOutput'>log</a> for further details."
     ]
    }
   ],
   "source": [
    "# import useful libraries \n",
    "import urllib.parse\n",
    "import pandas as pd\n",
    "\n",
    "from transformers import AutoTokenizer, AutoModelForCausalLM\n",
    "import transformers\n",
    "import torch\n",
    "\n",
    "# extrapolating the link lists for a given wikipedia page:\n",
    "\n",
    "# Dict of lists containing links\n",
    "links = {}\n",
    "df = pd.read_csv(data_dir + 'links.tsv', sep='\\t', skiprows=12, header=None)\n",
    "# Iterate over the dataframe rows\n",
    "for index, row in df.iterrows():\n",
    "    start_page = urllib.parse.unquote(row[0])\n",
    "    link_page = urllib.parse.unquote(row[1])\n",
    "    if start_page in links:\n",
    "        links[start_page].append(link_page)\n",
    "    else:\n",
    "        links[start_page] = [link_page]\n",
    "\n",
    "# Function for pulling links\n",
    "def get_links_from_wikipedia_page(page_title):\n",
    "    return links.get(page_title, [])\n",
    "\n",
    "# Example of use (print only the first 5 links)\n",
    "lks = get_links_from_wikipedia_page('Switzerland')\n",
    "lks[:5]"
   ]
  },
  {
   "cell_type": "code",
   "execution_count": 5,
   "metadata": {},
   "outputs": [],
   "source": [
    "# define the question-answer setup:\n",
    "question = \"What is semantically closest to 'Vikings'?\"\n",
    "\n",
    "ls = get_links_from_wikipedia_page('Asteroid')\n",
    "initial_context = f\"Choose one option in the following set : {', '.join(ls)}\"\n",
    "\n",
    "# define the text-generation setup:\n",
    "# initial_prompt = f\"What is the one concept that is semantically closest to 'World_War_I' from the following set : {', '.join(ls)} ? The closest concept is: \"\n",
    "# initial_prompt = f\"Choose the concept that is closest to 'World_War_I' inside the following set: {', '.join(ls)} ? Generate only the concept: \"\n",
    "initial_prompt = f\"The one concept that is semantically closest to 'Vikings' from the set : [{', '.join(ls)}] is: \""
   ]
  },
  {
   "cell_type": "markdown",
   "metadata": {},
   "source": [
    "##### 2.1 - RoBERTa"
   ]
  },
  {
   "cell_type": "code",
   "execution_count": 6,
   "metadata": {},
   "outputs": [
    {
     "ename": "",
     "evalue": "",
     "output_type": "error",
     "traceback": [
      "\u001b[1;31mThe Kernel crashed while executing code in the the current cell or a previous cell. Please review the code in the cell(s) to identify a possible cause of the failure. Click <a href='https://aka.ms/vscodeJupyterKernelCrash'>here</a> for more info. View Jupyter <a href='command:jupyter.viewOutput'>log</a> for further details."
     ]
    }
   ],
   "source": [
    "from transformers import pipeline\n",
    "\n",
    "# Load the question-answering pipeline\n",
    "qa_pipeline = pipeline(\"question-answering\", model=\"deepset/roberta-base-squad2\")\n",
    "\n",
    "# Get the answer\n",
    "result = qa_pipeline(question=question, context=initial_context)\n",
    "print(f\"Answer: '{result['answer']}'\")\n",
    "\n",
    "print('Is the target goal in the provided list?', 'World_War_I' in ls)\n",
    "print('Is the model answer in the provided list?', 'World_War_I' in ls)"
   ]
  },
  {
   "cell_type": "markdown",
   "metadata": {},
   "source": [
    "##### 2.2 - T5"
   ]
  },
  {
   "cell_type": "markdown",
   "metadata": {},
   "source": [
    "##### 2.3 - GPT2"
   ]
  },
  {
   "cell_type": "markdown",
   "metadata": {},
   "source": [
    "##### 2.4 - Falcon 7b Instruct"
   ]
  },
  {
   "cell_type": "code",
   "execution_count": null,
   "metadata": {},
   "outputs": [],
   "source": [
    "model = \"tiiuae/falcon-7b-instruct\" #tiiuae/falcon-40b-instruct\n",
    "tokenizer = AutoTokenizer.from_pretrained(model, device_map=0)\n",
    "\n",
    "pipeline = transformers.pipeline(\n",
    "    \"text-generation\",\n",
    "    model=model,\n",
    "    tokenizer=tokenizer,\n",
    "    torch_dtype=torch.bfloat16,\n",
    "    trust_remote_code=True,\n",
    "    device_map='auto',\n",
    ")"
   ]
  },
  {
   "cell_type": "code",
   "execution_count": null,
   "metadata": {},
   "outputs": [],
   "source": [
    "sequences = pipeline(\n",
    "    initial_prompt,\n",
    "    max_length=1e4,\n",
    "    do_sample=True,\n",
    "    top_k=50,\n",
    "    num_return_sequences=1,\n",
    "    eos_token_id=tokenizer.eos_token_id,\n",
    ")\n",
    "\n",
    "for seq in sequences:\n",
    "    print(f\"Result: {seq['generated_text']}\")\n",
    "\n",
    "\n",
    "list_of_answers = [] # list of string\n",
    "\n",
    "for seq in sequences:\n",
    "    list_of_answers.append(seq['generated_text'].split(\"\\n\")[-1])\n",
    "\n",
    "most_freq = max(set(list_of_answers), key = list_of_answers.count) # most frequent answer\n",
    "print('Answer: ', most_freq)\n",
    "\n",
    "print('Is the target goal in the provided list?', 'Vikings' in ls)\n",
    "print('Is the model answer in the provided list?', 'Film' in ls)"
   ]
  },
  {
   "cell_type": "markdown",
   "metadata": {},
   "source": [
    "##### 2.5 - MPT-7B"
   ]
  },
  {
   "cell_type": "markdown",
   "metadata": {},
   "source": [
    "## 3. Methods"
   ]
  },
  {
   "cell_type": "markdown",
   "metadata": {},
   "source": [
    "We use this section to demonstrate some of the analysis we will perform once we have LLM-derived Wikispeedia data. \n",
    "\n",
    "At present, human-derived Wikispeedia data is used as a 'stand-in' for LLM-derived data where necessary. "
   ]
  },
  {
   "cell_type": "code",
   "execution_count": 4,
   "metadata": {},
   "outputs": [],
   "source": [
    "# tmp - should be handled above.\n",
    "\n",
    "import numpy as np\n",
    "import pandas as pd\n",
    "import matplotlib.pyplot as plt\n",
    "\n",
    "llm_wikispeedia_pairs = pd.read_csv('dependencies/llm_wikispeedia_pairs.csv')\n",
    "paths_finished = pd.read_csv('dependencies/wikispeedia_paths-and-graph/paths_finished.tsv', sep='\\t', skiprows = 16, header = None, names = ['hashedIpAddress', 'timestamp', 'durationInSec', 'path', 'rating'])\n",
    "paths_unfinished = pd.read_csv('dependencies/wikispeedia_paths-and-graph/paths_unfinished.tsv', sep='\\t', skiprows=17, header = None, names = ['hashedIpAddress', 'timestamp', 'durationInSec', 'path', 'target', 'type'])\n",
    "pfin_etc = pd.concat([paths_finished['path'].str.split(\";\").apply(lambda path: path[0]), paths_finished['path'].str.split(\";\").apply(lambda path: path[-1]), paths_finished['path'].str.split(\";\").apply(lambda path: len(path)), paths_finished['path'].str.split(\";\").apply(lambda path: path)], axis=1)\n",
    "pfin_etc.columns = ['origin', 'goal', 'path_l', 'path']\n",
    "most_popular = pfin_etc.groupby(by=['origin', 'goal']).agg('count').rename(columns={\"path_l\": \"total_pair_rounds\"}).sort_values(by='total_pair_rounds', ascending=False).reset_index()[0:10][['origin', 'goal', 'total_pair_rounds']]\n",
    "most_popular.to_csv('dependencies/top10pairs.csv')"
   ]
  },
  {
   "cell_type": "markdown",
   "metadata": {},
   "source": [
    "#### 3.1 Are LLM paths sensical to humans?"
   ]
  },
  {
   "cell_type": "code",
   "execution_count": 5,
   "metadata": {},
   "outputs": [],
   "source": [
    "# pull in BART encodings\n",
    "# encode concepts in LLM paths\n",
    "# across all LLM games of length N, find the embedding distance to goal and embedding distances to next page at each round\n",
    "# plot these curves\n",
    "# calculate proportion that strictly decrease throughout game\n",
    "# supplement with Word2Vec embeddings, TF-IDF Wikipage embeddings"
   ]
  },
  {
   "cell_type": "code",
   "execution_count": 9,
   "metadata": {},
   "outputs": [],
   "source": [
    "# BART"
   ]
  },
  {
   "cell_type": "code",
   "execution_count": null,
   "metadata": {},
   "outputs": [],
   "source": [
    "from transformers import BartTokenizer, BartModel\n",
    "from scipy.spatial.distance import cosine\n",
    "import torch\n",
    "\n",
    "# Load pre-trained model and tokenizer\n",
    "model = 'facebook/bart-large'\n",
    "tokenizer = BartTokenizer.from_pretrained(model)\n",
    "bartm = BartModel.from_pretrained(model)\n",
    "\n",
    "# List of words to embed\n",
    "word_list = ['apple', 'orange', 'banana', 'grape', 'pineapple']\n",
    "\n",
    "# Encode words and retrieve embeddings\n",
    "word_embeddings = {}\n",
    "for word in word_list:\n",
    "    input_ids = tokenizer.encode(word, return_tensors='pt')\n",
    "    with torch.no_grad():\n",
    "        output = model(input_ids=input_ids)\n",
    "    last_hidden_states = output.last_hidden_state.squeeze().mean(dim=0).numpy()\n",
    "    word_embeddings[word] = last_hidden_states\n",
    "\n",
    "# Calculate distances between embeddings\n",
    "distance = cosine(word_embeddings[word1], word_embeddings[word2])\n"
   ]
  },
  {
   "cell_type": "code",
   "execution_count": null,
   "metadata": {},
   "outputs": [],
   "source": [
    "# TF-IDF vectorizer"
   ]
  },
  {
   "cell_type": "code",
   "execution_count": null,
   "metadata": {},
   "outputs": [],
   "source": [
    "from sklearn.feature_extraction.text import TfidfVectorizer\n",
    "\n",
    "# Sample corpus (replace this with your text data)\n",
    "corpus = [\n",
    "    \"This is the first document.\",\n",
    "    \"This document is the second document.\",\n",
    "    \"And this is the third one.\",\n",
    "    \"Is this the first document?\",\n",
    "]\n",
    "\n",
    "# Initialize the TF-IDF vectorizer\n",
    "vectorizer = TfidfVectorizer()\n",
    "\n",
    "# Fit and transform the corpus to TF-IDF vectors\n",
    "tfidf_matrix = vectorizer.fit_transform(corpus)\n",
    "\n",
    "# Get the feature names (words) in the corpus\n",
    "feature_names = vectorizer.get_feature_names_out()\n",
    "\n",
    "# Print the TF-IDF matrix and feature names\n",
    "print(\"TF-IDF Matrix:\")\n",
    "print(tfidf_matrix.toarray())\n",
    "print(\"\\nFeature Names:\")\n",
    "print(feature_names)\n"
   ]
  },
  {
   "cell_type": "markdown",
   "metadata": {},
   "source": [
    "#### 3.2 Are LLM paths faster or slower than humans'?"
   ]
  },
  {
   "cell_type": "code",
   "execution_count": null,
   "metadata": {},
   "outputs": [],
   "source": [
    "# across all LLM games of pair origin-goal, find the avg rounds needed to complete game\n",
    "# do the same for human games of pair origin-goal\n",
    "# match origin-goal pairs across LLM and humans\n",
    "# perform a t-test on the difference in match averages "
   ]
  },
  {
   "cell_type": "code",
   "execution_count": 173,
   "metadata": {},
   "outputs": [
    {
     "data": {
      "image/png": "[encoded data removed]",
      "text/plain": [
       "<Figure size 640x480 with 1 Axes>"
      ]
     },
     "metadata": {},
     "output_type": "display_data"
    }
   ],
   "source": [
    "# distribution of game lengths for a couple popular origin-goal pairs\n",
    "lengths = pd.merge(most_popular, pfin_etc, how='left', on=['origin', 'goal'])\n",
    "lengths = lengths.groupby(['origin', 'goal', 'path_l']).agg('count') / lengths.groupby(['origin', 'goal']).agg('count')\n",
    "lengths = lengths['total_pair_rounds'].reset_index().query(\"(origin == 'Asteroid' and goal == 'Viking') or (origin == 'Theatre' and goal == 'Zebra')\")\n",
    "lengths['cum_completed'] = lengths.groupby(['origin', 'goal'])['total_pair_rounds'].agg('cumsum')\n",
    "lengths = lengths.query('path_l <= 15')\n",
    "\n",
    "# graph\n",
    "groups = lengths.groupby(['origin', 'goal'])\n",
    "fig, ax = plt.subplots()\n",
    "for name, group in groups:\n",
    "    ax.plot(group['path_l'], group['cum_completed'], marker='o', label=(name[0] + \" -> \" + name[1]))\n",
    "\n",
    "ax.set_xlabel('Game Length')\n",
    "ax.set_ylabel('')\n",
    "ax.set_title('Share of Games Completed by Length')\n",
    "#ax.set_yscale('log')\n",
    "ax.set_yticks([.25, .5, .75, 1])\n",
    "ax.set_yticklabels(['25%', '50%', '75%', '100%'])\n",
    "ax.legend()\n",
    "plt.show()"
   ]
  },
  {
   "cell_type": "markdown",
   "metadata": {},
   "source": [
    "Though the graph above displays cumulative completions rates by game length for two *human*-derived page pairs, once we have LLM-derived data, we can match page pairs between our LLM and humans to observe differences in game length distributions - both at the pair level and in the aggregate."
   ]
  },
  {
   "cell_type": "markdown",
   "metadata": {},
   "source": [
    "#### 3.3 Do LLMs employ the same 'zoom-out' to hub, 'zoom-in' to spoke strategy as humans?"
   ]
  },
  {
   "cell_type": "code",
   "execution_count": null,
   "metadata": {},
   "outputs": [],
   "source": [
    "# across all LLM games of length N, calculate average degree (length of prompt list) at each round\n",
    "# fit curve to quadratic model, perform goodness of fit tests\n",
    "# stronger version: test for equality of curves between humans and LLM for the same page pair"
   ]
  },
  {
   "cell_type": "code",
   "execution_count": 5,
   "metadata": {},
   "outputs": [],
   "source": [
    "import urllib.parse\n",
    "import statsmodels.api as sm\n",
    "import pandas as pd\n",
    "\n",
    "links = {}\n",
    "df = pd.read_csv('dependencies/wikispeedia_paths-and-graph/links.tsv', sep='\\t', skiprows=12, header=None)\n",
    "for index, row in df.iterrows(): \n",
    "    start_page = urllib.parse.unquote(row[0])\n",
    "    link_page = urllib.parse.unquote(row[1])\n",
    "    if start_page in links:\n",
    "        links[start_page].append(link_page)\n",
    "    else:\n",
    "        links[start_page] = [link_page]\n",
    "def get_links_from_wikipedia_page(page_title):\n",
    "    return links.get(page_title, [])\n",
    "\n",
    "paths = pd.merge(most_popular, pfin_etc, how='left', on=['origin', 'goal'])\n",
    "paths['degree_path'] = paths['path'].apply(lambda path: [len(get_links_from_wikipedia_page(page)) for page in path])"
   ]
  },
  {
   "cell_type": "code",
   "execution_count": 10,
   "metadata": {},
   "outputs": [
    {
     "data": {
      "image/png": "[encoded data removed]",
      "text/plain": [
       "<Figure size 640x480 with 1 Axes>"
      ]
     },
     "metadata": {},
     "output_type": "display_data"
    }
   ],
   "source": [
    "mea_at_stage = {}\n",
    "moe_at_stage = {}\n",
    "\n",
    "for game_length in [3, 4, 5, 6, 7]:\n",
    "    mea_at_stage[game_length] = {}\n",
    "    moe_at_stage[game_length] = {}\n",
    "    for i, row in paths.iterrows():\n",
    "        if len(row['degree_path']) == game_length:\n",
    "            for j in range(len(row['degree_path'])):\n",
    "                if j not in mea_at_stage[game_length].keys():\n",
    "                    mea_at_stage[game_length][j] = []\n",
    "                mea_at_stage[game_length][j].append(row['degree_path'][j])\n",
    "    for key in mea_at_stage[game_length].keys():\n",
    "        moe_at_stage[game_length][key] = 1.96 * (np.std(mea_at_stage[game_length][key], ddof=1) / np.sqrt(len(mea_at_stage[game_length][key])))\n",
    "        mea_at_stage[game_length][key] = (np.mean(mea_at_stage[game_length][key]))\n",
    "    \n",
    "for game_length in [3, 4, 5, 6, 7]:\n",
    "    mean_list = list(mea_at_stage[game_length].values())\n",
    "    mofe_list = list(moe_at_stage[game_length].values())\n",
    "    plt.errorbar(range(len(mean_list)), mean_list, yerr=mofe_list, fmt='-o', capsize=5)\n",
    " \n",
    "plt.xlabel('Time')\n",
    "plt.ylabel('Avg. Outgoing Links')\n",
    "plt.title('Average Degree Over Time')\n",
    "plt.grid(True)\n",
    "plt.show()"
   ]
  },
  {
   "cell_type": "markdown",
   "metadata": {},
   "source": [
    "The graph above displays average page degree at each stage of 3-, 4-, 5-, 6-, and 7-round games. Each curve has just one local (and therefore global) maximum that occurs *after* the initial page. This corresponds to a 'zoom-out', 'zoom-in' strategy. Once we have LLM-derived data, we can calculate the same degree averages for LLM paths and use the function below to check if the resultant curves have just one global maximum."
   ]
  },
  {
   "cell_type": "code",
   "execution_count": 23,
   "metadata": {},
   "outputs": [],
   "source": [
    "def count_local_maxima(means):\n",
    "    loc_max = 0\n",
    "    for i in range(1, len(means) - 1):\n",
    "        if means[i] > means[i - 1] and means[i] > means[i + 1]:\n",
    "            loc_max += 1\n",
    "    if loc_max == 1:\n",
    "        pass\n",
    "    else:\n",
    "        print(\"Multiple local maxima!\")\n",
    "\n",
    "for game_degree in [3, 4, 5, 6, 7]:\n",
    "    count_local_maxima(list(mea_at_stage[game_degree].values()))"
   ]
  },
  {
   "cell_type": "markdown",
   "metadata": {},
   "source": [
    "#### 3.4 Does LLM 'backtrack' behavior differ from humans?"
   ]
  },
  {
   "cell_type": "code",
   "execution_count": 187,
   "metadata": {},
   "outputs": [
    {
     "data": {
      "text/plain": [
       "[19, 58, 60, 22, 23, 23, 43, 62]"
      ]
     },
     "execution_count": 187,
     "metadata": {},
     "output_type": "execute_result"
    }
   ],
   "source": [
    "# If LLM cycles, remove intermediary pages and treat cycle as a 'backtrack'\n",
    "# tbd\n"
   ]
  },
  {
   "cell_type": "code",
   "execution_count": null,
   "metadata": {},
   "outputs": [],
   "source": []
  }
 ],
 "metadata": {
  "kernelspec": {
   "display_name": "Python 3 (ipykernel)",
   "language": "python",
   "name": "python3"
  },
  "language_info": {
   "codemirror_mode": {
    "name": "ipython",
    "version": 3
   },
   "file_extension": ".py",
   "mimetype": "text/x-python",
   "name": "python",
   "nbconvert_exporter": "python",
   "pygments_lexer": "ipython3",
   "version": "3.9.18"
  }
 },
 "nbformat": 4,
 "nbformat_minor": 4
}
